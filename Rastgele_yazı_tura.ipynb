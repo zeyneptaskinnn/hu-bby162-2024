{
  "nbformat": 4,
  "nbformat_minor": 0,
  "metadata": {
    "colab": {
      "provenance": [],
      "authorship_tag": "ABX9TyOxsjItFEJ+FCR7jiNO06mM",
      "include_colab_link": true
    },
    "kernelspec": {
      "name": "python3",
      "display_name": "Python 3"
    },
    "language_info": {
      "name": "python"
    }
  },
  "cells": [
    {
      "cell_type": "markdown",
      "metadata": {
        "id": "view-in-github",
        "colab_type": "text"
      },
      "source": [
        "<a href=\"https://colab.research.google.com/github/zeyneptaskinnn/hu-bby162-2024/blob/main/Rastgele_yaz%C4%B1_tura.ipynb\" target=\"_parent\"><img src=\"https://colab.research.google.com/assets/colab-badge.svg\" alt=\"Open In Colab\"/></a>"
      ]
    },
    {
      "cell_type": "code",
      "execution_count": 1,
      "metadata": {
        "colab": {
          "base_uri": "https://localhost:8080/"
        },
        "id": "lPe24s_J-Fu7",
        "outputId": "95aa14f5-a5e1-487a-8fb2-66a50e743a7f"
      },
      "outputs": [
        {
          "output_type": "stream",
          "name": "stdout",
          "text": [
            "Yazı\n"
          ]
        }
      ],
      "source": [
        "import random\n",
        "\n",
        "# Generate a random boolean value (True or False)\n",
        "random_boolean = random.choice([True, False])\n",
        "\n",
        "# Print \"Yazı\" if True, \"Tura\" if False\n",
        "if random_boolean:\n",
        "    print(\"Yazı\")\n",
        "else:\n",
        "    print(\"Tura\")\n"
      ]
    }
  ]
}