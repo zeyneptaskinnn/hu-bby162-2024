{
  "nbformat": 4,
  "nbformat_minor": 0,
  "metadata": {
    "colab": {
      "provenance": [],
      "authorship_tag": "ABX9TyOTHub9c3uZUZ1IqA289upm",
      "include_colab_link": true
    },
    "kernelspec": {
      "name": "python3",
      "display_name": "Python 3"
    },
    "language_info": {
      "name": "python"
    }
  },
  "cells": [
    {
      "cell_type": "markdown",
      "metadata": {
        "id": "view-in-github",
        "colab_type": "text"
      },
      "source": [
        "<a href=\"https://colab.research.google.com/github/zeyneptaskinnn/hu-bby162-2024/blob/main/testBeautifulSoap4.ipynb\" target=\"_parent\"><img src=\"https://colab.research.google.com/assets/colab-badge.svg\" alt=\"Open In Colab\"/></a>"
      ]
    },
    {
      "cell_type": "code",
      "source": [
        "from bs4 import BeautifulSoup\n",
        "\n",
        "# Örnek HTML içeriği\n",
        "html_doc = \"\"\"\n",
        "<html><head><title>Başlık</title></head>\n",
        "<body>\n",
        "<p class=\"paragraf\">Bu bir paragraf.</p>\n",
        "<a href=\"https://www.example.com\">Link</a>\n",
        "</body></html>\"\"\"\n",
        "\n",
        "# BeautifulSoup nesnesi oluştur\n",
        "soup = BeautifulSoup(html_doc, 'html.parser')\n",
        "\n",
        "# Başlığı bul ve yazdır\n",
        "baslik = soup.title.string\n",
        "print(\"Başlık:\", baslik)\n",
        "\n",
        "# Paragrafı bul ve yazdır\n",
        "paragraf = soup.find('p', class_='paragraf').string\n",
        "print(\"Paragraf:\", paragraf)\n",
        "\n",
        "# Linki bul ve href özelliğini yazdır\n",
        "link = soup.find('a')['href']\n",
        "print(\"Link:\", link)"
      ],
      "metadata": {
        "colab": {
          "base_uri": "https://localhost:8080/"
        },
        "id": "6iXopEq5I9ST",
        "outputId": "bba35a70-f1b8-4dd3-f855-b6069b74c633"
      },
      "execution_count": 1,
      "outputs": [
        {
          "output_type": "stream",
          "name": "stdout",
          "text": [
            "Başlık: Başlık\n",
            "Paragraf: Bu bir paragraf.\n",
            "Link: https://www.example.com\n"
          ]
        }
      ]
    }
  ]
}