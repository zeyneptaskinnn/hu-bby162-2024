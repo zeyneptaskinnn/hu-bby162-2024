{
  "nbformat": 4,
  "nbformat_minor": 0,
  "metadata": {
    "colab": {
      "provenance": [],
      "authorship_tag": "ABX9TyPff/PvB1uNYCGWQdDVt4q5",
      "include_colab_link": true
    },
    "kernelspec": {
      "name": "python3",
      "display_name": "Python 3"
    },
    "language_info": {
      "name": "python"
    }
  },
  "cells": [
    {
      "cell_type": "markdown",
      "metadata": {
        "id": "view-in-github",
        "colab_type": "text"
      },
      "source": [
        "<a href=\"https://colab.research.google.com/github/zeyneptaskinnn/hu-bby162-2024/blob/main/g%C3%BCnl%C3%BCk_men%C3%BC.ipynb\" target=\"_parent\"><img src=\"https://colab.research.google.com/assets/colab-badge.svg\" alt=\"Open In Colab\"/></a>"
      ]
    },
    {
      "cell_type": "code",
      "execution_count": null,
      "metadata": {
        "id": "ZPzMI3r5fpDQ"
      },
      "outputs": [],
      "source": [
        "import random\n",
        "yemekler = [\"pizza\", \"hamburger\", \"tavuk\", \"mantı\", \"köfte\", \"balık\", \"kebap\"]\n",
        "gunler = [\"Pazartesi\", \"Salı\", \"Çarşamba\", \"Perşembe\", \"Cuma\", \"Cumartesi\", \"Pazar\"]\n",
        "menu = {}\n",
        "for gun in gunler:\n",
        "  secilen_yemek = random.choice(yemekler)\n",
        "  menu[gun] = secilen_yemek\n",
        "for gun, yemek in menu.items():\n",
        "    print(gun + \" günü için menü: \" + yemek)"
      ]
    }
  ]
}