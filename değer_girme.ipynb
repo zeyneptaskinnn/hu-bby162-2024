{
  "nbformat": 4,
  "nbformat_minor": 0,
  "metadata": {
    "colab": {
      "provenance": [],
      "authorship_tag": "ABX9TyPJq8pOkKaWCyXergorno9u",
      "include_colab_link": true
    },
    "kernelspec": {
      "name": "python3",
      "display_name": "Python 3"
    },
    "language_info": {
      "name": "python"
    }
  },
  "cells": [
    {
      "cell_type": "markdown",
      "metadata": {
        "id": "view-in-github",
        "colab_type": "text"
      },
      "source": [
        "<a href=\"https://colab.research.google.com/github/zeyneptaskinnn/hu-bby162-2024/blob/main/de%C4%9Fer_girme.ipynb\" target=\"_parent\"><img src=\"https://colab.research.google.com/assets/colab-badge.svg\" alt=\"Open In Colab\"/></a>"
      ]
    },
    {
      "cell_type": "code",
      "execution_count": 7,
      "metadata": {
        "colab": {
          "base_uri": "https://localhost:8080/"
        },
        "id": "1S-AH9WFBS-5",
        "outputId": "032b4ce8-84c4-481c-a133-bb1b81a72e31"
      },
      "outputs": [
        {
          "output_type": "stream",
          "name": "stdout",
          "text": [
            "Yaşınızı giriniz: 21\n",
            "Doğum tarihiniz 2003\n"
          ]
        }
      ],
      "source": [
        "guncelYil = 2024\n",
        "yas = input (\"Yaşınızı giriniz: \")\n",
        "print(\"Doğum tarihiniz \" + str(guncelYil - int(yas)))"
      ]
    }
  ]
}