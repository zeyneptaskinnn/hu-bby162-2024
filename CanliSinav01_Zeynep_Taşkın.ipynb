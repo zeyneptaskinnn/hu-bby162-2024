{
  "nbformat": 4,
  "nbformat_minor": 0,
  "metadata": {
    "colab": {
      "provenance": [],
      "include_colab_link": true
    },
    "kernelspec": {
      "name": "python3",
      "display_name": "Python 3"
    },
    "language_info": {
      "name": "python"
    }
  },
  "cells": [
    {
      "cell_type": "markdown",
      "metadata": {
        "id": "view-in-github",
        "colab_type": "text"
      },
      "source": [
        "<a href=\"https://colab.research.google.com/github/zeyneptaskinnn/hu-bby162-2024/blob/main/CanliSinav01_Zeynep_Ta%C5%9Fk%C4%B1n.ipynb\" target=\"_parent\"><img src=\"https://colab.research.google.com/assets/colab-badge.svg\" alt=\"Open In Colab\"/></a>"
      ]
    },
    {
      "cell_type": "markdown",
      "source": [
        "**Canlı Sınav 01'e hoşgeldiniz!**"
      ],
      "metadata": {
        "id": "ItmuxWgBbkC1"
      }
    },
    {
      "cell_type": "markdown",
      "source": [
        "Canlı sınav, bilgisayar laboratuvarında bilgisayar başında yapılan ve teslim edilen projeyi ifade etmektedir. Canlı sınavda yazmış olduğunuz kodlar sizin sorumluluğunuzdadır ve gerekirse hangi kodu neden yazdığınızı açık bir şekilde anlatabilmeniz gerekmektedir. Canlı sınav sırasında İnternet üzerindeki kaynaklar kullanılabilir ancak başka bir kişiden destek alınamaz.\n",
        "\n",
        "Canlı sınavın teslim şekli önceki proje çalışmasında olduğu gibidir. \"Canlı Sınav 01\" adlı Colab not defterinin bir kopyasını çıkarmalı, size ait olan bu kopya üzerinde soruları cevaplamalı, GitHub'daki ders deponuza size ait kopyayı yüklemeli ve not defterinin adresini metin alanına yazarak göndermelisiniz.\n",
        "\n",
        "Canlı sınavın doğru şekilde tamamlanması da sınavın önemli bir parçasıdır. Sınav için gönderdiğiniz adresi kontrol ediniz ve doğru dosyayı depoya yerleştirdiği bizden emin olunuz. Teslim sürecinde yapılan hatalar sınavdan 0 puan almanıza yol açabilir!\n",
        "\n",
        "Önemli Not: Soruları cecaplarken sadece şu ana kadar öğrendiğiniz kod yapılarını kullanmanız gerekmektedir!!!"
      ],
      "metadata": {
        "id": "KGjdjR5RbTgH"
      }
    },
    {
      "cell_type": "markdown",
      "source": [
        "**----- Sorular -----**"
      ],
      "metadata": {
        "id": "zBvdh4s8cOqM"
      }
    },
    {
      "cell_type": "markdown",
      "source": [
        "**Soru 1:** Bir giriş sisteminde kullanıcı adı olarak eposta ya da telefon numarası kullanılabilmektedir. Şifre ise tektir. Klavyeden doğru kullanıcı adı ve şifre girildiğinde ekrana \" Sisteme giriş yaptınız\" , yanlış kullanıcı adı girildiğinde \"kullanıcı adı hatalı\" , yanlış şifre girildiğinde \"şifre hatalı\" bilgisi yazdırılmalıdır. Kullanıcı adı hatalı ise şifre sorma adımına geçilmemelidir."
      ],
      "metadata": {
        "id": "ma0FVqgQiLBe"
      }
    },
    {
      "cell_type": "code",
      "source": [
        "#Soru 1 bu bölümde kodlanmalıdır\n",
        "eposta = \"a@a.net\"\n",
        "tel = \"532\"\n",
        "sifre = \"123\"\n",
        "kullanici_adi = input(\"Kullanıcı adınızı girin (eposta veya telefon numarası): \")\n",
        "sifre_gir = input(\"Şifrenizi girin: \")\n",
        "\n",
        "if kullanici_adi == eposta or kullanici_adi == tel:\n",
        "    if sifre_gir == sifre:\n",
        "        print(\"Sisteme giriş yaptınız.\")\n",
        "    else:\n",
        "        print(\"Şifre hatalı.\")\n",
        "else:\n",
        "    print(\"Kullanıcı adı hatalı.\")"
      ],
      "metadata": {
        "id": "Fj7wkLMcjp_7",
        "colab": {
          "base_uri": "https://localhost:8080/"
        },
        "outputId": "cf5f3d08-93bc-465e-982e-7adc40fc4f66"
      },
      "execution_count": 14,
      "outputs": [
        {
          "output_type": "stream",
          "name": "stdout",
          "text": [
            "Kullanıcı adınızı girin (eposta veya telefon numarası): 532\n",
            "Şifrenizi girin: 123\n",
            "Sisteme giriş yaptınız.\n"
          ]
        }
      ]
    },
    {
      "cell_type": "markdown",
      "source": [
        "Soru 2: Klavyeden girilen bir insan ismindeki harf sayısına göre ekrana bir cümle yazdırınız. Örneğin 4 harfli bir isim girildiğinde ekrana \"Dört dörtlük bir isim\", 6 harfli bir isim girildiğinde ekrana \"Altıncı hissin kuvvetli\" yazılabilmelidir. Klavyeden üçten az ya da yediden çok harfe sahip bir isim girildiğinde ise ekrana \"isminiz sisteme uygun değildir\" mesajı yazdırılmalıdır.\n"
      ],
      "metadata": {
        "id": "_CdcHvzAJJRU"
      }
    },
    {
      "cell_type": "code",
      "source": [
        "\n",
        "#Soru 2 bu bölümde kodlanmalıdır\n",
        "isim = input(\"Lütfen bir isim girin: \")\n",
        "uzunluk = len(isim)\n",
        "\n",
        "if uzunluk < 3 or uzunluk > 7:\n",
        "    print(\"İsminiz sisteme uygun değil.\")\n",
        "elif uzunluk == 3:\n",
        "    print(\"İsminiz üç harfli, sisteme uygun değil.\")\n",
        "elif uzunluk == 4:\n",
        "    print(\"Dört dörtlük bir isim.\")\n",
        "elif uzunluk == 5:\n",
        "    print(\"Beşik gibi sallanıyor.\")\n",
        "elif uzunluk == 6:\n",
        "    print(\"Altıncı hissin kuvvetli.\")\n",
        "elif uzunluk == 7:\n",
        "    print(\"Yedinci göbekten geliyor.\")"
      ],
      "metadata": {
        "id": "no7Zd1ZCh5U3",
        "colab": {
          "base_uri": "https://localhost:8080/"
        },
        "outputId": "34e55664-2524-429a-df14-83e876c6149b"
      },
      "execution_count": 23,
      "outputs": [
        {
          "output_type": "stream",
          "name": "stdout",
          "text": [
            "Lütfen bir isim girin: zeynep\n",
            "Altıncı hissin kuvvetli.\n"
          ]
        }
      ]
    },
    {
      "cell_type": "markdown",
      "source": [
        "**Soru 3:** 5 öğenin yer aldığı bir kelime tahmin oyunu oluşturun. Kelimeler bir liste içinde yer almalıdır. Klavyeden girilen kelime liste içinde yer alan kelimelerden biri ise ekrana \"bravo oyunu kazandınız\", aksi halde ise ekrana \"üzgünüm oyunu kaybettiniz\" mesajı gelmelidir."
      ],
      "metadata": {
        "id": "HnIqbjcCeNEV"
      }
    },
    {
      "cell_type": "code",
      "source": [
        "#Soru 3 bu bölümde kodlanmalıdır\n",
        "# Kelimeler listesi\n",
        "kelimeler = [\"elma\", \"armut\", \"portakal\", \"karpuz\", \"muz\"]\n",
        "\n",
        "# Kullanıcıdan kelime girişi alma\n",
        "tahmin = input(\"Lütfen bir kelime tahmin edin: \")\n",
        "\n",
        "# Tahminin doğruluğunu kontrol etme\n",
        "if tahmin in kelimeler:\n",
        "    print(\"Bravo! Oyunu kazandınız.\")\n",
        "else:\n",
        "    print(\"Üzgünüm! Oyunu kaybettiniz.\")\n",
        "\n"
      ],
      "metadata": {
        "id": "SjzG5g3ffTyv",
        "colab": {
          "base_uri": "https://localhost:8080/"
        },
        "outputId": "f0472840-3184-4bfc-b661-da1f8b4d8329"
      },
      "execution_count": 24,
      "outputs": [
        {
          "output_type": "stream",
          "name": "stdout",
          "text": [
            "Lütfen bir kelime tahmin edin: çilek\n",
            "Üzgünüm! Oyunu kaybettiniz.\n"
          ]
        }
      ]
    },
    {
      "cell_type": "markdown",
      "source": [
        "**Soru 4:** 5 öğenin yer aldığı bir sözlük oluşturun. Bu sözlükte 5 kelime ve bu 5 kelimenin anlamları yer almalıdır. Klavyeden girilen anahtar (key) eğer sözlükte varsa kelimenin anlamı ekrana yazdırılmalıdır. Eğer anahtar sözlükte yoksa sözlükte aranan kelimenin olmadığı bilgisi ekrana yazdırılmalıdır."
      ],
      "metadata": {
        "id": "p49cZFjJcXoS"
      }
    },
    {
      "cell_type": "code",
      "execution_count": 28,
      "metadata": {
        "id": "3whYCDz3a8QZ",
        "colab": {
          "base_uri": "https://localhost:8080/"
        },
        "outputId": "636ea66d-9b5a-4eef-9eed-e3cb6e528de0"
      },
      "outputs": [
        {
          "output_type": "stream",
          "name": "stdout",
          "text": [
            "Lütfen bir kelime girin: muz\n",
            "Sarı renkte, uzun bir meyve.\n"
          ]
        }
      ],
      "source": [
        "#Soru 4 bu bölümde kodlanmalıdır\n",
        "zeynebinsozlugu = {\n",
        "    \"elma\": \"Yuvarlak ve kırmızı bir meyve.\",\n",
        "    \"armut\": \"Taze yenilebilen bir meyve.\",\n",
        "    \"portakal\": \"Turuncu renkte bir meyve.\",\n",
        "    \"karpuz\": \"Büyük ve yeşil kabuklu bir meyve.\",\n",
        "    \"muz\": \"Sarı renkte, uzun bir meyve.\"\n",
        "}\n",
        "\n",
        "anahtar = input(\"Lütfen bir kelime girin: \")\n",
        "\n",
        "if anahtar in zeynebinsozlugu:\n",
        "    print(zeynebinsozlugu[anahtar])\n",
        "else:\n",
        "    print(\"Sözlükte aradığınız kelime bulunamadı.\")"
      ]
    }
  ]
}