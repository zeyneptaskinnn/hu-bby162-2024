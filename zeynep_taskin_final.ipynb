{
  "nbformat": 4,
  "nbformat_minor": 0,
  "metadata": {
    "colab": {
      "provenance": [],
      "include_colab_link": true
    },
    "kernelspec": {
      "name": "python3",
      "display_name": "Python 3"
    },
    "language_info": {
      "name": "python"
    }
  },
  "cells": [
    {
      "cell_type": "markdown",
      "metadata": {
        "id": "view-in-github",
        "colab_type": "text"
      },
      "source": [
        "<a href=\"https://colab.research.google.com/github/zeyneptaskinnn/hu-bby162-2024/blob/main/zeynep_taskin_final.ipynb\" target=\"_parent\"><img src=\"https://colab.research.google.com/assets/colab-badge.svg\" alt=\"Open In Colab\"/></a>"
      ]
    },
    {
      "cell_type": "markdown",
      "source": [
        "**Final Sınavına hoşgeldiniz!**"
      ],
      "metadata": {
        "id": "ItmuxWgBbkC1"
      }
    },
    {
      "cell_type": "markdown",
      "source": [
        "Canlı final sınavı, bilgisayar laboratuvarında bilgisayar başında yapılan ve teslim edilen sınavı ifade etmektedir. Canlı final sınavında yazmış olduğunuz kodlar sizin sorumluluğunuzdadır ve gerekirse hangi kodu neden yazdığınızı açık bir şekilde anlatabilmeniz gerekmektedir. Canlı final sınavı sırasında İnternet üzerindeki kaynaklar kullanılabilir ancak başka bir kişiden destek alınamaz.\n",
        "\n",
        "Canlı final sınavının teslim şekli önceki sınav ve projelerin teslim şekli ile aynıdır. \"Final Sınavı\" adlı Colab not defterinin bir kopyasını çıkarmalı, size ait olan bu kopya üzerinde soruları cevaplamalı, GitHub'daki ders deponuza size ait kopyayı yüklemeli ve not defterinin adresini metin alanına yazarak göndermelisiniz.\n",
        "\n",
        "Canlı final sınavının doğru şekilde tamamlanması da sınavın önemli bir parçasıdır. Sınav için gönderdiğiniz adresi kontrol ediniz ve doğru dosyayı depoya yerleştirdiği bizden emin olunuz. Teslim sürecinde yapılan hatalar sınavdan 0 puan almanıza yol açabilir!\n",
        "\n",
        "**Sınav süresi 60 dakikadır!**\n",
        "\n",
        "Önemli Not: Soruları cecaplarken sadece şu ana kadar öğrendiğiniz kod yapılarını kullanmanız gerekmektedir!!!"
      ],
      "metadata": {
        "id": "KGjdjR5RbTgH"
      }
    },
    {
      "cell_type": "markdown",
      "source": [
        "**----- Sorular -----**"
      ],
      "metadata": {
        "id": "zBvdh4s8cOqM"
      }
    },
    {
      "cell_type": "markdown",
      "source": [
        "**Soru 1:** Kod bölümünde yer alan listeyi ekrana aşağıda gösterildiği şekilde \"for\" döngüsü kullanarak yazdırın. Her kelimenin başındaki numara otomatik olarak verilmelidir. (5 Puan)\n",
        "\n",
        "1.   Açık Erişim\n",
        "2.   Açık Bilim\n",
        "3.   Açık Veri\n",
        "4.   Açık Eğitim\n",
        "5.   Açık Kültür"
      ],
      "metadata": {
        "id": "ma0FVqgQiLBe"
      }
    },
    {
      "cell_type": "code",
      "source": [
        "#Soru 1 bu bölümde kodlanmalıdır\n",
        "acikListe = [\"Açık Erişim\", \"Açık Bilim\", \"Açık Veri\", \"Açık Eğitim\", \"Açık Kültür\"]\n",
        "acikListe = [\"Açık Erişim\", \"Açık Bilim\", \"Açık Veri\", \"Açık Eğitim\", \"Açık Kültür\"]\n",
        "for index, item in enumerate(acikListe, 1):\n",
        "    print(str(index) + \".\" + item)"
      ],
      "metadata": {
        "id": "Fj7wkLMcjp_7",
        "colab": {
          "base_uri": "https://localhost:8080/"
        },
        "outputId": "19cb1a1c-428d-4417-fac8-f2c65aca4803"
      },
      "execution_count": 1,
      "outputs": [
        {
          "output_type": "stream",
          "name": "stdout",
          "text": [
            "1.Açık Erişim\n",
            "2.Açık Bilim\n",
            "3.Açık Veri\n",
            "4.Açık Eğitim\n",
            "5.Açık Kültür\n"
          ]
        }
      ]
    },
    {
      "cell_type": "markdown",
      "source": [
        "**Soru 2:** Kod bölümünde yer alan boş sözlüğe klavyeden yeni veri ekleyecek kodu yazınız. Yeni veri hem anahtarı (key) hem de anahtara karşılık gelecek değerli (value) içermelidir. Veri girişi yapıldıktan sonra sözlüğün güncel hali de ekrana yazıdırılmalıdır. (5 Puan)"
      ],
      "metadata": {
        "id": "uZDiXJARgK4o"
      }
    },
    {
      "cell_type": "code",
      "source": [
        "#Soru 2 bu bölümde kodlanmalıdır\n",
        "sozluk = {}\n",
        "anahtar = input(\"Yeni verinin anahtarını girin: \")\n",
        "deger = input(\"Yeni verinin değerini girin: \")\n",
        "sozluk[anahtar] = deger\n",
        "print(\"Güncel sözlük:\")\n",
        "print(sozluk)"
      ],
      "metadata": {
        "id": "no7Zd1ZCh5U3",
        "colab": {
          "base_uri": "https://localhost:8080/"
        },
        "outputId": "201ab3e1-5ab2-44ba-bdc8-a360603bbbec"
      },
      "execution_count": 2,
      "outputs": [
        {
          "output_type": "stream",
          "name": "stdout",
          "text": [
            "Yeni verinin anahtarını girin: elma\n",
            "Yeni verinin değerini girin: kırmızı\n",
            "Güncel sözlük:\n",
            "{'elma': 'kırmızı'}\n"
          ]
        }
      ]
    },
    {
      "cell_type": "markdown",
      "source": [
        "**Soru 3:** Herhangi bir metin dosyasında (ör: [veri.txt](https://drive.google.com/file/d/1WVCEET3G3ishvIR-V6lCav7jBgaZLT-o/view?usp=sharing)) satır satır yer alan verileri okuyup ekrana satır satır yazdıracak kodu yazınız. (10 Puan)"
      ],
      "metadata": {
        "id": "HnIqbjcCeNEV"
      }
    },
    {
      "cell_type": "code",
      "source": [
        "#Soru 3 bu bölümde kodlanmalıdır\n",
        "with open(\"veri.txt\", \"r\") as dosya:\n",
        "    for satir in dosya:\n",
        "        print(satir.strip())"
      ],
      "metadata": {
        "id": "SjzG5g3ffTyv"
      },
      "execution_count": null,
      "outputs": []
    },
    {
      "cell_type": "markdown",
      "source": [
        "**Soru 4:** Verilerin bir TXT dosyasında depolanabileceği basit bir adres defteri oluşturunuz. Adres defterindeki öğeler Ad-Soyad ve e-Posta olacaktır. Bu adres desteri uygulamasında bir menü yapısı (uygulama içinde fonksiyolar) olmalıdır. 1. seçenek adres defterindeki girişleri göstermeli, 2. seçenek adres defterine yeni veri eklemeli, 3. seçenek ise uygulamayı sonlandırmalıdır. (20 Puan)"
      ],
      "metadata": {
        "id": "p49cZFjJcXoS"
      }
    },
    {
      "cell_type": "code",
      "execution_count": null,
      "metadata": {
        "id": "3whYCDz3a8QZ",
        "colab": {
          "base_uri": "https://localhost:8080/"
        },
        "outputId": "f3f518af-be05-45ec-f585-1068da4e4c31"
      },
      "outputs": [
        {
          "output_type": "stream",
          "name": "stdout",
          "text": [
            "\n",
            "Adres Defteri Uygulaması\n",
            "1. Girişleri Göster\n",
            "2. Yeni Veri Ekle\n",
            "3. Çıkış\n",
            "Lütfen bir seçenek seçin: 1\n",
            "Zeynep Taşkın - zeyneptaskin54@gmail.com\n",
            "Berkay Erdem - berdemerdem@gmail.com\n",
            "\n",
            "Adres Defteri Uygulaması\n",
            "1. Girişleri Göster\n",
            "2. Yeni Veri Ekle\n",
            "3. Çıkış\n",
            "Lütfen bir seçenek seçin: 2\n",
            "Ad ve Soyad: Aleyna Çiftçi\n",
            "E-Posta: aleynacifci@gmail.com\n",
            "Yeni veri başarıyla eklendi.\n",
            "\n",
            "Adres Defteri Uygulaması\n",
            "1. Girişleri Göster\n",
            "2. Yeni Veri Ekle\n",
            "3. Çıkış\n",
            "Lütfen bir seçenek seçin: 1\n",
            "Zeynep Taşkın - zeyneptaskin54@gmail.com\n",
            "Berkay Erdem - berdemerdem@gmail.com\n",
            "Aleyna Çiftçi, aleynacifci@gmail.com\n",
            "\n",
            "Adres Defteri Uygulaması\n",
            "1. Girişleri Göster\n",
            "2. Yeni Veri Ekle\n",
            "3. Çıkış\n",
            "Lütfen bir seçenek seçin: 3\n",
            "Adres defteri uygulaması kapatılıyor.\n",
            "\n",
            "Adres Defteri Uygulaması\n",
            "1. Girişleri Göster\n",
            "2. Yeni Veri Ekle\n",
            "3. Çıkış\n"
          ]
        }
      ],
      "source": [
        "#Soru 4 bu bölümde kodlanmalıdır\n",
        "def menu():\n",
        "    print(\"\\nAdres Defteri Uygulaması\")\n",
        "    print(\"1. Girişleri Göster\")\n",
        "    print(\"2. Yeni Veri Ekle\")\n",
        "    print(\"3. Çıkış\")\n",
        "    secim = input(\"Lütfen bir seçenek seçin: \")\n",
        "    return secim\n",
        "\n",
        "def girdileri_goster():\n",
        "    try:\n",
        "        with open(\"adres_defteri.txt\", \"r\") as dosya:\n",
        "            for satir in dosya:\n",
        "                print(satir.strip())\n",
        "    except FileNotFoundError:\n",
        "        print(\"Adres defteri boş.\")\n",
        "\n",
        "def yeni_veri_ekle():\n",
        "    ad_soyad = input(\"Ad ve Soyad: \")\n",
        "    email = input(\"E-Posta: \")\n",
        "    with open(\"adres_defteri.txt\", \"a\") as dosya:\n",
        "        dosya.write(f\"{ad_soyad}, {email}\\n\")\n",
        "    print(\"Yeni veri başarıyla eklendi.\")\n",
        "\n",
        "while True:\n",
        "    secim = menu()\n",
        "    if secim == \"1\":\n",
        "        girdileri_goster()\n",
        "    elif secim == \"2\":\n",
        "        yeni_veri_ekle()\n",
        "    elif secim == \"3\":\n",
        "        print(\"Adres defteri uygulaması kapatılıyor.\")"
      ]
    }
  ]
}