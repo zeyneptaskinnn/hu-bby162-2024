{
  "nbformat": 4,
  "nbformat_minor": 0,
  "metadata": {
    "colab": {
      "provenance": [],
      "authorship_tag": "ABX9TyPnEOantwNHNPfcAeZ3jH7y",
      "include_colab_link": true
    },
    "kernelspec": {
      "name": "python3",
      "display_name": "Python 3"
    },
    "language_info": {
      "name": "python"
    }
  },
  "cells": [
    {
      "cell_type": "markdown",
      "metadata": {
        "id": "view-in-github",
        "colab_type": "text"
      },
      "source": [
        "<a href=\"https://colab.research.google.com/github/zeyneptaskinnn/hu-bby162-2024/blob/main/AdamAsmacaZeynepTa%C5%9Fk%C4%B1n.ipynb\" target=\"_parent\"><img src=\"https://colab.research.google.com/assets/colab-badge.svg\" alt=\"Open In Colab\"/></a>"
      ]
    },
    {
      "cell_type": "code",
      "source": [
        "from random import randint\n",
        "\n",
        "def oyunu_oyna(secilenKelime, adamCan):\n",
        "    dizilenKelime = [\"_\" for _ in secilenKelime]\n",
        "    print(dizilenKelime)\n",
        "\n",
        "    while adamCan > 0:\n",
        "        girilenHarf = input(\"Bir harf giriniz: \")\n",
        "        canKontrol = girilenHarf in secilenKelime\n",
        "        if canKontrol == False:\n",
        "            adamCan -= 1\n",
        "        i = 0\n",
        "        for kontrol in secilenKelime:\n",
        "            if secilenKelime[i] == girilenHarf:\n",
        "                dizilenKelime[i] = girilenHarf\n",
        "            i += 1\n",
        "        print(dizilenKelime)\n",
        "        print(\"Kalan can: \" + str(adamCan))\n",
        "\n",
        "        if \"_\" not in dizilenKelime:\n",
        "            print(\"Tebrikler oyunu kazandınız ve çok iyi oynadınız, adamı asamadık!\")\n",
        "            return True\n",
        "\n",
        "    print(\"Gözün nereye bakıyordu? Oyunu çok kötü oynadın ve kaybettin!\")\n",
        "    return False\n",
        "\n",
        "kelimeler = [\"sarı\", \"yeşil\", \"mavi\", \"kırmızı\"]\n",
        "\n",
        "while True:\n",
        "    seviye = input(\"Oyunun seviyesini seçin (Kolay, Orta, Zor): \").lower()\n",
        "    if seviye not in ['kolay', 'orta', 'zor']:\n",
        "        print(\"Geçersiz seviye seçimi. Lütfen 'Kolay', 'Orta' veya 'Zor' seviyelerinden birini seçin.\")\n",
        "        continue\n",
        "\n",
        "    if seviye == 'kolay':\n",
        "        adamCan = 7\n",
        "    elif seviye == 'orta':\n",
        "        adamCan = 5\n",
        "    elif seviye == 'zor':\n",
        "        adamCan = 3\n",
        "\n",
        "    secilen = randint(0, len(kelimeler)-1)\n",
        "    secilenKelime = kelimeler[secilen]\n",
        "    print(secilenKelime)\n",
        "\n",
        "    kazanma_durumu = oyunu_oyna(secilenKelime, adamCan)\n",
        "\n",
        "    if not kazanma_durumu:\n",
        "        devam = input(\"Başka bir oyun oynamak ister misiniz? (Evet için 'e' veya 'E' tuşuna basın): \")\n",
        "        if devam.lower() != 'e':\n",
        "            break\n",
        "    else:\n",
        "        devam = input(\"Başka bir oyun oynamak ister misiniz? (Evet için 'e' veya 'E' tuşuna basın): \")\n",
        "        if devam.lower() != 'e':\n",
        "            break"
      ],
      "metadata": {
        "colab": {
          "base_uri": "https://localhost:8080/"
        },
        "id": "Qv_gs-zgc34o",
        "outputId": "dc04ab73-f43c-4ff0-a0ca-0c1e0777e704"
      },
      "execution_count": 6,
      "outputs": [
        {
          "name": "stdout",
          "output_type": "stream",
          "text": [
            "Oyunun seviyesini seçin (Kolay, Orta, Zor): kolay\n",
            "mavi\n",
            "['_', '_', '_', '_']\n",
            "Bir harf giriniz: h\n",
            "['_', '_', '_', '_']\n",
            "Kalan can: 6\n",
            "Bir harf giriniz: a\n",
            "['_', 'a', '_', '_']\n",
            "Kalan can: 6\n",
            "Bir harf giriniz: m\n",
            "['m', 'a', '_', '_']\n",
            "Kalan can: 6\n",
            "Bir harf giriniz: \n",
            "['m', 'a', '_', '_']\n",
            "Kalan can: 6\n",
            "Bir harf giriniz: a\n",
            "['m', 'a', '_', '_']\n",
            "Kalan can: 6\n",
            "Bir harf giriniz: v\n",
            "['m', 'a', 'v', '_']\n",
            "Kalan can: 6\n",
            "Bir harf giriniz: i\n",
            "['m', 'a', 'v', 'i']\n",
            "Kalan can: 6\n",
            "Tebrikler oyunu kazandınız ve çok iyi oynadınız, adamı asamadık!\n",
            "Başka bir oyun oynamak ister misiniz? (Evet için 'e' veya 'E' tuşuna basın): e\n",
            "Oyunun seviyesini seçin (Kolay, Orta, Zor): zor\n",
            "sarı\n",
            "['_', '_', '_', '_']\n",
            "Bir harf giriniz: e\n",
            "['_', '_', '_', '_']\n",
            "Kalan can: 2\n",
            "Bir harf giriniz: a\n",
            "['_', 'a', '_', '_']\n",
            "Kalan can: 2\n",
            "Bir harf giriniz: ö\n",
            "['_', 'a', '_', '_']\n",
            "Kalan can: 1\n",
            "Bir harf giriniz: t\n",
            "['_', 'a', '_', '_']\n",
            "Kalan can: 0\n",
            "Gözün nereye bakıyordu? Oyunu çok kötü oynadın ve kaybettin!\n",
            "Başka bir oyun oynamak ister misiniz? (Evet için 'e' veya 'E' tuşuna basın): h\n"
          ]
        }
      ]
    }
  ]
}