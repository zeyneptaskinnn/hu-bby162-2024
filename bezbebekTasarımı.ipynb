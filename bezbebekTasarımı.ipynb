{
  "nbformat": 4,
  "nbformat_minor": 0,
  "metadata": {
    "colab": {
      "provenance": [],
      "authorship_tag": "ABX9TyMqBV1gazDuA2fg1ve76jqf",
      "include_colab_link": true
    },
    "kernelspec": {
      "name": "python3",
      "display_name": "Python 3"
    },
    "language_info": {
      "name": "python"
    }
  },
  "cells": [
    {
      "cell_type": "markdown",
      "metadata": {
        "id": "view-in-github",
        "colab_type": "text"
      },
      "source": [
        "<a href=\"https://colab.research.google.com/github/zeyneptaskinnn/hu-bby162-2024/blob/main/bezbebekTasar%C4%B1m%C4%B1.ipynb\" target=\"_parent\"><img src=\"https://colab.research.google.com/assets/colab-badge.svg\" alt=\"Open In Colab\"/></a>"
      ]
    },
    {
      "cell_type": "code",
      "execution_count": 10,
      "metadata": {
        "colab": {
          "base_uri": "https://localhost:8080/"
        },
        "id": "i1ywHJGQFUEr",
        "outputId": "952a6f38-960a-4e20-c877-b1f4abc08af0"
      },
      "outputs": [
        {
          "output_type": "stream",
          "name": "stdout",
          "text": [
            "Bu bez bebek Mor saç rengine sahip, Çilli yüz detayına sahip ve 26 toka sayısına sahiptir\n"
          ]
        }
      ],
      "source": [
        "class bezBebek:\n",
        "  saçRengi = \"Mor\"\n",
        "  yüzDetayı= \"Çilli\"\n",
        "  tokaSayısı = 6\n",
        "  def ozellikler(self):\n",
        "    ozellikDetay = \"Bu bez bebek %s saç rengine sahip, %s yüz detayına sahip ve %d toka sayısına sahiptir\" % (self.saçRengi, self.yüzDetayı, self.tokaSayısı)\n",
        "    print (ozellikDetay)\n",
        "\n",
        "bebegin = bezBebek()\n",
        "bebegin.ozellikler()"
      ]
    }
  ]
}