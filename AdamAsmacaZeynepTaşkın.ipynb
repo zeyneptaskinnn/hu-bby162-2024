{
  "nbformat": 4,
  "nbformat_minor": 0,
  "metadata": {
    "colab": {
      "provenance": [],
      "authorship_tag": "ABX9TyO3vUWCmQtuutsJTqZFy2/u",
      "include_colab_link": true
    },
    "kernelspec": {
      "name": "python3",
      "display_name": "Python 3"
    },
    "language_info": {
      "name": "python"
    }
  },
  "cells": [
    {
      "cell_type": "markdown",
      "metadata": {
        "id": "view-in-github",
        "colab_type": "text"
      },
      "source": [
        "<a href=\"https://colab.research.google.com/github/zeyneptaskinnn/hu-bby162-2024/blob/main/AdamAsmacaZeynepTa%C5%9Fk%C4%B1n.ipynb\" target=\"_parent\"><img src=\"https://colab.research.google.com/assets/colab-badge.svg\" alt=\"Open In Colab\"/></a>"
      ]
    },
    {
      "cell_type": "code",
      "source": [
        "from random import randint\n",
        "\n",
        "adamCan = 3\n",
        "\n",
        "kelimeler = [\"sarı\", \"yeşil\", \"mavi\", \"kırmızı\"]\n",
        "\n",
        "while True:\n",
        "    secilen = randint(0, len(kelimeler)-1)\n",
        "    secilenKelime = kelimeler[secilen]\n",
        "    print(secilenKelime)\n",
        "    dizilenKelime = [\"_\" for _ in secilenKelime]\n",
        "    print(dizilenKelime)\n",
        "\n",
        "    while adamCan > 0:\n",
        "        girilenHarf = input(\"Bir harf giriniz: \")\n",
        "        canKontrol = girilenHarf in secilenKelime\n",
        "        if canKontrol == False:\n",
        "            adamCan-=1\n",
        "        i = 0\n",
        "        for kontrol in secilenKelime:\n",
        "            if secilenKelime[i] == girilenHarf:\n",
        "                dizilenKelime[i] = girilenHarf\n",
        "            i+=1\n",
        "        print(dizilenKelime)\n",
        "        print(\"Kalan can: \"+ str(adamCan))\n",
        "\n",
        "        if \"_\" not in dizilenKelime:\n",
        "            print(\"Tebrikler oyunu kazandınız ve çok iyi oynadınız, adamı asamadık!\")\n",
        "            break\n",
        "\n",
        "    if adamCan == 0:\n",
        "        print(\"Gözün nereye bakıyordu? Oyunu çok kötü oynadın ve kaybettin!\")\n",
        "\n",
        "    devam = input(\"Başka bir oyun oynamak ister misiniz? (Evet için 'e' veya 'E' tuşuna basın): \")\n",
        "    if devam.lower() != 'e':\n",
        "        break"
      ],
      "metadata": {
        "colab": {
          "base_uri": "https://localhost:8080/"
        },
        "id": "cB_JKttkZfm2",
        "outputId": "f6acc8cc-8dbc-4894-e55e-f7c27aa680ae"
      },
      "execution_count": null,
      "outputs": [
        {
          "output_type": "stream",
          "name": "stdout",
          "text": [
            "mavi\n",
            "['_', '_', '_', '_']\n",
            "Bir harf giriniz: m\n",
            "['m', '_', '_', '_']\n",
            "Kalan can: 3\n",
            "Bir harf giriniz: a\n",
            "['m', 'a', '_', '_']\n",
            "Kalan can: 3\n",
            "Bir harf giriniz: v\n",
            "['m', 'a', 'v', '_']\n",
            "Kalan can: 3\n",
            "Bir harf giriniz: i\n",
            "['m', 'a', 'v', 'i']\n",
            "Kalan can: 3\n",
            "Tebrikler oyunu kazandınız ve çok iyi oynadınız, adamı asamadık!\n",
            "Başka bir oyun oynamak ister misiniz? (Evet için 'e' veya 'E' tuşuna basın): e\n",
            "kırmızı\n",
            "['_', '_', '_', '_', '_', '_', '_']\n",
            "Bir harf giriniz: ş\n",
            "['_', '_', '_', '_', '_', '_', '_']\n",
            "Kalan can: 2\n",
            "Bir harf giriniz: a\n",
            "['_', '_', '_', '_', '_', '_', '_']\n",
            "Kalan can: 1\n",
            "Bir harf giriniz: ö\n",
            "['_', '_', '_', '_', '_', '_', '_']\n",
            "Kalan can: 0\n",
            "Gözün nereye bakıyordu? Oyunu çok kötü oynadın ve kaybettin!\n"
          ]
        }
      ]
    }
  ]
}