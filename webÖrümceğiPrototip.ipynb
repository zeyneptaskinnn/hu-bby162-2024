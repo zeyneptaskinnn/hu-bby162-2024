{
  "nbformat": 4,
  "nbformat_minor": 0,
  "metadata": {
    "colab": {
      "provenance": [],
      "authorship_tag": "ABX9TyP8CWIKuAXDDiD6K9CWvxJ0",
      "include_colab_link": true
    },
    "kernelspec": {
      "name": "python3",
      "display_name": "Python 3"
    },
    "language_info": {
      "name": "python"
    }
  },
  "cells": [
    {
      "cell_type": "markdown",
      "metadata": {
        "id": "view-in-github",
        "colab_type": "text"
      },
      "source": [
        "<a href=\"https://colab.research.google.com/github/zeyneptaskinnn/hu-bby162-2024/blob/main/web%C3%96r%C3%BCmce%C4%9FiPrototip.ipynb\" target=\"_parent\"><img src=\"https://colab.research.google.com/assets/colab-badge.svg\" alt=\"Open In Colab\"/></a>"
      ]
    },
    {
      "cell_type": "code",
      "execution_count": 1,
      "metadata": {
        "colab": {
          "base_uri": "https://localhost:8080/"
        },
        "id": "X0CHQnwu9D5e",
        "outputId": "4b93aa15-55ef-403f-dbc8-059689bf5c42"
      },
      "outputs": [
        {
          "output_type": "stream",
          "name": "stdout",
          "text": [
            "Requirement already satisfied: requests in /usr/local/lib/python3.10/dist-packages (2.32.3)\n",
            "Requirement already satisfied: beautifulsoup4 in /usr/local/lib/python3.10/dist-packages (4.12.3)\n",
            "Requirement already satisfied: charset-normalizer<4,>=2 in /usr/local/lib/python3.10/dist-packages (from requests) (3.4.0)\n",
            "Requirement already satisfied: idna<4,>=2.5 in /usr/local/lib/python3.10/dist-packages (from requests) (3.10)\n",
            "Requirement already satisfied: urllib3<3,>=1.21.1 in /usr/local/lib/python3.10/dist-packages (from requests) (2.2.3)\n",
            "Requirement already satisfied: certifi>=2017.4.17 in /usr/local/lib/python3.10/dist-packages (from requests) (2024.8.30)\n",
            "Requirement already satisfied: soupsieve>1.2 in /usr/local/lib/python3.10/dist-packages (from beautifulsoup4) (2.6)\n"
          ]
        }
      ],
      "source": [
        "!pip install requests beautifulsoup4\n",
        "import requests\n",
        "from bs4 import BeautifulSoup"
      ]
    },
    {
      "cell_type": "code",
      "source": [
        "start_url = input(\"Lütfen taramanın başlayacağı web adresini giriniz: \")\n",
        "depth = int(input(\"Lütfen tarama derinlik seviyesini (örn. 1, 2, 3) giriniz: \"))"
      ],
      "metadata": {
        "colab": {
          "base_uri": "https://localhost:8080/"
        },
        "id": "eI9Nr1aA9043",
        "outputId": "dc639ebe-11b0-466b-ec5e-99a8e651915c"
      },
      "execution_count": 2,
      "outputs": [
        {
          "name": "stdout",
          "output_type": "stream",
          "text": [
            "Lütfen taramanın başlayacağı web adresini giriniz: https://www.hacettepe.edu.tr/\n",
            "Lütfen tarama derinlik seviyesini (örn. 1, 2, 3) giriniz: 3\n"
          ]
        }
      ]
    },
    {
      "cell_type": "code",
      "source": [
        "def get_links(url):\n",
        "    try:\n",
        "        response = requests.get(url)\n",
        "        response.raise_for_status()\n",
        "        soup = BeautifulSoup(response.content, 'html.parser')\n",
        "        links = []\n",
        "\n",
        "        for link in soup.find_all('a', href=True):\n",
        "            href = link['href']\n",
        "            if href.startswith('http'):\n",
        "                links.append(href)\n",
        "\n",
        "        return links\n",
        "    except requests.exceptions.RequestException as e:\n",
        "        print(f\"Bağlantı hatası: {e}\")\n",
        "        return []"
      ],
      "metadata": {
        "id": "goyK9piZ94EQ"
      },
      "execution_count": 3,
      "outputs": []
    },
    {
      "cell_type": "code",
      "source": [
        "def crawl(start_url, depth):\n",
        "    visited_urls = []\n",
        "    to_visit = [(start_url, 0)]\n",
        "\n",
        "    while to_visit:\n",
        "        url, current_depth = to_visit.pop(0)\n",
        "        if current_depth > depth:\n",
        "            break\n",
        "\n",
        "        print(f\"Ziyaret ediliyor: {url} (Seviye: {current_depth})\")\n",
        "        visited_urls.append((url, current_depth))\n",
        "\n",
        "        if current_depth < depth:\n",
        "            for link in get_links(url):\n",
        "                to_visit.append((link, current_depth + 1))\n",
        "\n",
        "    return visited_urls"
      ],
      "metadata": {
        "id": "vVkl9Kn0-E1y"
      },
      "execution_count": 4,
      "outputs": []
    },
    {
      "cell_type": "code",
      "source": [
        "def save_results(visited_urls, filename=\"tarama_sonuclari.txt\"):\n",
        "    with open(filename, 'w') as f:\n",
        "        for url, depth in visited_urls:\n",
        "            f.write(f\"Seviye {depth}: {url}\\n\")\n",
        "    print(f\"Sonuçlar {filename} dosyasına kaydedildi.\")"
      ],
      "metadata": {
        "id": "xjEzFuDu-GIf"
      },
      "execution_count": 5,
      "outputs": []
    },
    {
      "cell_type": "code",
      "source": [
        "visited_urls = crawl(start_url, depth)\n",
        "save_results(visited_urls)"
      ],
      "metadata": {
        "colab": {
          "base_uri": "https://localhost:8080/",
          "height": 1000
        },
        "id": "n-1POGlI-Jr8",
        "outputId": "5ef659e9-837d-4936-9231-5523f03cec3c"
      },
      "execution_count": 6,
      "outputs": [
        {
          "metadata": {
            "tags": null
          },
          "name": "stdout",
          "output_type": "stream",
          "text": [
            "Ziyaret ediliyor: https://www.hacettepe.edu.tr/ (Seviye: 0)\n",
            "Ziyaret ediliyor: https://huysis.hacettepe.edu.tr (Seviye: 1)\n",
            "Ziyaret ediliyor: https://bidb.hacettepe.edu.tr/tr/e-posta (Seviye: 1)\n",
            "Ziyaret ediliyor: https://www.instagram.com/hacettepe_university/ (Seviye: 1)\n",
            "Bağlantı hatası: 429 Client Error: Too Many Requests for url: https://www.instagram.com/accounts/login/?next=https%3A%2F%2Fwww.instagram.com%2Fhacettepe_university%2F&is_from_rle\n",
            "Ziyaret ediliyor: https://www.facebook.com/HacettepeUniversitesiKurumsal (Seviye: 1)\n",
            "Ziyaret ediliyor: https://twitter.com/Hacettepe1967 (Seviye: 1)\n",
            "Ziyaret ediliyor: https://www.youtube.com/HacettepeKurumsal/ (Seviye: 1)\n",
            "Ziyaret ediliyor: https://mezunum.hacettepe.edu.tr/ (Seviye: 1)\n",
            "Ziyaret ediliyor: https://universitem.hacettepe.edu.tr/ (Seviye: 1)\n",
            "Ziyaret ediliyor: https://kalite.hacettepe.edu.tr/tr/geribildirim (Seviye: 1)\n",
            "Ziyaret ediliyor: https://mezunum.hacettepe.edu.tr/ (Seviye: 1)\n",
            "Ziyaret ediliyor: https://universitem.hacettepe.edu.tr/ (Seviye: 1)\n",
            "Ziyaret ediliyor: https://kalite.hacettepe.edu.tr/tr/geribildirim (Seviye: 1)\n",
            "Ziyaret ediliyor: https://bidb.hacettepe.edu.tr/tr/e-posta (Seviye: 1)\n",
            "Ziyaret ediliyor: https://www.instagram.com/hacettepe_university/ (Seviye: 1)\n",
            "Bağlantı hatası: 429 Client Error: Too Many Requests for url: https://www.instagram.com/accounts/login/?next=https%3A%2F%2Fwww.instagram.com%2Fhacettepe_university%2F&is_from_rle\n",
            "Ziyaret ediliyor: https://www.facebook.com/HacettepeUniversitesiKurumsal (Seviye: 1)\n",
            "Ziyaret ediliyor: https://twitter.com/Hacettepe1967 (Seviye: 1)\n",
            "Ziyaret ediliyor: https://www.youtube.com/HacettepeKurumsal/ (Seviye: 1)\n",
            "Ziyaret ediliyor: https://gazete.hacettepe.edu.tr//tr/haber/prof_dr_ozlem_ozgune_ieee_aps_tarafindan_seckin_ogretim_uyeligi-656 (Seviye: 1)\n",
            "Ziyaret ediliyor: https://gazete.hacettepe.edu.tr//tr/haber/arge_projeleriyle_hacettepe_ilk_sirada-654 (Seviye: 1)\n",
            "Ziyaret ediliyor: https://gazete.hacettepe.edu.tr//tr/haber/dr_ogretim_uyesi_gulsah_merve_kilinca_unescoloréal_genc_bilim_kadini_odulu-653 (Seviye: 1)\n",
            "Ziyaret ediliyor: https://gazete.hacettepe.edu.tr//tr/haber/hacettepe_teknokent_hayat_sokaginin_acilisi_yapildi-652 (Seviye: 1)\n",
            "Ziyaret ediliyor: https://gazete.hacettepe.edu.tr//tr/haber/stl_guz_donemi_etkinlikleri_basliyor-651 (Seviye: 1)\n",
            "Ziyaret ediliyor: https://gazete.hacettepe.edu.tr//tr/haber/2024_trt_gelecegin_iletisimcileri_yarismasindan_ogrencimize_juri_ozel_odulu-650 (Seviye: 1)\n",
            "Ziyaret ediliyor: https://gazete.hacettepe.edu.tr//tr/haber/hacettepe_universitesi_ile_yapi_kredi_bankasi_arasinda_is_birligi_protokolu-649 (Seviye: 1)\n",
            "Ziyaret ediliyor: https://gazete.hacettepe.edu.tr//tr/haber/2024_tuba_teknofest_doktora_bilim_odullerinde_iki_hacettepeli-648 (Seviye: 1)\n",
            "Ziyaret ediliyor: https://gazete.hacettepe.edu.tr (Seviye: 1)\n",
            "Ziyaret ediliyor: https://oidb.hacettepe.edu.tr (Seviye: 1)\n",
            "Ziyaret ediliyor: https://bilsis.hacettepe.edu.tr (Seviye: 1)\n",
            "Ziyaret ediliyor: https://stl.hacettepe.edu.tr/ (Seviye: 1)\n",
            "Ziyaret ediliyor: https://huzem.hacettepe.edu.tr (Seviye: 1)\n",
            "Ziyaret ediliyor: https://hadi.hacettepe.edu.tr/ (Seviye: 1)\n",
            "Ziyaret ediliyor: https://lisansustu.hacettepe.edu.tr/login/index.php (Seviye: 1)\n",
            "Ziyaret ediliyor: https://ydyohazirlik.hacettepe.edu.tr/login/index.php (Seviye: 1)\n",
            "Ziyaret ediliyor: https://yasamboyu.hacettepe.edu.tr/ (Seviye: 1)\n",
            "Ziyaret ediliyor: https://oidb.hacettepe.edu.tr/ (Seviye: 1)\n",
            "Ziyaret ediliyor: https://akts.hacettepe.edu.tr (Seviye: 1)\n",
            "Ziyaret ediliyor: https://hubologna.hacettepe.edu.tr/ (Seviye: 1)\n",
            "Ziyaret ediliyor: https://karmer.hacettepe.edu.tr (Seviye: 1)\n",
            "Ziyaret ediliyor: https://topluluklar.hacettepe.edu.tr (Seviye: 1)\n",
            "Ziyaret ediliyor: https://ydkydyo.hacettepe.edu.tr (Seviye: 1)\n",
            "Ziyaret ediliyor: https://tomer.hacettepe.edu.tr/ (Seviye: 1)\n",
            "Ziyaret ediliyor: https://int.hacettepe.edu.tr/ (Seviye: 1)\n",
            "Ziyaret ediliyor: https://abofisi.hacettepe.edu.tr/ (Seviye: 1)\n",
            "Ziyaret ediliyor: https://mevlana.hacettepe.edu.tr/ (Seviye: 1)\n",
            "Ziyaret ediliyor: https://farabi.hacettepe.edu.tr/ (Seviye: 1)\n",
            "Ziyaret ediliyor: https://secmeli.hacettepe.edu.tr (Seviye: 1)\n",
            "Ziyaret ediliyor: https://egitimkomisyonu.hacettepe.edu.tr/ (Seviye: 1)\n",
            "Ziyaret ediliyor: https://oyp.hacettepe.edu.tr/ (Seviye: 1)\n",
            "Ziyaret ediliyor: https://eob.hacettepe.edu.tr/ (Seviye: 1)\n",
            "Ziyaret ediliyor: https://bap.hacettepe.edu.tr/ (Seviye: 1)\n",
            "Ziyaret ediliyor: https://pdo.hacettepe.edu.tr/ (Seviye: 1)\n",
            "Ziyaret ediliyor: https://apdo.hacettepe.edu.tr/ (Seviye: 1)\n",
            "Ziyaret ediliyor: https://bapsis.hacettepe.edu.tr/Default2.aspx (Seviye: 1)\n",
            "Ziyaret ediliyor: https://dapsis.hacettepe.edu.tr/ (Seviye: 1)\n",
            "Ziyaret ediliyor: https://avesis.hacettepe.edu.tr/ (Seviye: 1)\n",
            "Ziyaret ediliyor: https://lab.hacettepe.edu.tr/ (Seviye: 1)\n",
            "Ziyaret ediliyor: http://www.hastane.hacettepe.edu.tr/ (Seviye: 1)\n",
            "Bağlantı hatası: HTTPConnectionPool(host='www.hastane.hacettepe.edu.tr', port=80): Max retries exceeded with url: / (Caused by NameResolutionError(\"<urllib3.connection.HTTPConnection object at 0x7d3bac5d5d50>: Failed to resolve 'www.hastane.hacettepe.edu.tr' ([Errno -2] Name or service not known)\"))\n",
            "Ziyaret ediliyor: https://www.hacettepeteknokent.com.tr/ (Seviye: 1)\n",
            "Ziyaret ediliyor: https://www.hacettepettm.com (Seviye: 1)\n",
            "Ziyaret ediliyor: https://etikkurul.hacettepe.edu.tr/ (Seviye: 1)\n",
            "Ziyaret ediliyor: https://bilimsanatkurullari.hacettepe.edu.tr/ (Seviye: 1)\n",
            "Ziyaret ediliyor: https://library.hacettepe.edu.tr/ (Seviye: 1)\n",
            "Ziyaret ediliyor: https://dis.hacettepe.edu.tr/ (Seviye: 1)\n",
            "Ziyaret ediliyor: https://eczacilik.hacettepe.edu.tr/ (Seviye: 1)\n",
            "Ziyaret ediliyor: https://edebiyat.hacettepe.edu.tr/ (Seviye: 1)\n",
            "Ziyaret ediliyor: https://egitim.hacettepe.edu.tr/ (Seviye: 1)\n",
            "Ziyaret ediliyor: https://fenfakultesi.hacettepe.edu.tr/ (Seviye: 1)\n",
            "Ziyaret ediliyor: https://ftrfakulte.hacettepe.edu.tr/ (Seviye: 1)\n",
            "Ziyaret ediliyor: https://gsf.hacettepe.edu.tr/ (Seviye: 1)\n",
            "Ziyaret ediliyor: https://hemsirelik.hacettepe.edu.tr/ (Seviye: 1)\n",
            "Ziyaret ediliyor: https://hukukfakultesi.hacettepe.edu.tr/ (Seviye: 1)\n",
            "Ziyaret ediliyor: https://iibf.hacettepe.edu.tr/ (Seviye: 1)\n",
            "Ziyaret ediliyor: https://iletisim.hacettepe.edu.tr/ (Seviye: 1)\n",
            "Ziyaret ediliyor: https://mimarlikfakultesi.hacettepe.edu.tr/ (Seviye: 1)\n",
            "Ziyaret ediliyor: https://muhfak.hacettepe.edu.tr/ (Seviye: 1)\n",
            "Ziyaret ediliyor: https://sbf.hacettepe.edu.tr/ (Seviye: 1)\n",
            "Ziyaret ediliyor: https://sporbilimleri.hacettepe.edu.tr/ (Seviye: 1)\n",
            "Ziyaret ediliyor: https://tip.hacettepe.edu.tr/ (Seviye: 1)\n",
            "Ziyaret ediliyor: https://asienstitusu.hacettepe.edu.tr (Seviye: 1)\n",
            "Ziyaret ediliyor: https://ait.hacettepe.edu.tr/ (Seviye: 1)\n",
            "Ziyaret ediliyor: https://bilisim.hacettepe.edu.tr/ (Seviye: 1)\n",
            "Ziyaret ediliyor: https://cocuksagligi.hacettepe.edu.tr/ (Seviye: 1)\n",
            "Ziyaret ediliyor: https://egitimbilimlerienstitusu.hacettepe.edu.tr/ (Seviye: 1)\n",
            "Ziyaret ediliyor: https://fenbilimleri.hacettepe.edu.tr/ (Seviye: 1)\n",
            "Ziyaret ediliyor: https://gse.hacettepe.edu.tr/ (Seviye: 1)\n",
            "Ziyaret ediliyor: https://halksagligiens.hacettepe.edu.tr/ (Seviye: 1)\n",
            "Ziyaret ediliyor: https://onkoloji.hacettepe.edu.tr/ (Seviye: 1)\n",
            "Ziyaret ediliyor: https://norbil.hacettepe.edu.tr/ (Seviye: 1)\n",
            "Ziyaret ediliyor: https://hips.hacettepe.edu.tr/ (Seviye: 1)\n",
            "Ziyaret ediliyor: https://nbe.hacettepe.edu.tr/ (Seviye: 1)\n",
            "Ziyaret ediliyor: https://saglikbilimleri.hacettepe.edu.tr/ (Seviye: 1)\n",
            "Ziyaret ediliyor: https://sosyalbilimler.hacettepe.edu.tr/ (Seviye: 1)\n",
            "Ziyaret ediliyor: https://turkiyat.hacettepe.edu.tr/ (Seviye: 1)\n",
            "Ziyaret ediliyor: https://adk.hacettepe.edu.tr (Seviye: 1)\n",
            "Ziyaret ediliyor: https://ydyo.hacettepe.edu.tr (Seviye: 1)\n",
            "Ziyaret ediliyor: https://aem.hacettepe.edu.tr/ (Seviye: 1)\n",
            "Ziyaret ediliyor: https://hacettepeaso.hacettepe.edu.tr/ (Seviye: 1)\n",
            "Ziyaret ediliyor: https://baskentosbtbmyo.hacettepe.edu.tr/ (Seviye: 1)\n",
            "Ziyaret ediliyor: https://shmyo.hacettepe.edu.tr/ (Seviye: 1)\n",
            "Ziyaret ediliyor: https://sbmy.hacettepe.edu.tr/ (Seviye: 1)\n",
            "Ziyaret ediliyor: https://icdenetim.hacettepe.edu.tr/yetki_sorumluluk.shtml (Seviye: 1)\n",
            "Ziyaret ediliyor: https://bidb.hacettepe.edu.tr (Seviye: 1)\n",
            "Ziyaret ediliyor: https://hukukmusavirligi.hacettepe.edu.tr (Seviye: 1)\n",
            "Ziyaret ediliyor: https://imidb.hacettepe.edu.tr (Seviye: 1)\n",
            "Ziyaret ediliyor: https://library.hacettepe.edu.tr (Seviye: 1)\n",
            "Ziyaret ediliyor: https://oidb.hacettepe.edu.tr (Seviye: 1)\n",
            "Ziyaret ediliyor: https://pdb.hacettepe.edu.tr (Seviye: 1)\n",
            "Ziyaret ediliyor: https://sksdb.hacettepe.edu.tr (Seviye: 1)\n",
            "Ziyaret ediliyor: https://sgdb.hacettepe.edu.tr (Seviye: 1)\n",
            "Ziyaret ediliyor: https://yapi.hacettepe.edu.tr (Seviye: 1)\n",
            "Ziyaret ediliyor: https://bhim.hacettepe.edu.tr/ (Seviye: 1)\n",
            "Ziyaret ediliyor: https://kalite.hacettepe.edu.tr/ (Seviye: 1)\n",
            "Ziyaret ediliyor: https://isgb.hacettepe.edu.tr/ (Seviye: 1)\n",
            "Ziyaret ediliyor: http://syk.hacettepe.edu.tr (Seviye: 1)\n",
            "Ziyaret ediliyor: https://kvyk.hacettepe.edu.tr/ (Seviye: 1)\n",
            "Ziyaret ediliyor: https://beb.hacettepe.edu.tr/ (Seviye: 1)\n",
            "Ziyaret ediliyor: https://kalite.hacettepe.edu.tr/tr/geribildirim (Seviye: 1)\n",
            "Ziyaret ediliyor: https://gazete.hacettepe.edu.tr/ (Seviye: 1)\n",
            "Ziyaret ediliyor: https://radyo.hacettepe.edu.tr/ (Seviye: 1)\n",
            "Ziyaret ediliyor: https://www.youtube.com/c/HacettepeKurumsal (Seviye: 1)\n",
            "Ziyaret ediliyor: https://huysis.hacettepe.edu.tr/ (Seviye: 1)\n",
            "Ziyaret ediliyor: https://www.instagram.com/hacettepe_university/ (Seviye: 1)\n",
            "Bağlantı hatası: 429 Client Error: Too Many Requests for url: https://www.instagram.com/accounts/login/?next=https%3A%2F%2Fwww.instagram.com%2Fhacettepe_university%2F&is_from_rle\n",
            "Ziyaret ediliyor: https://www.facebook.com/HacettepeUniversitesiKurumsal (Seviye: 1)\n",
            "Ziyaret ediliyor: https://twitter.com/Hacettepe1967 (Seviye: 1)\n",
            "Ziyaret ediliyor: https://www.youtube.com/HacettepeKurumsal/ (Seviye: 1)\n",
            "Ziyaret ediliyor: https://ebys.hacettepe.edu.tr/ (Seviye: 2)\n",
            "Ziyaret ediliyor: https://huys.hacettepe.edu.tr (Seviye: 2)\n",
            "Ziyaret ediliyor: http://bybs.hacettepe.edu.tr/ (Seviye: 2)\n",
            "Bağlantı hatası: HTTPConnectionPool(host='bybs.hacettepe.edu.tr', port=80): Max retries exceeded with url: / (Caused by NameResolutionError(\"<urllib3.connection.HTTPConnection object at 0x7d3b82a28880>: Failed to resolve 'bybs.hacettepe.edu.tr' ([Errno -2] Name or service not known)\"))\n",
            "Ziyaret ediliyor: https://bidbdestek.hacettepe.edu.tr/ (Seviye: 2)\n",
            "Bağlantı hatası: 422 Client Error: Unprocessable Entity for url: https://bidbdestek.hacettepe.edu.tr/login.php\n",
            "Ziyaret ediliyor: https://yapi.hacettepe.edu.tr/tr/menu/ariza_bildirimi__-6 (Seviye: 2)\n",
            "Ziyaret ediliyor: https://yoksis.yok.gov.tr/ (Seviye: 2)\n",
            "Ziyaret ediliyor: https://kalite.hacettepe.edu.tr/tr/geribildirim (Seviye: 2)\n",
            "Ziyaret ediliyor: https://guvenlik.hacettepe.edu.tr (Seviye: 2)\n",
            "Ziyaret ediliyor: https://yazilimdeposu.hacettepe.edu.tr/ (Seviye: 2)\n",
            "Bağlantı hatası: HTTPSConnectionPool(host='yazilimdeposu.hacettepe.edu.tr', port=443): Max retries exceeded with url: / (Caused by SSLError(SSLCertVerificationError(1, '[SSL: CERTIFICATE_VERIFY_FAILED] certificate verify failed: unable to get local issuer certificate (_ssl.c:1007)')))\n",
            "Ziyaret ediliyor: https://bidbdestek.hacettepe.edu.tr/ (Seviye: 2)\n",
            "Bağlantı hatası: 422 Client Error: Unprocessable Entity for url: https://bidbdestek.hacettepe.edu.tr/login.php\n",
            "Ziyaret ediliyor: https://enstitu.hacettepe.edu.tr (Seviye: 2)\n",
            "Bağlantı hatası: HTTPSConnectionPool(host='enstitu.hacettepe.edu.tr', port=443): Max retries exceeded with url: / (Caused by ConnectTimeoutError(<urllib3.connection.HTTPSConnection object at 0x7d3b9fb2d3c0>, 'Connection to enstitu.hacettepe.edu.tr timed out. (connect timeout=None)'))\n",
            "Ziyaret ediliyor: https://atikyonetimi.hacettepe.edu.tr (Seviye: 2)\n",
            "Bağlantı hatası: HTTPSConnectionPool(host='atikyonetimi.hacettepe.edu.tr', port=443): Max retries exceeded with url: / (Caused by SSLError(SSLCertVerificationError(1, '[SSL: CERTIFICATE_VERIFY_FAILED] certificate verify failed: unable to get local issuer certificate (_ssl.c:1007)')))\n",
            "Ziyaret ediliyor: https://bilisimenvanter.hacettepe.edu.tr (Seviye: 2)\n",
            "Bağlantı hatası: HTTPSConnectionPool(host='bilisimenvanter.hacettepe.edu.tr', port=443): Max retries exceeded with url: / (Caused by SSLError(SSLCertVerificationError(1, '[SSL: CERTIFICATE_VERIFY_FAILED] certificate verify failed: unable to get local issuer certificate (_ssl.c:1007)')))\n",
            "Ziyaret ediliyor: https://huys.hacettepe.edu.tr (Seviye: 2)\n",
            "Ziyaret ediliyor: https://ebys.hacettepe.edu.tr/ (Seviye: 2)\n",
            "Ziyaret ediliyor: https://misafirimvar.hacettepe.edu.tr (Seviye: 2)\n",
            "Ziyaret ediliyor: http://katalog.hacettepe.edu.tr (Seviye: 2)\n",
            "Ziyaret ediliyor: https://moodle.isg.hacettepe.edu.tr (Seviye: 2)\n",
            "Ziyaret ediliyor: https://hadi.hacettepe.edu.tr (Seviye: 2)\n",
            "Ziyaret ediliyor: https://posta.hacettepe.edu.tr/ (Seviye: 2)\n",
            "Bağlantı hatası: HTTPSConnectionPool(host='posta.hacettepe.edu.tr', port=443): Max retries exceeded with url: / (Caused by SSLError(SSLError(1, '[SSL: UNSAFE_LEGACY_RENEGOTIATION_DISABLED] unsafe legacy renegotiation disabled (_ssl.c:1007)')))\n",
            "Ziyaret ediliyor: https://portal.hacettepe.edu.tr (Seviye: 2)\n",
            "Ziyaret ediliyor: https://hu-iys.hacettepe.edu.tr/ (Seviye: 2)\n",
            "Ziyaret ediliyor: https://www.yok.gov.tr/ (Seviye: 2)\n",
            "Ziyaret ediliyor: https://yoksis.yok.gov.tr/ (Seviye: 2)\n",
            "Ziyaret ediliyor: https://dbs.yok.gov.tr/ (Seviye: 2)\n",
            "Ziyaret ediliyor: https://giris.hmb.gov.tr (Seviye: 2)\n",
            "Ziyaret ediliyor: https://muhasebat.hmb.gov.tr/kbs-uygulamalar (Seviye: 2)\n",
            "Ziyaret ediliyor: https://kalite.hacettepe.edu.tr/tr/geribildirim (Seviye: 2)\n",
            "Ziyaret ediliyor: https://bilsis.hacettepe.edu.tr (Seviye: 2)\n",
            "Ziyaret ediliyor: https://portal.hacettepe.edu.tr (Seviye: 2)\n",
            "Ziyaret ediliyor: https://posta.hacettepe.edu.tr/ (Seviye: 2)\n",
            "Bağlantı hatası: HTTPSConnectionPool(host='posta.hacettepe.edu.tr', port=443): Max retries exceeded with url: / (Caused by SSLError(SSLError(1, '[SSL: UNSAFE_LEGACY_RENEGOTIATION_DISABLED] unsafe legacy renegotiation disabled (_ssl.c:1007)')))\n",
            "Ziyaret ediliyor: http://www.sksdb.hacettepe.edu.tr/bidbnew/category.php?id=3&title=barinma (Seviye: 2)\n",
            "Ziyaret ediliyor: http://katalog.hacettepe.edu.tr (Seviye: 2)\n",
            "Ziyaret ediliyor: https://hadi.hacettepe.edu.tr (Seviye: 2)\n",
            "Ziyaret ediliyor: https://kalite.hacettepe.edu.tr/tr/geribildirim (Seviye: 2)\n",
            "Ziyaret ediliyor: https://bapsis.hacettepe.edu.tr/ (Seviye: 2)\n",
            "Ziyaret ediliyor: https://dapsis.hacettepe.edu.tr/ (Seviye: 2)\n",
            "Ziyaret ediliyor: https://avesis.hacettepe.edu.tr/ (Seviye: 2)\n",
            "Ziyaret ediliyor: https://akademik.yok.gov.tr/AkademikArama/ (Seviye: 2)\n",
            "Ziyaret ediliyor: https://kalite.hacettepe.edu.tr/tr/geribildirim (Seviye: 2)\n",
            "Ziyaret ediliyor: https://www.instagram.com/hacettepe_university/ (Seviye: 2)\n",
            "Bağlantı hatası: 429 Client Error: Too Many Requests for url: https://www.instagram.com/accounts/login/?next=https%3A%2F%2Fwww.instagram.com%2Fhacettepe_university%2F&is_from_rle\n",
            "Ziyaret ediliyor: https://www.facebook.com/HacettepeUniversitesiKurumsal (Seviye: 2)\n",
            "Ziyaret ediliyor: https://twitter.com/hacettepe1967 (Seviye: 2)\n",
            "Ziyaret ediliyor: https://huys.hacettepe.edu.tr:7020/CasSunucu/login?service=http%3A%2F%2Fhuys.hacettepe.edu.tr%2FuygulamaGiris (Seviye: 2)\n",
            "Bağlantı hatası: HTTPSConnectionPool(host='huys.hacettepe.edu.tr', port=7020): Max retries exceeded with url: /CasSunucu/login?service=http%3A%2F%2Fhuys.hacettepe.edu.tr%2FuygulamaGiris (Caused by SSLError(SSLError(1, '[SSL: UNSAFE_LEGACY_RENEGOTIATION_DISABLED] unsafe legacy renegotiation disabled (_ssl.c:1007)')))\n",
            "Ziyaret ediliyor: http://www.bidb.hacettepe.edu.tr/eimza/index.php (Seviye: 2)\n",
            "Ziyaret ediliyor: https://www.btk.gov.tr/kanunlar (Seviye: 2)\n",
            "Bağlantı hatası: HTTPSConnectionPool(host='www.btk.gov.tr', port=443): Max retries exceeded with url: /kanunlar (Caused by SSLError(SSLCertVerificationError(1, '[SSL: CERTIFICATE_VERIFY_FAILED] certificate verify failed: unable to get local issuer certificate (_ssl.c:1007)')))\n",
            "Ziyaret ediliyor: https://www.instagram.com/hacettepe_university/ (Seviye: 2)\n",
            "Bağlantı hatası: 429 Client Error: Too Many Requests for url: https://www.instagram.com/accounts/login/?next=https%3A%2F%2Fwww.instagram.com%2Fhacettepe_university%2F&is_from_rle\n",
            "Ziyaret ediliyor: https://www.facebook.com/HacettepeUniversitesiKurumsal (Seviye: 2)\n",
            "Ziyaret ediliyor: https://twitter.com/hacettepe1967 (Seviye: 2)\n",
            "Ziyaret ediliyor: https://posta.hacettepe.edu.tr (Seviye: 2)\n",
            "Bağlantı hatası: HTTPSConnectionPool(host='posta.hacettepe.edu.tr', port=443): Max retries exceeded with url: / (Caused by SSLError(SSLError(1, '[SSL: UNSAFE_LEGACY_RENEGOTIATION_DISABLED] unsafe legacy renegotiation disabled (_ssl.c:1007)')))\n",
            "Ziyaret ediliyor: https://outlook.office.com/ (Seviye: 2)\n",
            "Ziyaret ediliyor: https://portal.hacettepe.edu.tr/ (Seviye: 2)\n",
            "Ziyaret ediliyor: http://www.bidb.hacettepe.edu.tr/tr/sorumluluksiniri (Seviye: 2)\n",
            "Ziyaret ediliyor: https://www.youtube.com/about/ (Seviye: 2)\n",
            "Ziyaret ediliyor: https://www.youtube.com/about/press/ (Seviye: 2)\n",
            "Ziyaret ediliyor: https://www.youtube.com/about/copyright/ (Seviye: 2)\n",
            "Ziyaret ediliyor: https://www.youtube.com/creators/ (Seviye: 2)\n",
            "Ziyaret ediliyor: https://www.youtube.com/ads/ (Seviye: 2)\n",
            "Ziyaret ediliyor: https://developers.google.com/youtube (Seviye: 2)\n",
            "Ziyaret ediliyor: https://www.youtube.com/about/policies/ (Seviye: 2)\n",
            "Ziyaret ediliyor: https://www.youtube.com/howyoutubeworks?utm_campaign=ytgen&utm_source=ythp&utm_medium=LeftNav&utm_content=txt&u=https%3A%2F%2Fwww.youtube.com%2Fhowyoutubeworks%3Futm_source%3Dythp%26utm_medium%3DLeftNav%26utm_campaign%3Dytgen (Seviye: 2)\n",
            "Ziyaret ediliyor: https://tv.youtube.com/learn/nflsundayticket (Seviye: 2)\n",
            "Ziyaret ediliyor: https://mezunum.hacettepe.edu.tr/mezun-izleme-anketi-giris/ (Seviye: 2)\n",
            "Ziyaret ediliyor: https://www.hacettepe.edu.tr/ogrenci/ (Seviye: 2)\n",
            "Ziyaret ediliyor: https://www.hacettepe.edu.tr/personel/ (Seviye: 2)\n",
            "Ziyaret ediliyor: https://universitem.hacettepe.edu.tr/ (Seviye: 2)\n",
            "Ziyaret ediliyor: https://www.hacettepe.edu.tr/ (Seviye: 2)\n",
            "Ziyaret ediliyor: https://mezunum.hacettepe.edu.tr/hacettepe-universitesi-en/ (Seviye: 2)\n",
            "Ziyaret ediliyor: https://mezunum.hacettepe.edu.tr/ (Seviye: 2)\n",
            "Ziyaret ediliyor: https://mezunum.hacettepe.edu.tr/ (Seviye: 2)\n",
            "Ziyaret ediliyor: https://mezunum.hacettepe.edu.tr/2024-toren-takvimi/ (Seviye: 2)\n",
            "Ziyaret ediliyor: https://mezunum.hacettepe.edu.tr/2024-torenleri/ (Seviye: 2)\n",
            "Ziyaret ediliyor: https://mezunum.hacettepe.edu.tr/2023-toren-takvimi/ (Seviye: 2)\n",
            "Ziyaret ediliyor: https://mezunum.hacettepe.edu.tr/fakulte-torenleri-2023/ (Seviye: 2)\n",
            "Ziyaret ediliyor: https://mezunum.hacettepe.edu.tr/meslek-yuksekokul-torenleri-2023/ (Seviye: 2)\n",
            "Ziyaret ediliyor: https://mezunum.hacettepe.edu.tr/ankara-devlet-konservatuvari-toreni-2023/ (Seviye: 2)\n",
            "Ziyaret ediliyor: https://mezunum.hacettepe.edu.tr/rektorumuzden/ (Seviye: 2)\n",
            "Ziyaret ediliyor: https://mezunum.hacettepe.edu.tr/2022-toren-takvimi/ (Seviye: 2)\n",
            "Ziyaret ediliyor: https://mezunum.hacettepe.edu.tr/acilis-konseri/ (Seviye: 2)\n",
            "Ziyaret ediliyor: https://mezunum.hacettepe.edu.tr/fakulte-torenleri-2022/ (Seviye: 2)\n",
            "Ziyaret ediliyor: https://mezunum.hacettepe.edu.tr/meslek-yuksekokul-torenleri-2022/ (Seviye: 2)\n",
            "Ziyaret ediliyor: https://mezunum.hacettepe.edu.tr/ankara-devlet-konservatuvari-toreni-2022/ (Seviye: 2)\n",
            "Ziyaret ediliyor: https://mezunum.hacettepe.edu.tr/enstitu-torenleri-2021/ (Seviye: 2)\n",
            "Ziyaret ediliyor: https://mezunum.hacettepe.edu.tr/fakulte-torenleri-2021/ (Seviye: 2)\n",
            "Ziyaret ediliyor: https://mezunum.hacettepe.edu.tr/meslek-yuksekokul-torenleri-2021/ (Seviye: 2)\n",
            "Ziyaret ediliyor: https://mezunum.hacettepe.edu.tr/adk-2021/ (Seviye: 2)\n",
            "Ziyaret ediliyor: https://mezunum.hacettepe.edu.tr/mezuniyet_2020/ (Seviye: 2)\n",
            "Ziyaret ediliyor: https://mezunum.hacettepe.edu.tr/rakamlarla_2020_mezunlarimiz/ (Seviye: 2)\n",
            "Ziyaret ediliyor: https://mezunum.hacettepe.edu.tr/universite-toreni/ (Seviye: 2)\n",
            "Ziyaret ediliyor: https://mezunum.hacettepe.edu.tr/fakulte-torenleri/ (Seviye: 2)\n",
            "Ziyaret ediliyor: https://mezunum.hacettepe.edu.tr/meslek-yuksekokulu-torenleri/ (Seviye: 2)\n",
            "Ziyaret ediliyor: https://mezunum.hacettepe.edu.tr/ankara-devlet-konservatuvari-torenleri/ (Seviye: 2)\n",
            "Ziyaret ediliyor: http://www.youtube.com/HacettepeKurumsal/ (Seviye: 2)\n",
            "Ziyaret ediliyor: https://www.instagram.com/hacettepe_university/ (Seviye: 2)\n",
            "Bağlantı hatası: 429 Client Error: Too Many Requests for url: https://www.instagram.com/accounts/login/?next=https%3A%2F%2Fwww.instagram.com%2Fhacettepe_university%2F&is_from_rle\n",
            "Ziyaret ediliyor: https://twitter.com/hacettepe1967 (Seviye: 2)\n",
            "Ziyaret ediliyor: https://www.facebook.com/HacettepeUniversitesiKurumsal (Seviye: 2)\n",
            "Ziyaret ediliyor: https://tr.linkedin.com/school/hacettepe-university/ (Seviye: 2)\n",
            "Ziyaret ediliyor: https://mezunum.hacettepe.edu.tr/kvkk-bilgilendirme/ (Seviye: 2)\n",
            "Ziyaret ediliyor: https://www.hacettepe.edu.tr/ (Seviye: 2)\n",
            "Ziyaret ediliyor: http://universitem.hacettepe.edu.tr/katalog-tr/ (Seviye: 2)\n",
            "Ziyaret ediliyor: https://webyeni2.hacettepe.edu.tr/ogrenci/ (Seviye: 2)\n",
            "Ziyaret ediliyor: https://webyeni2.hacettepe.edu.tr/personel/ (Seviye: 2)\n",
            "Ziyaret ediliyor: https://mezunum.hacettepe.edu.tr/ (Seviye: 2)\n",
            "Ziyaret ediliyor: https://hacettepe.edu.tr/ (Seviye: 2)\n",
            "Ziyaret ediliyor: https://universitem.hacettepe.edu.tr/#iletisim (Seviye: 2)\n",
            "Ziyaret ediliyor: https://universitem.hacettepe.edu.tr/my-university-hacettepe/ (Seviye: 2)\n",
            "Ziyaret ediliyor: https://universitem.hacettepe.edu.tr/# (Seviye: 2)\n",
            "Ziyaret ediliyor: https://universitem.hacettepe.edu.tr/hakkinda/ (Seviye: 2)\n",
            "Ziyaret ediliyor: https://universitem.hacettepe.edu.tr/akademik_bilgiler/ (Seviye: 2)\n",
            "Ziyaret ediliyor: https://universitem.hacettepe.edu.tr/akademik_birimler/ (Seviye: 2)\n",
            "Ziyaret ediliyor: https://universitem.hacettepe.edu.tr/yasayan_yerleskeler/ (Seviye: 2)\n",
            "Ziyaret ediliyor: https://universitem.hacettepe.edu.tr/randevu-secim/ (Seviye: 2)\n",
            "Ziyaret ediliyor: https://universitem.hacettepe.edu.tr/ (Seviye: 2)\n",
            "Ziyaret ediliyor: http://universitem.hacettepe.edu.tr/katalog-tr/ (Seviye: 2)\n",
            "Ziyaret ediliyor: https://universitem.hacettepe.edu.tr/hakkinda/ (Seviye: 2)\n",
            "Ziyaret ediliyor: https://universitem.hacettepe.edu.tr/akademik_bilgiler/ (Seviye: 2)\n",
            "Ziyaret ediliyor: https://universitem.hacettepe.edu.tr/akademik_birimler/ (Seviye: 2)\n",
            "Ziyaret ediliyor: https://universitem.hacettepe.edu.tr/yasayan_yerleskeler/ (Seviye: 2)\n",
            "Ziyaret ediliyor: https://universitem.hacettepe.edu.tr/randevu-secim/ (Seviye: 2)\n",
            "Ziyaret ediliyor: https://universitem.hacettepe.edu.tr/hakkinda/ (Seviye: 2)\n",
            "Ziyaret ediliyor: https://universitem.hacettepe.edu.tr/hakkinda/ (Seviye: 2)\n",
            "Ziyaret ediliyor: https://universitem.hacettepe.edu.tr/hakkinda/ (Seviye: 2)\n",
            "Ziyaret ediliyor: https://universitem.hacettepe.edu.tr/hakkinda/ (Seviye: 2)\n",
            "Ziyaret ediliyor: https://universitem.hacettepe.edu.tr/hakkinda/ (Seviye: 2)\n",
            "Ziyaret ediliyor: https://universitem.hacettepe.edu.tr/hakkinda/ (Seviye: 2)\n",
            "Ziyaret ediliyor: https://universitem.hacettepe.edu.tr/hakkinda/ (Seviye: 2)\n",
            "Ziyaret ediliyor: https://universitem.hacettepe.edu.tr/hakkinda/ (Seviye: 2)\n",
            "Ziyaret ediliyor: https://universitem.hacettepe.edu.tr/akademik_bilgiler/ (Seviye: 2)\n",
            "Ziyaret ediliyor: https://universitem.hacettepe.edu.tr/akademik_bilgiler/ (Seviye: 2)\n",
            "Ziyaret ediliyor: https://universitem.hacettepe.edu.tr/akademik_bilgiler/ (Seviye: 2)\n",
            "Ziyaret ediliyor: https://universitem.hacettepe.edu.tr/akademik_bilgiler/ (Seviye: 2)\n",
            "Ziyaret ediliyor: https://universitem.hacettepe.edu.tr/akademik_bilgiler/ (Seviye: 2)\n",
            "Ziyaret ediliyor: https://universitem.hacettepe.edu.tr/akademik_bilgiler/ (Seviye: 2)\n",
            "Ziyaret ediliyor: https://universitem.hacettepe.edu.tr/akademik_bilgiler/ (Seviye: 2)\n",
            "Ziyaret ediliyor: https://universitem.hacettepe.edu.tr/akademik_bilgiler/ (Seviye: 2)\n",
            "Ziyaret ediliyor: https://universitem.hacettepe.edu.tr/akademik_birimler/ (Seviye: 2)\n",
            "Ziyaret ediliyor: https://universitem.hacettepe.edu.tr/akademik_birimler/ (Seviye: 2)\n",
            "Ziyaret ediliyor: https://universitem.hacettepe.edu.tr/akademik_birimler/ (Seviye: 2)\n",
            "Ziyaret ediliyor: https://universitem.hacettepe.edu.tr/akademik_birimler/ (Seviye: 2)\n",
            "Ziyaret ediliyor: https://universitem.hacettepe.edu.tr/akademik_birimler/ (Seviye: 2)\n",
            "Ziyaret ediliyor: https://universitem.hacettepe.edu.tr/akademik_birimler/ (Seviye: 2)\n",
            "Ziyaret ediliyor: https://universitem.hacettepe.edu.tr/akademik_birimler/ (Seviye: 2)\n",
            "Ziyaret ediliyor: https://universitem.hacettepe.edu.tr/akademik_birimler/ (Seviye: 2)\n",
            "Ziyaret ediliyor: https://universitem.hacettepe.edu.tr/yasayan_yerleskeler/ (Seviye: 2)\n",
            "Ziyaret ediliyor: https://universitem.hacettepe.edu.tr/yasayan_yerleskeler/ (Seviye: 2)\n",
            "Ziyaret ediliyor: https://universitem.hacettepe.edu.tr/yasayan_yerleskeler/ (Seviye: 2)\n",
            "Ziyaret ediliyor: https://universitem.hacettepe.edu.tr/yasayan_yerleskeler/ (Seviye: 2)\n",
            "Ziyaret ediliyor: https://universitem.hacettepe.edu.tr/yasayan_yerleskeler/ (Seviye: 2)\n",
            "Ziyaret ediliyor: https://universitem.hacettepe.edu.tr/yasayan_yerleskeler/ (Seviye: 2)\n",
            "Ziyaret ediliyor: https://universitem.hacettepe.edu.tr/yasayan_yerleskeler/ (Seviye: 2)\n",
            "Ziyaret ediliyor: https://universitem.hacettepe.edu.tr/yasayan_yerleskeler/ (Seviye: 2)\n",
            "Ziyaret ediliyor: http://www.youtube.com/HacettepeKurumsal/ (Seviye: 2)\n",
            "Ziyaret ediliyor: https://www.instagram.com/hacettepe_university/ (Seviye: 2)\n",
            "Bağlantı hatası: 429 Client Error: Too Many Requests for url: https://www.instagram.com/accounts/login/?next=https%3A%2F%2Fwww.instagram.com%2Fhacettepe_university%2F&is_from_rle\n",
            "Ziyaret ediliyor: https://twitter.com/hacettepe1967 (Seviye: 2)\n",
            "Ziyaret ediliyor: https://www.facebook.com/HacettepeUniversitesiKurumsal (Seviye: 2)\n",
            "Ziyaret ediliyor: https://tr.linkedin.com/school/hacettepe-university/ (Seviye: 2)\n",
            "Ziyaret ediliyor: https://universitem.hacettepe.edu.tr/kvkk-bilgilendirme/ (Seviye: 2)\n",
            "Ziyaret ediliyor: https://www.hacettepe.edu.tr/ (Seviye: 2)\n",
            "Ziyaret ediliyor: https://kalite.hacettepe.edu.tr/tr/akran_degerlendirme_programi_adp-190 (Seviye: 2)\n",
            "Ziyaret ediliyor: https://kalite.hacettepe.edu.tr/tr/oz_degerlendirme_programi_odp-189 (Seviye: 2)\n",
            "Ziyaret ediliyor: https://www.hacettepe.edu.tr/ogretim/ (Seviye: 2)\n",
            "Ziyaret ediliyor: https://www.hacettepe.edu.tr/arastirma/ (Seviye: 2)\n",
            "Ziyaret ediliyor: https://www.hacettepe.edu.tr/uluslararasi/ (Seviye: 2)\n",
            "Ziyaret ediliyor: https://www.hacettepe.edu.tr/inovasyon/ (Seviye: 2)\n",
            "Ziyaret ediliyor: https://www.hacettepe.edu.tr/saglik/ (Seviye: 2)\n",
            "Ziyaret ediliyor: https://kalite.hacettepe.edu.tr/tr/geribildirim (Seviye: 2)\n",
            "Ziyaret ediliyor: http://bkys.hacettepe.edu.tr/ (Seviye: 2)\n",
            "Bağlantı hatası: HTTPSConnectionPool(host='bkys.hacettepe.edu.tr', port=443): Max retries exceeded with url: / (Caused by SSLError(SSLCertVerificationError(1, '[SSL: CERTIFICATE_VERIFY_FAILED] certificate verify failed: unable to get local issuer certificate (_ssl.c:1007)')))\n",
            "Ziyaret ediliyor: https://geribildirim.hacettepe.edu.tr/ (Seviye: 2)\n",
            "Bağlantı hatası: HTTPSConnectionPool(host='geribildirim.hacettepe.edu.tr', port=443): Max retries exceeded with url: / (Caused by SSLError(SSLCertVerificationError(1, '[SSL: CERTIFICATE_VERIFY_FAILED] certificate verify failed: unable to get local issuer certificate (_ssl.c:1007)')))\n",
            "Ziyaret ediliyor: https://www.facebook.com/hubologna.kalite/ (Seviye: 2)\n",
            "Ziyaret ediliyor: https://www.instagram.com/hacettepekalitekomisyonu/ (Seviye: 2)\n",
            "Bağlantı hatası: 429 Client Error: Too Many Requests for url: https://www.instagram.com/accounts/login/?next=https%3A%2F%2Fwww.instagram.com%2Fhacettepekalitekomisyonu%2F&is_from_rle\n",
            "Ziyaret ediliyor: https://twitter.com/KaliteKomisyonu (Seviye: 2)\n",
            "Ziyaret ediliyor: https://mezunum.hacettepe.edu.tr/mezun-izleme-anketi-giris/ (Seviye: 2)\n",
            "Ziyaret ediliyor: https://www.hacettepe.edu.tr/ogrenci/ (Seviye: 2)\n",
            "Ziyaret ediliyor: https://www.hacettepe.edu.tr/personel/ (Seviye: 2)\n",
            "Ziyaret ediliyor: https://universitem.hacettepe.edu.tr/ (Seviye: 2)\n",
            "Ziyaret ediliyor: https://www.hacettepe.edu.tr/ (Seviye: 2)\n",
            "Ziyaret ediliyor: https://mezunum.hacettepe.edu.tr/hacettepe-universitesi-en/ (Seviye: 2)\n",
            "Ziyaret ediliyor: https://mezunum.hacettepe.edu.tr/ (Seviye: 2)\n",
            "Ziyaret ediliyor: https://mezunum.hacettepe.edu.tr/ (Seviye: 2)\n",
            "Ziyaret ediliyor: https://mezunum.hacettepe.edu.tr/2024-toren-takvimi/ (Seviye: 2)\n",
            "Ziyaret ediliyor: https://mezunum.hacettepe.edu.tr/2024-torenleri/ (Seviye: 2)\n",
            "Ziyaret ediliyor: https://mezunum.hacettepe.edu.tr/2023-toren-takvimi/ (Seviye: 2)\n",
            "Ziyaret ediliyor: https://mezunum.hacettepe.edu.tr/fakulte-torenleri-2023/ (Seviye: 2)\n",
            "Ziyaret ediliyor: https://mezunum.hacettepe.edu.tr/meslek-yuksekokul-torenleri-2023/ (Seviye: 2)\n",
            "Ziyaret ediliyor: https://mezunum.hacettepe.edu.tr/ankara-devlet-konservatuvari-toreni-2023/ (Seviye: 2)\n",
            "Ziyaret ediliyor: https://mezunum.hacettepe.edu.tr/rektorumuzden/ (Seviye: 2)\n",
            "Ziyaret ediliyor: https://mezunum.hacettepe.edu.tr/2022-toren-takvimi/ (Seviye: 2)\n",
            "Ziyaret ediliyor: https://mezunum.hacettepe.edu.tr/acilis-konseri/ (Seviye: 2)\n",
            "Ziyaret ediliyor: https://mezunum.hacettepe.edu.tr/fakulte-torenleri-2022/ (Seviye: 2)\n",
            "Ziyaret ediliyor: https://mezunum.hacettepe.edu.tr/meslek-yuksekokul-torenleri-2022/ (Seviye: 2)\n",
            "Ziyaret ediliyor: https://mezunum.hacettepe.edu.tr/ankara-devlet-konservatuvari-toreni-2022/ (Seviye: 2)\n",
            "Ziyaret ediliyor: https://mezunum.hacettepe.edu.tr/enstitu-torenleri-2021/ (Seviye: 2)\n",
            "Ziyaret ediliyor: https://mezunum.hacettepe.edu.tr/fakulte-torenleri-2021/ (Seviye: 2)\n",
            "Ziyaret ediliyor: https://mezunum.hacettepe.edu.tr/meslek-yuksekokul-torenleri-2021/ (Seviye: 2)\n",
            "Ziyaret ediliyor: https://mezunum.hacettepe.edu.tr/adk-2021/ (Seviye: 2)\n",
            "Ziyaret ediliyor: https://mezunum.hacettepe.edu.tr/mezuniyet_2020/ (Seviye: 2)\n",
            "Ziyaret ediliyor: https://mezunum.hacettepe.edu.tr/rakamlarla_2020_mezunlarimiz/ (Seviye: 2)\n",
            "Ziyaret ediliyor: https://mezunum.hacettepe.edu.tr/universite-toreni/ (Seviye: 2)\n",
            "Ziyaret ediliyor: https://mezunum.hacettepe.edu.tr/fakulte-torenleri/ (Seviye: 2)\n",
            "Ziyaret ediliyor: https://mezunum.hacettepe.edu.tr/meslek-yuksekokulu-torenleri/ (Seviye: 2)\n",
            "Ziyaret ediliyor: https://mezunum.hacettepe.edu.tr/ankara-devlet-konservatuvari-torenleri/ (Seviye: 2)\n",
            "Ziyaret ediliyor: http://www.youtube.com/HacettepeKurumsal/ (Seviye: 2)\n",
            "Ziyaret ediliyor: https://www.instagram.com/hacettepe_university/ (Seviye: 2)\n",
            "Bağlantı hatası: 429 Client Error: Too Many Requests for url: https://www.instagram.com/accounts/login/?next=https%3A%2F%2Fwww.instagram.com%2Fhacettepe_university%2F&is_from_rle\n",
            "Ziyaret ediliyor: https://twitter.com/hacettepe1967 (Seviye: 2)\n",
            "Ziyaret ediliyor: https://www.facebook.com/HacettepeUniversitesiKurumsal (Seviye: 2)\n",
            "Ziyaret ediliyor: https://tr.linkedin.com/school/hacettepe-university/ (Seviye: 2)\n",
            "Ziyaret ediliyor: https://mezunum.hacettepe.edu.tr/kvkk-bilgilendirme/ (Seviye: 2)\n",
            "Ziyaret ediliyor: https://www.hacettepe.edu.tr/ (Seviye: 2)\n",
            "Ziyaret ediliyor: http://universitem.hacettepe.edu.tr/katalog-tr/ (Seviye: 2)\n",
            "Ziyaret ediliyor: https://webyeni2.hacettepe.edu.tr/ogrenci/ (Seviye: 2)\n",
            "Ziyaret ediliyor: https://webyeni2.hacettepe.edu.tr/personel/ (Seviye: 2)\n",
            "Ziyaret ediliyor: https://mezunum.hacettepe.edu.tr/ (Seviye: 2)\n",
            "Ziyaret ediliyor: https://hacettepe.edu.tr/ (Seviye: 2)\n",
            "Ziyaret ediliyor: https://universitem.hacettepe.edu.tr/#iletisim (Seviye: 2)\n",
            "Ziyaret ediliyor: https://universitem.hacettepe.edu.tr/my-university-hacettepe/ (Seviye: 2)\n",
            "Ziyaret ediliyor: https://universitem.hacettepe.edu.tr/# (Seviye: 2)\n",
            "Ziyaret ediliyor: https://universitem.hacettepe.edu.tr/hakkinda/ (Seviye: 2)\n",
            "Ziyaret ediliyor: https://universitem.hacettepe.edu.tr/akademik_bilgiler/ (Seviye: 2)\n",
            "Ziyaret ediliyor: https://universitem.hacettepe.edu.tr/akademik_birimler/ (Seviye: 2)\n",
            "Ziyaret ediliyor: https://universitem.hacettepe.edu.tr/yasayan_yerleskeler/ (Seviye: 2)\n",
            "Ziyaret ediliyor: https://universitem.hacettepe.edu.tr/randevu-secim/ (Seviye: 2)\n",
            "Ziyaret ediliyor: https://universitem.hacettepe.edu.tr/ (Seviye: 2)\n",
            "Ziyaret ediliyor: http://universitem.hacettepe.edu.tr/katalog-tr/ (Seviye: 2)\n",
            "Ziyaret ediliyor: https://universitem.hacettepe.edu.tr/hakkinda/ (Seviye: 2)\n",
            "Ziyaret ediliyor: https://universitem.hacettepe.edu.tr/akademik_bilgiler/ (Seviye: 2)\n",
            "Ziyaret ediliyor: https://universitem.hacettepe.edu.tr/akademik_birimler/ (Seviye: 2)\n",
            "Ziyaret ediliyor: https://universitem.hacettepe.edu.tr/yasayan_yerleskeler/ (Seviye: 2)\n",
            "Ziyaret ediliyor: https://universitem.hacettepe.edu.tr/randevu-secim/ (Seviye: 2)\n",
            "Ziyaret ediliyor: https://universitem.hacettepe.edu.tr/hakkinda/ (Seviye: 2)\n",
            "Ziyaret ediliyor: https://universitem.hacettepe.edu.tr/hakkinda/ (Seviye: 2)\n",
            "Ziyaret ediliyor: https://universitem.hacettepe.edu.tr/hakkinda/ (Seviye: 2)\n",
            "Ziyaret ediliyor: https://universitem.hacettepe.edu.tr/hakkinda/ (Seviye: 2)\n",
            "Ziyaret ediliyor: https://universitem.hacettepe.edu.tr/hakkinda/ (Seviye: 2)\n",
            "Ziyaret ediliyor: https://universitem.hacettepe.edu.tr/hakkinda/ (Seviye: 2)\n",
            "Ziyaret ediliyor: https://universitem.hacettepe.edu.tr/hakkinda/ (Seviye: 2)\n",
            "Ziyaret ediliyor: https://universitem.hacettepe.edu.tr/hakkinda/ (Seviye: 2)\n",
            "Ziyaret ediliyor: https://universitem.hacettepe.edu.tr/akademik_bilgiler/ (Seviye: 2)\n",
            "Ziyaret ediliyor: https://universitem.hacettepe.edu.tr/akademik_bilgiler/ (Seviye: 2)\n",
            "Ziyaret ediliyor: https://universitem.hacettepe.edu.tr/akademik_bilgiler/ (Seviye: 2)\n",
            "Ziyaret ediliyor: https://universitem.hacettepe.edu.tr/akademik_bilgiler/ (Seviye: 2)\n",
            "Ziyaret ediliyor: https://universitem.hacettepe.edu.tr/akademik_bilgiler/ (Seviye: 2)\n",
            "Ziyaret ediliyor: https://universitem.hacettepe.edu.tr/akademik_bilgiler/ (Seviye: 2)\n",
            "Ziyaret ediliyor: https://universitem.hacettepe.edu.tr/akademik_bilgiler/ (Seviye: 2)\n",
            "Ziyaret ediliyor: https://universitem.hacettepe.edu.tr/akademik_bilgiler/ (Seviye: 2)\n",
            "Ziyaret ediliyor: https://universitem.hacettepe.edu.tr/akademik_birimler/ (Seviye: 2)\n",
            "Ziyaret ediliyor: https://universitem.hacettepe.edu.tr/akademik_birimler/ (Seviye: 2)\n",
            "Ziyaret ediliyor: https://universitem.hacettepe.edu.tr/akademik_birimler/ (Seviye: 2)\n",
            "Ziyaret ediliyor: https://universitem.hacettepe.edu.tr/akademik_birimler/ (Seviye: 2)\n",
            "Ziyaret ediliyor: https://universitem.hacettepe.edu.tr/akademik_birimler/ (Seviye: 2)\n",
            "Ziyaret ediliyor: https://universitem.hacettepe.edu.tr/akademik_birimler/ (Seviye: 2)\n",
            "Ziyaret ediliyor: https://universitem.hacettepe.edu.tr/akademik_birimler/ (Seviye: 2)\n",
            "Ziyaret ediliyor: https://universitem.hacettepe.edu.tr/akademik_birimler/ (Seviye: 2)\n",
            "Ziyaret ediliyor: https://universitem.hacettepe.edu.tr/yasayan_yerleskeler/ (Seviye: 2)\n",
            "Ziyaret ediliyor: https://universitem.hacettepe.edu.tr/yasayan_yerleskeler/ (Seviye: 2)\n",
            "Ziyaret ediliyor: https://universitem.hacettepe.edu.tr/yasayan_yerleskeler/ (Seviye: 2)\n",
            "Ziyaret ediliyor: https://universitem.hacettepe.edu.tr/yasayan_yerleskeler/ (Seviye: 2)\n",
            "Ziyaret ediliyor: https://universitem.hacettepe.edu.tr/yasayan_yerleskeler/ (Seviye: 2)\n",
            "Ziyaret ediliyor: https://universitem.hacettepe.edu.tr/yasayan_yerleskeler/ (Seviye: 2)\n",
            "Ziyaret ediliyor: https://universitem.hacettepe.edu.tr/yasayan_yerleskeler/ (Seviye: 2)\n",
            "Ziyaret ediliyor: https://universitem.hacettepe.edu.tr/yasayan_yerleskeler/ (Seviye: 2)\n",
            "Ziyaret ediliyor: http://www.youtube.com/HacettepeKurumsal/ (Seviye: 2)\n",
            "Ziyaret ediliyor: https://www.instagram.com/hacettepe_university/ (Seviye: 2)\n",
            "Bağlantı hatası: 429 Client Error: Too Many Requests for url: https://www.instagram.com/accounts/login/?next=https%3A%2F%2Fwww.instagram.com%2Fhacettepe_university%2F&is_from_rle\n",
            "Ziyaret ediliyor: https://twitter.com/hacettepe1967 (Seviye: 2)\n",
            "Ziyaret ediliyor: https://www.facebook.com/HacettepeUniversitesiKurumsal (Seviye: 2)\n",
            "Ziyaret ediliyor: https://tr.linkedin.com/school/hacettepe-university/ (Seviye: 2)\n",
            "Ziyaret ediliyor: https://universitem.hacettepe.edu.tr/kvkk-bilgilendirme/ (Seviye: 2)\n",
            "Ziyaret ediliyor: https://www.hacettepe.edu.tr/ (Seviye: 2)\n",
            "Ziyaret ediliyor: https://kalite.hacettepe.edu.tr/tr/akran_degerlendirme_programi_adp-190 (Seviye: 2)\n",
            "Ziyaret ediliyor: https://kalite.hacettepe.edu.tr/tr/oz_degerlendirme_programi_odp-189 (Seviye: 2)\n",
            "Ziyaret ediliyor: https://www.hacettepe.edu.tr/ogretim/ (Seviye: 2)\n",
            "Ziyaret ediliyor: https://www.hacettepe.edu.tr/arastirma/ (Seviye: 2)\n",
            "Ziyaret ediliyor: https://www.hacettepe.edu.tr/uluslararasi/ (Seviye: 2)\n",
            "Ziyaret ediliyor: https://www.hacettepe.edu.tr/inovasyon/ (Seviye: 2)\n",
            "Ziyaret ediliyor: https://www.hacettepe.edu.tr/saglik/ (Seviye: 2)\n",
            "Ziyaret ediliyor: https://kalite.hacettepe.edu.tr/tr/geribildirim (Seviye: 2)\n",
            "Ziyaret ediliyor: http://bkys.hacettepe.edu.tr/ (Seviye: 2)\n",
            "Bağlantı hatası: HTTPSConnectionPool(host='bkys.hacettepe.edu.tr', port=443): Max retries exceeded with url: / (Caused by SSLError(SSLCertVerificationError(1, '[SSL: CERTIFICATE_VERIFY_FAILED] certificate verify failed: unable to get local issuer certificate (_ssl.c:1007)')))\n",
            "Ziyaret ediliyor: https://geribildirim.hacettepe.edu.tr/ (Seviye: 2)\n",
            "Bağlantı hatası: HTTPSConnectionPool(host='geribildirim.hacettepe.edu.tr', port=443): Max retries exceeded with url: / (Caused by SSLError(SSLCertVerificationError(1, '[SSL: CERTIFICATE_VERIFY_FAILED] certificate verify failed: unable to get local issuer certificate (_ssl.c:1007)')))\n",
            "Ziyaret ediliyor: https://www.facebook.com/hubologna.kalite/ (Seviye: 2)\n",
            "Ziyaret ediliyor: https://www.instagram.com/hacettepekalitekomisyonu/ (Seviye: 2)\n",
            "Bağlantı hatası: 429 Client Error: Too Many Requests for url: https://www.instagram.com/accounts/login/?next=https%3A%2F%2Fwww.instagram.com%2Fhacettepekalitekomisyonu%2F&is_from_rle\n",
            "Ziyaret ediliyor: https://twitter.com/KaliteKomisyonu (Seviye: 2)\n",
            "Ziyaret ediliyor: https://www.instagram.com/hacettepe_university/ (Seviye: 2)\n",
            "Bağlantı hatası: 429 Client Error: Too Many Requests for url: https://www.instagram.com/accounts/login/?next=https%3A%2F%2Fwww.instagram.com%2Fhacettepe_university%2F&is_from_rle\n",
            "Ziyaret ediliyor: https://www.facebook.com/HacettepeUniversitesiKurumsal (Seviye: 2)\n",
            "Ziyaret ediliyor: https://twitter.com/hacettepe1967 (Seviye: 2)\n",
            "Ziyaret ediliyor: https://huys.hacettepe.edu.tr:7020/CasSunucu/login?service=http%3A%2F%2Fhuys.hacettepe.edu.tr%2FuygulamaGiris (Seviye: 2)\n",
            "Bağlantı hatası: HTTPSConnectionPool(host='huys.hacettepe.edu.tr', port=7020): Max retries exceeded with url: /CasSunucu/login?service=http%3A%2F%2Fhuys.hacettepe.edu.tr%2FuygulamaGiris (Caused by SSLError(SSLError(1, '[SSL: UNSAFE_LEGACY_RENEGOTIATION_DISABLED] unsafe legacy renegotiation disabled (_ssl.c:1007)')))\n",
            "Ziyaret ediliyor: http://www.bidb.hacettepe.edu.tr/eimza/index.php (Seviye: 2)\n",
            "Ziyaret ediliyor: https://www.btk.gov.tr/kanunlar (Seviye: 2)\n",
            "Bağlantı hatası: HTTPSConnectionPool(host='www.btk.gov.tr', port=443): Max retries exceeded with url: /kanunlar (Caused by SSLError(SSLCertVerificationError(1, '[SSL: CERTIFICATE_VERIFY_FAILED] certificate verify failed: unable to get local issuer certificate (_ssl.c:1007)')))\n",
            "Ziyaret ediliyor: https://www.instagram.com/hacettepe_university/ (Seviye: 2)\n",
            "Bağlantı hatası: 429 Client Error: Too Many Requests for url: https://www.instagram.com/accounts/login/?next=https%3A%2F%2Fwww.instagram.com%2Fhacettepe_university%2F&is_from_rle\n",
            "Ziyaret ediliyor: https://www.facebook.com/HacettepeUniversitesiKurumsal (Seviye: 2)\n",
            "Ziyaret ediliyor: https://twitter.com/hacettepe1967 (Seviye: 2)\n",
            "Ziyaret ediliyor: https://posta.hacettepe.edu.tr (Seviye: 2)\n",
            "Bağlantı hatası: HTTPSConnectionPool(host='posta.hacettepe.edu.tr', port=443): Max retries exceeded with url: / (Caused by SSLError(SSLError(1, '[SSL: UNSAFE_LEGACY_RENEGOTIATION_DISABLED] unsafe legacy renegotiation disabled (_ssl.c:1007)')))\n",
            "Ziyaret ediliyor: https://outlook.office.com/ (Seviye: 2)\n",
            "Ziyaret ediliyor: https://portal.hacettepe.edu.tr/ (Seviye: 2)\n",
            "Ziyaret ediliyor: http://www.bidb.hacettepe.edu.tr/tr/sorumluluksiniri (Seviye: 2)\n",
            "Ziyaret ediliyor: https://www.youtube.com/about/ (Seviye: 2)\n",
            "Ziyaret ediliyor: https://www.youtube.com/about/press/ (Seviye: 2)\n",
            "Ziyaret ediliyor: https://www.youtube.com/about/copyright/ (Seviye: 2)\n",
            "Ziyaret ediliyor: https://www.youtube.com/creators/ (Seviye: 2)\n",
            "Ziyaret ediliyor: https://www.youtube.com/ads/ (Seviye: 2)\n",
            "Ziyaret ediliyor: https://developers.google.com/youtube (Seviye: 2)\n",
            "Ziyaret ediliyor: https://www.youtube.com/about/policies/ (Seviye: 2)\n",
            "Ziyaret ediliyor: https://www.youtube.com/howyoutubeworks?utm_campaign=ytgen&utm_source=ythp&utm_medium=LeftNav&utm_content=txt&u=https%3A%2F%2Fwww.youtube.com%2Fhowyoutubeworks%3Futm_source%3Dythp%26utm_medium%3DLeftNav%26utm_campaign%3Dytgen (Seviye: 2)\n",
            "Ziyaret ediliyor: https://tv.youtube.com/learn/nflsundayticket (Seviye: 2)\n",
            "Ziyaret ediliyor: http://gazete.hacettepe.edu.tr/fs_/HABERLER/Gazete_Yonetim_Paneli_Rehberi.pdf (Seviye: 2)\n"
          ]
        },
        {
          "metadata": {
            "tags": null
          },
          "name": "stderr",
          "output_type": "stream",
          "text": [
            "WARNING:bs4.dammit:Some characters could not be decoded, and were replaced with REPLACEMENT CHARACTER.\n"
          ]
        },
        {
          "metadata": {
            "tags": null
          },
          "name": "stdout",
          "output_type": "stream",
          "text": [
            "Ziyaret ediliyor: http://gazete.hacettepe.edu.tr/fs_/HABERLER/Gazete_Yonetim_Paneli_Rehberi.pdf (Seviye: 2)\n"
          ]
        },
        {
          "metadata": {
            "tags": null
          },
          "name": "stderr",
          "output_type": "stream",
          "text": [
            "WARNING:bs4.dammit:Some characters could not be decoded, and were replaced with REPLACEMENT CHARACTER.\n"
          ]
        },
        {
          "metadata": {
            "tags": null
          },
          "name": "stdout",
          "output_type": "stream",
          "text": [
            "Ziyaret ediliyor: http://gazete.hacettepe.edu.tr/fs_/HABERLER/Gazete_Yonetim_Paneli_Rehberi.pdf (Seviye: 2)\n"
          ]
        },
        {
          "metadata": {
            "tags": null
          },
          "name": "stderr",
          "output_type": "stream",
          "text": [
            "WARNING:bs4.dammit:Some characters could not be decoded, and were replaced with REPLACEMENT CHARACTER.\n"
          ]
        },
        {
          "metadata": {
            "tags": null
          },
          "name": "stdout",
          "output_type": "stream",
          "text": [
            "Ziyaret ediliyor: http://gazete.hacettepe.edu.tr/fs_/HABERLER/Gazete_Yonetim_Paneli_Rehberi.pdf (Seviye: 2)\n"
          ]
        },
        {
          "metadata": {
            "tags": null
          },
          "name": "stderr",
          "output_type": "stream",
          "text": [
            "WARNING:bs4.dammit:Some characters could not be decoded, and were replaced with REPLACEMENT CHARACTER.\n"
          ]
        },
        {
          "metadata": {
            "tags": null
          },
          "name": "stdout",
          "output_type": "stream",
          "text": [
            "Ziyaret ediliyor: http://gazete.hacettepe.edu.tr/fs_/HABERLER/Gazete_Yonetim_Paneli_Rehberi.pdf (Seviye: 2)\n"
          ]
        },
        {
          "metadata": {
            "tags": null
          },
          "name": "stderr",
          "output_type": "stream",
          "text": [
            "WARNING:bs4.dammit:Some characters could not be decoded, and were replaced with REPLACEMENT CHARACTER.\n"
          ]
        },
        {
          "metadata": {
            "tags": null
          },
          "name": "stdout",
          "output_type": "stream",
          "text": [
            "Ziyaret ediliyor: http://stl.hacettepe.edu.tr (Seviye: 2)\n",
            "Ziyaret ediliyor: http://gazete.hacettepe.edu.tr/fs_/HABERLER/Gazete_Yonetim_Paneli_Rehberi.pdf (Seviye: 2)\n"
          ]
        },
        {
          "metadata": {
            "tags": null
          },
          "name": "stderr",
          "output_type": "stream",
          "text": [
            "WARNING:bs4.dammit:Some characters could not be decoded, and were replaced with REPLACEMENT CHARACTER.\n"
          ]
        },
        {
          "metadata": {
            "tags": null
          },
          "name": "stdout",
          "output_type": "stream",
          "text": [
            "Ziyaret ediliyor: http://gazete.hacettepe.edu.tr/fs_/HABERLER/Gazete_Yonetim_Paneli_Rehberi.pdf (Seviye: 2)\n"
          ]
        },
        {
          "metadata": {
            "tags": null
          },
          "name": "stderr",
          "output_type": "stream",
          "text": [
            "WARNING:bs4.dammit:Some characters could not be decoded, and were replaced with REPLACEMENT CHARACTER.\n"
          ]
        },
        {
          "metadata": {
            "tags": null
          },
          "name": "stdout",
          "output_type": "stream",
          "text": [
            "Ziyaret ediliyor: http://gazete.hacettepe.edu.tr/fs_/HABERLER/Gazete_Yonetim_Paneli_Rehberi.pdf (Seviye: 2)\n"
          ]
        },
        {
          "metadata": {
            "tags": null
          },
          "name": "stderr",
          "output_type": "stream",
          "text": [
            "WARNING:bs4.dammit:Some characters could not be decoded, and were replaced with REPLACEMENT CHARACTER.\n"
          ]
        },
        {
          "metadata": {
            "tags": null
          },
          "name": "stdout",
          "output_type": "stream",
          "text": [
            "Ziyaret ediliyor: http://gazete.hacettepe.edu.tr/fs_/HABERLER/Gazete_Yonetim_Paneli_Rehberi.pdf (Seviye: 2)\n"
          ]
        },
        {
          "metadata": {
            "tags": null
          },
          "name": "stderr",
          "output_type": "stream",
          "text": [
            "WARNING:bs4.dammit:Some characters could not be decoded, and were replaced with REPLACEMENT CHARACTER.\n"
          ]
        },
        {
          "metadata": {
            "tags": null
          },
          "name": "stdout",
          "output_type": "stream",
          "text": [
            "Ziyaret ediliyor: https://gazete.hacettepe.edu.tr/tr/haber/turkiyenin_en_kapsamli_biyocesitlilik_muzesi_hacettepede_acildi-419 (Seviye: 2)\n",
            "Ziyaret ediliyor: https://gazete.hacettepe.edu.tr/tr/haber/universitemize_yokak_tarafindan_5_yil_sureyle_tam_akreditasyon-412 (Seviye: 2)\n",
            "Ziyaret ediliyor: https://gazete.hacettepe.edu.tr//tr/haber/iki_ogretim_uyemize_tubitak_bilim_odulu-353 (Seviye: 2)\n",
            "Ziyaret ediliyor: http://gazete.hacettepe.edu.tr/tr/haber/10_bin_yil_oncesine_isik_tutan_calisma_current_biologyde_yayimlandi_-337 (Seviye: 2)\n",
            "Ziyaret ediliyor: http://gazete.hacettepe.edu.tr/tr/haber/migren_arastirmalarinda_en_kayda_deger_gelismelerden_biri_hacettepeden-326 (Seviye: 2)\n",
            "Ziyaret ediliyor: http://gazete.hacettepe.edu.tr/tr/haber/neolitik_kulturlerin_kaynasma_merkezi_yukari_mezopotamya_-310 (Seviye: 2)\n",
            "Ziyaret ediliyor: https://www.instagram.com/hacettepe_university/ (Seviye: 2)\n",
            "Bağlantı hatası: 429 Client Error: Too Many Requests for url: https://www.instagram.com/accounts/login/?next=https%3A%2F%2Fwww.instagram.com%2Fhacettepe_university%2F&is_from_rle\n",
            "Ziyaret ediliyor: https://www.facebook.com/HacettepeUniversitesiKurumsal (Seviye: 2)\n",
            "Ziyaret ediliyor: https://twitter.com/hacettepe1967 (Seviye: 2)\n",
            "Ziyaret ediliyor: https://bidb.hacettepe.edu.tr/tr/e-posta (Seviye: 2)\n",
            "Ziyaret ediliyor: https://kalite.hacettepe.edu.tr/tr (Seviye: 2)\n",
            "Ziyaret ediliyor: https://bilsis.hacettepe.edu.tr/oibs/std/login.aspx (Seviye: 2)\n",
            "Ziyaret ediliyor: https://bilsis.hacettepe.edu.tr/oibs/acd/login.aspx (Seviye: 2)\n",
            "Ziyaret ediliyor: https://bilsis.hacettepe.edu.tr/oibs/ (Seviye: 2)\n",
            "Ziyaret ediliyor: http://yenikazanan2.hacettepe.edu.tr (Seviye: 2)\n",
            "Ziyaret ediliyor: https://bilsis.hacettepe.edu.tr/oibs/ogrsis/no_query.aspx (Seviye: 2)\n",
            "Ziyaret ediliyor: https://hacettepe.edu.tr/yerleskedeyasam/ (Seviye: 2)\n",
            "Ziyaret ediliyor: https://hacettepe.edu.tr/yerleskedeyasam/ulasim (Seviye: 2)\n",
            "Ziyaret ediliyor: https://universitem.hacettepe.edu.tr/ (Seviye: 2)\n",
            "Ziyaret ediliyor: https://uni101.hacettepe.edu.tr/ (Seviye: 2)\n",
            "Ziyaret ediliyor: http://fs.hacettepe.edu.tr/oidb/dosyalar/dosyalar/ogrenci_el_kitabi_tr.pdf (Seviye: 2)\n"
          ]
        },
        {
          "metadata": {
            "tags": null
          },
          "name": "stderr",
          "output_type": "stream",
          "text": [
            "WARNING:bs4.dammit:Some characters could not be decoded, and were replaced with REPLACEMENT CHARACTER.\n"
          ]
        },
        {
          "metadata": {
            "tags": null
          },
          "name": "stdout",
          "output_type": "stream",
          "text": [
            "Ziyaret ediliyor: https://eob.hacettepe.edu.tr/ (Seviye: 2)\n",
            "Ziyaret ediliyor: https://internationalstudent2.hacettepe.edu.tr/ (Seviye: 2)\n",
            "Ziyaret ediliyor: https://oidb.hacettepe.edu.tr/tr/akademik_takvim_20232024-405 (Seviye: 2)\n",
            "Ziyaret ediliyor: https://fs.hacettepe.edu.tr/tip/ekler/pdf/20242025AkademikTakvim.pdf (Seviye: 2)\n"
          ]
        },
        {
          "metadata": {
            "tags": null
          },
          "name": "stderr",
          "output_type": "stream",
          "text": [
            "WARNING:bs4.dammit:Some characters could not be decoded, and were replaced with REPLACEMENT CHARACTER.\n"
          ]
        },
        {
          "metadata": {
            "tags": null
          },
          "name": "stdout",
          "output_type": "stream",
          "text": [
            "Ziyaret ediliyor: https://fs.hacettepe.edu.tr/oidb/dosyalar/akademik_takvimler/24-25/2425_dis.pdf (Seviye: 2)\n"
          ]
        },
        {
          "metadata": {
            "tags": null
          },
          "name": "stderr",
          "output_type": "stream",
          "text": [
            "WARNING:bs4.dammit:Some characters could not be decoded, and were replaced with REPLACEMENT CHARACTER.\n"
          ]
        },
        {
          "metadata": {
            "tags": null
          },
          "name": "stdout",
          "output_type": "stream",
          "text": [
            "Ziyaret ediliyor: https://ydyo.hacettepe.edu.tr/tr/menu/2024_2025_egitim_ogretim_yili_akade-225 (Seviye: 2)\n",
            "Ziyaret ediliyor: https://fs.hacettepe.edu.tr/oidb/dosyalar/akademik_takvimler/24-25/24-25_yatay_gecis_takvimi.pdf (Seviye: 2)\n"
          ]
        },
        {
          "metadata": {
            "tags": null
          },
          "name": "stderr",
          "output_type": "stream",
          "text": [
            "WARNING:bs4.dammit:Some characters could not be decoded, and were replaced with REPLACEMENT CHARACTER.\n"
          ]
        },
        {
          "metadata": {
            "tags": null
          },
          "name": "stdout",
          "output_type": "stream",
          "text": [
            "Ziyaret ediliyor: https://internationalstudent2.hacettepe.edu.tr/tr/menu/basvuru_ve_kabul_takvimi-37 (Seviye: 2)\n",
            "Ziyaret ediliyor: http://akts.hacettepe.edu.tr/ (Seviye: 2)\n",
            "Ziyaret ediliyor: https://oidb.hacettepe.edu.tr/tr/misafirim_var_uygulamasi_tum_o-549 (Seviye: 2)\n",
            "Ziyaret ediliyor: https://belgedogrulama.hacettepe.edu.tr/ (Seviye: 2)\n",
            "Ziyaret ediliyor: https://geribildirim.hacettepe.edu.tr/ (Seviye: 2)\n",
            "Bağlantı hatası: HTTPSConnectionPool(host='geribildirim.hacettepe.edu.tr', port=443): Max retries exceeded with url: / (Caused by SSLError(SSLCertVerificationError(1, '[SSL: CERTIFICATE_VERIFY_FAILED] certificate verify failed: unable to get local issuer certificate (_ssl.c:1007)')))\n",
            "Ziyaret ediliyor: https://www.instagram.com/hacettepe_university/ (Seviye: 2)\n",
            "Bağlantı hatası: 429 Client Error: Too Many Requests for url: https://www.instagram.com/accounts/login/?next=https%3A%2F%2Fwww.instagram.com%2Fhacettepe_university%2F&is_from_rle\n",
            "Ziyaret ediliyor: https://www.facebook.com/HacettepeUniversitesiKurumsal (Seviye: 2)\n",
            "Ziyaret ediliyor: https://twitter.com/hacettepe1967 (Seviye: 2)\n",
            "Ziyaret ediliyor: https://bidb.hacettepe.edu.tr/tr/e-posta (Seviye: 2)\n",
            "Ziyaret ediliyor: https://www.teknofest.org/tr/ (Seviye: 2)\n",
            "Bağlantı hatası: 403 Client Error: Forbidden for url: https://www.teknofest.org/tr/\n",
            "Ziyaret ediliyor: https://einsan.gov.tr/ (Seviye: 2)\n",
            "Bağlantı hatası: HTTPSConnectionPool(host='einsan.gov.tr', port=443): Max retries exceeded with url: / (Caused by SSLError(SSLCertVerificationError(1, '[SSL: CERTIFICATE_VERIFY_FAILED] certificate verify failed: unable to get local issuer certificate (_ssl.c:1007)')))\n",
            "Ziyaret ediliyor: https://bilsis.hacettepe.edu.tr/oibs/std/login.aspx (Seviye: 2)\n",
            "Ziyaret ediliyor: https://bilsis.hacettepe.edu.tr/oibs/acd/login.aspx (Seviye: 2)\n",
            "Ziyaret ediliyor: https://bilsis.hacettepe.edu.tr/oibs/ (Seviye: 2)\n",
            "Ziyaret ediliyor: http://yenikazanan2.hacettepe.edu.tr (Seviye: 2)\n",
            "Ziyaret ediliyor: https://bilsis.hacettepe.edu.tr/oibs/ogrsis/no_query.aspx (Seviye: 2)\n",
            "Ziyaret ediliyor: https://hacettepe.edu.tr/yerleskedeyasam/ (Seviye: 2)\n",
            "Ziyaret ediliyor: https://hacettepe.edu.tr/yerleskedeyasam/ulasim (Seviye: 2)\n",
            "Ziyaret ediliyor: https://universitem.hacettepe.edu.tr/ (Seviye: 2)\n",
            "Ziyaret ediliyor: https://uni101.hacettepe.edu.tr/ (Seviye: 2)\n",
            "Ziyaret ediliyor: http://fs.hacettepe.edu.tr/oidb/dosyalar/dosyalar/ogrenci_el_kitabi_tr.pdf (Seviye: 2)\n"
          ]
        },
        {
          "metadata": {
            "tags": null
          },
          "name": "stderr",
          "output_type": "stream",
          "text": [
            "WARNING:bs4.dammit:Some characters could not be decoded, and were replaced with REPLACEMENT CHARACTER.\n"
          ]
        },
        {
          "metadata": {
            "tags": null
          },
          "name": "stdout",
          "output_type": "stream",
          "text": [
            "Ziyaret ediliyor: https://eob.hacettepe.edu.tr/ (Seviye: 2)\n",
            "Ziyaret ediliyor: https://internationalstudent2.hacettepe.edu.tr/ (Seviye: 2)\n",
            "Ziyaret ediliyor: https://oidb.hacettepe.edu.tr/tr/akademik_takvim_20232024-405 (Seviye: 2)\n",
            "Ziyaret ediliyor: https://fs.hacettepe.edu.tr/tip/ekler/pdf/20242025AkademikTakvim.pdf (Seviye: 2)\n"
          ]
        },
        {
          "metadata": {
            "tags": null
          },
          "name": "stderr",
          "output_type": "stream",
          "text": [
            "WARNING:bs4.dammit:Some characters could not be decoded, and were replaced with REPLACEMENT CHARACTER.\n"
          ]
        },
        {
          "metadata": {
            "tags": null
          },
          "name": "stdout",
          "output_type": "stream",
          "text": [
            "Ziyaret ediliyor: https://fs.hacettepe.edu.tr/oidb/dosyalar/akademik_takvimler/24-25/2425_dis.pdf (Seviye: 2)\n"
          ]
        },
        {
          "metadata": {
            "tags": null
          },
          "name": "stderr",
          "output_type": "stream",
          "text": [
            "WARNING:bs4.dammit:Some characters could not be decoded, and were replaced with REPLACEMENT CHARACTER.\n"
          ]
        },
        {
          "metadata": {
            "tags": null
          },
          "name": "stdout",
          "output_type": "stream",
          "text": [
            "Ziyaret ediliyor: https://ydyo.hacettepe.edu.tr/tr/menu/2024_2025_egitim_ogretim_yili_akade-225 (Seviye: 2)\n",
            "Ziyaret ediliyor: https://fs.hacettepe.edu.tr/oidb/dosyalar/akademik_takvimler/24-25/24-25_yatay_gecis_takvimi.pdf (Seviye: 2)\n"
          ]
        },
        {
          "metadata": {
            "tags": null
          },
          "name": "stderr",
          "output_type": "stream",
          "text": [
            "WARNING:bs4.dammit:Some characters could not be decoded, and were replaced with REPLACEMENT CHARACTER.\n"
          ]
        },
        {
          "metadata": {
            "tags": null
          },
          "name": "stdout",
          "output_type": "stream",
          "text": [
            "Ziyaret ediliyor: https://internationalstudent2.hacettepe.edu.tr/tr/menu/basvuru_ve_kabul_takvimi-37 (Seviye: 2)\n",
            "Ziyaret ediliyor: http://akts.hacettepe.edu.tr/ (Seviye: 2)\n",
            "Ziyaret ediliyor: https://oidb.hacettepe.edu.tr/tr/misafirim_var_uygulamasi_tum_o-549 (Seviye: 2)\n",
            "Ziyaret ediliyor: https://belgedogrulama.hacettepe.edu.tr/ (Seviye: 2)\n",
            "Ziyaret ediliyor: https://geribildirim.hacettepe.edu.tr/ (Seviye: 2)\n",
            "Bağlantı hatası: HTTPSConnectionPool(host='geribildirim.hacettepe.edu.tr', port=443): Max retries exceeded with url: / (Caused by SSLError(SSLCertVerificationError(1, '[SSL: CERTIFICATE_VERIFY_FAILED] certificate verify failed: unable to get local issuer certificate (_ssl.c:1007)')))\n",
            "Ziyaret ediliyor: https://internationalstudent2.hacettepe.edu.tr/tr/%3Cimg_src=fshacettepeedutryenik-95 (Seviye: 2)\n",
            "Ziyaret ediliyor: https://yenikazanan2.hacettepe.edu.tr/tr/menu/%3Cimg_src=httpfshacettepeedutryenika-43 (Seviye: 2)\n",
            "Ziyaret ediliyor: https://yenikazanan2.hacettepe.edu.tr/tr/menu/%3Cimg_src=httpfshacettepeedutryenika-41 (Seviye: 2)\n",
            "Ziyaret ediliyor: https://fs.hacettepe.edu.tr/oidb/dosyalar/duyurular/%C3%9Ccretsiz%20Beslenme%20Deste%C4%9Fi%20Duyuru.pdf (Seviye: 2)\n"
          ]
        },
        {
          "metadata": {
            "tags": null
          },
          "name": "stderr",
          "output_type": "stream",
          "text": [
            "WARNING:bs4.dammit:Some characters could not be decoded, and were replaced with REPLACEMENT CHARACTER.\n"
          ]
        },
        {
          "metadata": {
            "tags": null
          },
          "name": "stdout",
          "output_type": "stream",
          "text": [
            "Ziyaret ediliyor: https://fs.hacettepe.edu.tr/oidb/TEV%20%C3%9CST%C3%9CN%20BA%C5%9EARI%20SANAT%20BURSU%20DUYURUSU.pdf (Seviye: 2)\n"
          ]
        },
        {
          "metadata": {
            "tags": null
          },
          "name": "stderr",
          "output_type": "stream",
          "text": [
            "WARNING:bs4.dammit:Some characters could not be decoded, and were replaced with REPLACEMENT CHARACTER.\n"
          ]
        },
        {
          "metadata": {
            "tags": null
          },
          "name": "stdout",
          "output_type": "stream",
          "text": [
            "Ziyaret ediliyor: https://fs.hacettepe.edu.tr/oidb/Tekfen%20Vakf%C4%B1%202024-2025%20Burs.jpg (Seviye: 2)\n"
          ]
        },
        {
          "metadata": {
            "tags": null
          },
          "name": "stderr",
          "output_type": "stream",
          "text": [
            "WARNING:bs4.dammit:Some characters could not be decoded, and were replaced with REPLACEMENT CHARACTER.\n"
          ]
        },
        {
          "metadata": {
            "tags": null
          },
          "name": "stdout",
          "output_type": "stream",
          "text": [
            "Ziyaret ediliyor: https://gazete.hacettepe.edu.tr//tr/haber/ogrenci_bilgi_sistemi_mobil_uygulamasi_kullanima_sunuldu-633 (Seviye: 2)\n",
            "Ziyaret ediliyor: https://internationalstudent2.hacettepe.edu.tr/tr/ogrenim_ucretleri_hakkinda_gun-67 (Seviye: 2)\n",
            "Ziyaret ediliyor: https://gazete.hacettepe.edu.tr/tr/haber/universitemize_engelsiz_universite_odulu-429 (Seviye: 2)\n",
            "Ziyaret ediliyor: https://gazete.hacettepe.edu.tr/tr/haber/universitemize_yokak_tarafindan_5_yil_sureyle_tam_akreditasyon-412?fbclid=IwAR1Z-Elygf9oqQoa4TkvWXLxLe7tMVTLozTYhlQ_iCC0-fRprbsLxCa1BXU (Seviye: 2)\n",
            "Ziyaret ediliyor: https://bilsis.hacettepe.edu.tr/oibs/std/login.aspx (Seviye: 2)\n",
            "Ziyaret ediliyor: https://bilsis.hacettepe.edu.tr/oibs/acd/login.aspx (Seviye: 2)\n",
            "Ziyaret ediliyor: https://bilsis.hacettepe.edu.tr/oibs/login.aspx (Seviye: 2)\n",
            "Ziyaret ediliyor: https://www.yetenekkapisi.org/ (Seviye: 2)\n",
            "Ziyaret ediliyor: https://www.hacettepe.edu.tr/ogrenci/ (Seviye: 2)\n",
            "Ziyaret ediliyor: https://www.hacettepe.edu.tr/personel/ (Seviye: 2)\n",
            "Ziyaret ediliyor: https://mezunum.hacettepe.edu.tr/ (Seviye: 2)\n",
            "Ziyaret ediliyor: https://universitem.hacettepe.edu.tr/ (Seviye: 2)\n",
            "Ziyaret ediliyor: https://hacettepe.edu.tr/ (Seviye: 2)\n",
            "Ziyaret ediliyor: https://stl.hacettepe.edu.tr/en/center-for-sustainable-teaching-and-learning/ (Seviye: 2)\n",
            "Ziyaret ediliyor: https://www.instagram.com/stl_hacettepe/ (Seviye: 2)\n",
            "Bağlantı hatası: 429 Client Error: Too Many Requests for url: https://www.instagram.com/accounts/login/?next=https%3A%2F%2Fwww.instagram.com%2Fstl_hacettepe%2F&is_from_rle\n",
            "Ziyaret ediliyor: https://www.linkedin.com/company/s%C3%BCrd%C3%BCr%C3%BClebilir-%C3%B6%C4%9Fretme-ve-%C3%B6%C4%9Frenme-merkezi/?viewAsMember=true (Seviye: 2)\n",
            "Ziyaret ediliyor: https://stl.hacettepe.edu.tr/ (Seviye: 2)\n",
            "Ziyaret ediliyor: https://kalite.hacettepe.edu.tr (Seviye: 2)\n",
            "Ziyaret ediliyor: https://stl.hacettepe.edu.tr/ogretme/ (Seviye: 2)\n",
            "Ziyaret ediliyor: https://stl.hacettepe.edu.tr/akademik-oryantasyon-programi/ (Seviye: 2)\n",
            "Ziyaret ediliyor: https://stl.hacettepe.edu.tr/ogretim-gozlem-programi/ (Seviye: 2)\n",
            "Ziyaret ediliyor: https://stl.hacettepe.edu.tr/yenilikci-ogretim-uygulamalari/ (Seviye: 2)\n",
            "Ziyaret ediliyor: https://stl.hacettepe.edu.tr/teknoloji-mentorluk-programi/ (Seviye: 2)\n",
            "Ziyaret ediliyor: https://stl.hacettepe.edu.tr/ders-tasarim-atolyesi/ (Seviye: 2)\n",
            "Ziyaret ediliyor: https://stl.hacettepe.edu.tr/ogrenme/ (Seviye: 2)\n",
            "Ziyaret ediliyor: https://stl.hacettepe.edu.tr/akademik-akran-destegi/ (Seviye: 2)\n",
            "Ziyaret ediliyor: https://stl.hacettepe.edu.tr/yasam-beceri-seminerleri/ (Seviye: 2)\n",
            "Ziyaret ediliyor: https://stl.hacettepe.edu.tr/lisansustu-soylesileri/ (Seviye: 2)\n",
            "Ziyaret ediliyor: https://stl.hacettepe.edu.tr/yayinlar/ (Seviye: 2)\n",
            "Ziyaret ediliyor: https://stl.hacettepe.edu.tr/ogretimde-pratik-bilgiler/ (Seviye: 2)\n",
            "Ziyaret ediliyor: https://stl.hacettepe.edu.tr/uzaktan-egitim-verileri/ (Seviye: 2)\n",
            "Ziyaret ediliyor: https://stl.hacettepe.edu.tr/deneyim-paylasimlari/ (Seviye: 2)\n",
            "Ziyaret ediliyor: https://stl.hacettepe.edu.tr/arsiv/ (Seviye: 2)\n",
            "Ziyaret ediliyor: https://stl.hacettepe.edu.tr/arastirma/ (Seviye: 2)\n",
            "Ziyaret ediliyor: https://stl.hacettepe.edu.tr/etkinlik-kayit/ (Seviye: 2)\n",
            "Ziyaret ediliyor: https://stl.hacettepe.edu.tr/hakkimizda/ (Seviye: 2)\n",
            "Ziyaret ediliyor: https://stl.hacettepe.edu.tr/bize-ulasin-2/ (Seviye: 2)\n",
            "Ziyaret ediliyor: https://stl.hacettepe.edu.tr/ogretme/ (Seviye: 2)\n",
            "Ziyaret ediliyor: https://stl.hacettepe.edu.tr/ogrenme/ (Seviye: 2)\n",
            "Ziyaret ediliyor: https://stl.hacettepe.edu.tr/etkinlik-kayit/ (Seviye: 2)\n",
            "Ziyaret ediliyor: https://www.hacettepe.edu.tr/ (Seviye: 2)\n",
            "Ziyaret ediliyor: https://hacettepe.edu.tr (Seviye: 2)\n",
            "Ziyaret ediliyor: https://huzem.hacettepe.edu.tr (Seviye: 2)\n",
            "Ziyaret ediliyor: https://tr-tr.facebook.com/huzemhacettepe/ (Seviye: 2)\n",
            "Ziyaret ediliyor: https://twitter.com/huzemhacettepe (Seviye: 2)\n",
            "Ziyaret ediliyor: https://www.instagram.com/hacettepe_university/ (Seviye: 2)\n",
            "Bağlantı hatası: 429 Client Error: Too Many Requests for url: https://www.instagram.com/accounts/login/?next=https%3A%2F%2Fwww.instagram.com%2Fhacettepe_university%2F&is_from_rle\n",
            "Ziyaret ediliyor: https://www.facebook.com/HacettepeUniversitesiKurumsal (Seviye: 2)\n",
            "Ziyaret ediliyor: https://twitter.com/hacettepe1967 (Seviye: 2)\n",
            "Ziyaret ediliyor: https://hadi.hacettepe.edu.tr (Seviye: 2)\n",
            "Ziyaret ediliyor: https://hadi.hacettepe.edu.tr (Seviye: 2)\n",
            "Ziyaret ediliyor: https://ydyohazirlik.hacettepe.edu.tr (Seviye: 2)\n",
            "Ziyaret ediliyor: https://ydyohazirlik.hacettepe.edu.tr (Seviye: 2)\n",
            "Ziyaret ediliyor: https://tipmoodle.hacettepe.edu.tr (Seviye: 2)\n",
            "Ziyaret ediliyor: https://tipmoodle.hacettepe.edu.tr (Seviye: 2)\n",
            "Ziyaret ediliyor: https://hadi.hacettepe.edu.tr/login/forgot_password.php (Seviye: 2)\n",
            "Ziyaret ediliyor: https://hadiarsiv.hacettepe.edu.tr/aydinlatma_metni2.pdf (Seviye: 2)\n"
          ]
        },
        {
          "metadata": {
            "tags": null
          },
          "name": "stderr",
          "output_type": "stream",
          "text": [
            "WARNING:bs4.dammit:Some characters could not be decoded, and were replaced with REPLACEMENT CHARACTER.\n"
          ]
        },
        {
          "metadata": {
            "tags": null
          },
          "name": "stdout",
          "output_type": "stream",
          "text": [
            "Ziyaret ediliyor: https://hadiarsiv.hacettepe.edu.tr/aydinlatma_metni.pdf (Seviye: 2)\n"
          ]
        },
        {
          "metadata": {
            "tags": null
          },
          "name": "stderr",
          "output_type": "stream",
          "text": [
            "WARNING:bs4.dammit:Some characters could not be decoded, and were replaced with REPLACEMENT CHARACTER.\n"
          ]
        },
        {
          "metadata": {
            "tags": null
          },
          "name": "stdout",
          "output_type": "stream",
          "text": [
            "Ziyaret ediliyor: https://hadi.hacettepe.edu.tr/login/index.php?lang=en (Seviye: 2)\n",
            "Ziyaret ediliyor: https://hadi.hacettepe.edu.tr/admin/tool/dataprivacy/summary.php (Seviye: 2)\n",
            "Ziyaret ediliyor: https://download.moodle.org/mobile?version=2023100902.05&lang=tr&iosappid=633359593&androidappid=com.moodle.moodlemobile (Seviye: 2)\n",
            "Ziyaret ediliyor: https://moodle.com (Seviye: 2)\n",
            "Bağlantı hatası: 403 Client Error: Forbidden for url: https://moodle.com/\n",
            "Ziyaret ediliyor: https://hadi.hacettepe.edu.tr/login/forgot_password.php (Seviye: 2)\n",
            "Ziyaret ediliyor: https://hadiarsiv.hacettepe.edu.tr/aydinlatma_metni2.pdf (Seviye: 2)\n"
          ]
        },
        {
          "metadata": {
            "tags": null
          },
          "name": "stderr",
          "output_type": "stream",
          "text": [
            "WARNING:bs4.dammit:Some characters could not be decoded, and were replaced with REPLACEMENT CHARACTER.\n"
          ]
        },
        {
          "metadata": {
            "tags": null
          },
          "name": "stdout",
          "output_type": "stream",
          "text": [
            "Ziyaret ediliyor: https://hadiarsiv.hacettepe.edu.tr/aydinlatma_metni.pdf (Seviye: 2)\n"
          ]
        },
        {
          "metadata": {
            "tags": null
          },
          "name": "stderr",
          "output_type": "stream",
          "text": [
            "WARNING:bs4.dammit:Some characters could not be decoded, and were replaced with REPLACEMENT CHARACTER.\n"
          ]
        },
        {
          "metadata": {
            "tags": null
          },
          "name": "stdout",
          "output_type": "stream",
          "text": [
            "Ziyaret ediliyor: https://hadi.hacettepe.edu.tr/login/index.php?lang=en (Seviye: 2)\n",
            "Ziyaret ediliyor: https://hadi.hacettepe.edu.tr/admin/tool/dataprivacy/summary.php (Seviye: 2)\n",
            "Ziyaret ediliyor: https://download.moodle.org/mobile?version=2023100902.05&lang=tr&iosappid=633359593&androidappid=com.moodle.moodlemobile (Seviye: 2)\n",
            "Ziyaret ediliyor: https://moodle.com (Seviye: 2)\n",
            "Bağlantı hatası: 403 Client Error: Forbidden for url: https://moodle.com/\n",
            "Ziyaret ediliyor: https://ydyohazirlik.hacettepe.edu.tr/login/forgot_password.php (Seviye: 2)\n",
            "Ziyaret ediliyor: https://hadi.hacettepe.edu.tr/aydinlatma_metni2.pdf (Seviye: 2)\n",
            "Bağlantı hatası: 404 Client Error: Not Found for url: https://hadi.hacettepe.edu.tr/aydinlatma_metni2.pdf\n",
            "Ziyaret ediliyor: https://hadi.hacettepe.edu.tr/aydinlatma_metni.pdf (Seviye: 2)\n",
            "Bağlantı hatası: 404 Client Error: Not Found for url: https://hadi.hacettepe.edu.tr/aydinlatma_metni.pdf\n",
            "Ziyaret ediliyor: https://ydyohazirlik.hacettepe.edu.tr/ (Seviye: 2)\n",
            "Ziyaret ediliyor: https://ydyohazirlik.hacettepe.edu.tr/admin/tool/dataprivacy/summary.php (Seviye: 2)\n",
            "Ziyaret ediliyor: https://download.moodle.org/mobile?version=2020061502.04&lang=tr&iosappid=633359593&androidappid=com.moodle.moodlemobile (Seviye: 2)\n",
            "Ziyaret ediliyor: https://yasamboyu.hacettepe.edu.tr/egitimler/ (Seviye: 2)\n",
            "Ziyaret ediliyor: https://yasamboyu.hacettepe.edu.tr/egitim-kategorisi/mesleki-egitimler/ (Seviye: 2)\n",
            "Ziyaret ediliyor: https://yasamboyu.hacettepe.edu.tr/egitim-kategorisi/kisisel-gelisim-egitimleri/ (Seviye: 2)\n",
            "Ziyaret ediliyor: https://yasamboyu.hacettepe.edu.tr/egitim-kategorisi/aciklama-yokakademik-gelisim-egitimleri/ (Seviye: 2)\n",
            "Ziyaret ediliyor: https://yasamboyu.hacettepe.edu.tr/egitim-kategorisi/bilgisayar-ve-bilisim-programlari/ (Seviye: 2)\n",
            "Ziyaret ediliyor: https://yasamboyu.hacettepe.edu.tr/egitim-kategorisi/cocouklara-yonelik-programlar/ (Seviye: 2)\n",
            "Ziyaret ediliyor: https://yasamboyu.hacettepe.edu.tr/egitim-kategorisi/aciklama-yokhukuk-bilirkisilik-egitimleri/ (Seviye: 2)\n",
            "Ziyaret ediliyor: https://yasamboyu.hacettepe.edu.tr/egitim-kategorisi/kultur-sanat-egitimleri/ (Seviye: 2)\n",
            "Ziyaret ediliyor: https://yasamboyu.hacettepe.edu.tr/egitim-kategorisi/is-sagligi-ve-guvenligi-egitimleri/ (Seviye: 2)\n",
            "Ziyaret ediliyor: https://yasamboyu.hacettepe.edu.tr/egitim-kategorisi/sinavlara-yonetmelik-hazirlik-egitimleri/ (Seviye: 2)\n",
            "Ziyaret ediliyor: https://yasamboyu.hacettepe.edu.tr/egitimler/etkili-iletisim-beden-dili-ve-diksiyon-programi/ (Seviye: 2)\n",
            "Ziyaret ediliyor: https://yasamboyu.hacettepe.edu.tr/egitimler/etkili-iletisim-beden-dili-ve-diksiyon-programi/ (Seviye: 2)\n",
            "Ziyaret ediliyor: https://yasamboyu.hacettepe.edu.tr/egitimler/etkili-iletisim-beden-dili-ve-diksiyon-programi/ (Seviye: 2)\n",
            "Ziyaret ediliyor: https://yasamboyu.hacettepe.edu.tr/gonullu-egitimler/ (Seviye: 2)\n",
            "Ziyaret ediliyor: https://yasamboyu.hacettepe.edu.tr/surdurulebilir-kalkinma-egitimleri/ (Seviye: 2)\n",
            "Ziyaret ediliyor: https://yasamboyu.hacettepe.edu.tr/sosyal-sorumluluk-egitimleri/ (Seviye: 2)\n",
            "Ziyaret ediliyor: https://yasamboyu.hacettepe.edu.tr/kurumsal-egitimler/ (Seviye: 2)\n",
            "Ziyaret ediliyor: https://yasamboyu.hacettepe.edu.tr/egiticilerin-egitimi-programi/ (Seviye: 2)\n",
            "Ziyaret ediliyor: https://yasamboyu.hacettepe.edu.tr/uluslararasi-egitimler/ (Seviye: 2)\n",
            "Ziyaret ediliyor: https://yasamboyu.hacettepe.edu.tr/sinavlar/ (Seviye: 2)\n",
            "Ziyaret ediliyor: https://sinav.hacettepe.edu.tr/ (Seviye: 2)\n",
            "Ziyaret ediliyor: https://yasamboyu.hacettepe.edu.tr/sinav-uygulama-klavuzu/ (Seviye: 2)\n",
            "Ziyaret ediliyor: https://yasamboyu.hacettepe.edu.tr/sinavlar/ (Seviye: 2)\n",
            "Ziyaret ediliyor: https://yasamboyu.hacettepe.edu.tr/etkinlikler/ (Seviye: 2)\n",
            "Ziyaret ediliyor: https://yasamboyu.hacettepe.edu.tr/duyurular/ (Seviye: 2)\n",
            "Ziyaret ediliyor: https://yasamboyu.hacettepe.edu.tr/hakkimizda/ (Seviye: 2)\n",
            "Ziyaret ediliyor: https://yasamboyu.hacettepe.edu.tr/misyon-vizyon/ (Seviye: 2)\n",
            "Ziyaret ediliyor: https://yasamboyu.hacettepe.edu.tr/kurumsal-tarihce/ (Seviye: 2)\n",
            "Ziyaret ediliyor: https://yasamboyu.hacettepe.edu.tr/yonetim-yapisi/ (Seviye: 2)\n",
            "Ziyaret ediliyor: https://yasamboyu.hacettepe.edu.tr/yonerge-yonetmelik/ (Seviye: 2)\n",
            "Ziyaret ediliyor: https://yasamboyu.hacettepe.edu.tr/sss/ (Seviye: 2)\n",
            "Ziyaret ediliyor: https://yasamboyu.hacettepe.edu.tr/banka-hesap-bilgileri/ (Seviye: 2)\n",
            "Ziyaret ediliyor: https://yasamboyu.hacettepe.edu.tr/kalite-yonetimi/ (Seviye: 2)\n",
            "Ziyaret ediliyor: https://yasamboyu.hacettepe.edu.tr/hedefler/ (Seviye: 2)\n",
            "Ziyaret ediliyor: https://yasamboyu.hacettepe.edu.tr/ic-ve-dis-paydaslarimiz/ (Seviye: 2)\n",
            "Ziyaret ediliyor: https://yasamboyu.hacettepe.edu.tr/2023-egitim-ve-sinav-hizmetleri-hedefleri/ (Seviye: 2)\n",
            "Ziyaret ediliyor: https://yasamboyu.hacettepe.edu.tr/faaliyet-raporlari/ (Seviye: 2)\n",
            "Ziyaret ediliyor: https://yasamboyu.hacettepe.edu.tr/butce/ (Seviye: 2)\n",
            "Ziyaret ediliyor: https://yasamboyu.hacettepe.edu.tr/performans-gostergeleri/ (Seviye: 2)\n",
            "Ziyaret ediliyor: https://yasamboyu.hacettepe.edu.tr/memnuniyet-anketi/ (Seviye: 2)\n",
            "Ziyaret ediliyor: https://yasamboyu.hacettepe.edu.tr/diger-raporlar/ (Seviye: 2)\n",
            "Ziyaret ediliyor: https://yasamboyu.hacettepe.edu.tr/iletisim/ (Seviye: 2)\n",
            "Ziyaret ediliyor: https://yasamboyu.hacettepe.edu.tr/galeri/ (Seviye: 2)\n",
            "Ziyaret ediliyor: https://yasamboyu.hacettepe.edu.tr/hesap/ (Seviye: 2)\n",
            "Ziyaret ediliyor: https://yasamboyu.hacettepe.edu.tr/ (Seviye: 2)\n",
            "Ziyaret ediliyor: https://yasamboyu.hacettepe.edu.tr/egitimler/ (Seviye: 2)\n",
            "Ziyaret ediliyor: https://yasamboyu.hacettepe.edu.tr/egitim-kategorisi/mesleki-egitimler/ (Seviye: 2)\n",
            "Ziyaret ediliyor: https://yasamboyu.hacettepe.edu.tr/egitim-kategorisi/kisisel-gelisim-egitimleri/ (Seviye: 2)\n",
            "Ziyaret ediliyor: https://yasamboyu.hacettepe.edu.tr/egitim-kategorisi/aciklama-yokakademik-gelisim-egitimleri/ (Seviye: 2)\n",
            "Ziyaret ediliyor: https://yasamboyu.hacettepe.edu.tr/egitim-kategorisi/bilgisayar-ve-bilisim-programlari/ (Seviye: 2)\n",
            "Ziyaret ediliyor: https://yasamboyu.hacettepe.edu.tr/egitim-kategorisi/cocouklara-yonelik-programlar/ (Seviye: 2)\n",
            "Ziyaret ediliyor: https://yasamboyu.hacettepe.edu.tr/egitim-kategorisi/aciklama-yokhukuk-bilirkisilik-egitimleri/ (Seviye: 2)\n",
            "Ziyaret ediliyor: https://yasamboyu.hacettepe.edu.tr/egitim-kategorisi/kultur-sanat-egitimleri/ (Seviye: 2)\n",
            "Ziyaret ediliyor: https://yasamboyu.hacettepe.edu.tr/egitim-kategorisi/is-sagligi-ve-guvenligi-egitimleri/ (Seviye: 2)\n",
            "Ziyaret ediliyor: https://yasamboyu.hacettepe.edu.tr/egitim-kategorisi/sinavlara-yonetmelik-hazirlik-egitimleri/ (Seviye: 2)\n",
            "Ziyaret ediliyor: https://yasamboyu.hacettepe.edu.tr/egitimler/etkili-iletisim-beden-dili-ve-diksiyon-programi/ (Seviye: 2)\n",
            "Ziyaret ediliyor: https://yasamboyu.hacettepe.edu.tr/egitimler/etkili-iletisim-beden-dili-ve-diksiyon-programi/ (Seviye: 2)\n",
            "Ziyaret ediliyor: https://yasamboyu.hacettepe.edu.tr/egitimler/etkili-iletisim-beden-dili-ve-diksiyon-programi/ (Seviye: 2)\n",
            "Ziyaret ediliyor: https://yasamboyu.hacettepe.edu.tr/gonullu-egitimler/ (Seviye: 2)\n",
            "Ziyaret ediliyor: https://yasamboyu.hacettepe.edu.tr/surdurulebilir-kalkinma-egitimleri/ (Seviye: 2)\n",
            "Ziyaret ediliyor: https://yasamboyu.hacettepe.edu.tr/sosyal-sorumluluk-egitimleri/ (Seviye: 2)\n",
            "Ziyaret ediliyor: https://yasamboyu.hacettepe.edu.tr/kurumsal-egitimler/ (Seviye: 2)\n",
            "Ziyaret ediliyor: https://yasamboyu.hacettepe.edu.tr/egiticilerin-egitimi-programi/ (Seviye: 2)\n",
            "Ziyaret ediliyor: https://yasamboyu.hacettepe.edu.tr/uluslararasi-egitimler/ (Seviye: 2)\n",
            "Ziyaret ediliyor: https://yasamboyu.hacettepe.edu.tr/sinavlar/ (Seviye: 2)\n",
            "Ziyaret ediliyor: https://sinav.hacettepe.edu.tr/ (Seviye: 2)\n",
            "Ziyaret ediliyor: https://yasamboyu.hacettepe.edu.tr/sinav-uygulama-klavuzu/ (Seviye: 2)\n",
            "Ziyaret ediliyor: https://yasamboyu.hacettepe.edu.tr/sinavlar/ (Seviye: 2)\n",
            "Ziyaret ediliyor: https://yasamboyu.hacettepe.edu.tr/etkinlikler/ (Seviye: 2)\n",
            "Ziyaret ediliyor: https://yasamboyu.hacettepe.edu.tr/duyurular/ (Seviye: 2)\n",
            "Ziyaret ediliyor: https://yasamboyu.hacettepe.edu.tr/hakkimizda/ (Seviye: 2)\n",
            "Ziyaret ediliyor: https://yasamboyu.hacettepe.edu.tr/misyon-vizyon/ (Seviye: 2)\n",
            "Ziyaret ediliyor: https://yasamboyu.hacettepe.edu.tr/kurumsal-tarihce/ (Seviye: 2)\n",
            "Ziyaret ediliyor: https://yasamboyu.hacettepe.edu.tr/yonetim-yapisi/ (Seviye: 2)\n",
            "Ziyaret ediliyor: https://yasamboyu.hacettepe.edu.tr/yonerge-yonetmelik/ (Seviye: 2)\n",
            "Ziyaret ediliyor: https://yasamboyu.hacettepe.edu.tr/sss/ (Seviye: 2)\n",
            "Ziyaret ediliyor: https://yasamboyu.hacettepe.edu.tr/banka-hesap-bilgileri/ (Seviye: 2)\n",
            "Ziyaret ediliyor: https://yasamboyu.hacettepe.edu.tr/kalite-yonetimi/ (Seviye: 2)\n",
            "Ziyaret ediliyor: https://yasamboyu.hacettepe.edu.tr/hedefler/ (Seviye: 2)\n",
            "Ziyaret ediliyor: https://yasamboyu.hacettepe.edu.tr/ic-ve-dis-paydaslarimiz/ (Seviye: 2)\n",
            "Ziyaret ediliyor: https://yasamboyu.hacettepe.edu.tr/2023-egitim-ve-sinav-hizmetleri-hedefleri/ (Seviye: 2)\n",
            "Ziyaret ediliyor: https://yasamboyu.hacettepe.edu.tr/faaliyet-raporlari/ (Seviye: 2)\n",
            "Ziyaret ediliyor: https://yasamboyu.hacettepe.edu.tr/butce/ (Seviye: 2)\n",
            "Ziyaret ediliyor: https://yasamboyu.hacettepe.edu.tr/performans-gostergeleri/ (Seviye: 2)\n",
            "Ziyaret ediliyor: https://yasamboyu.hacettepe.edu.tr/memnuniyet-anketi/ (Seviye: 2)\n",
            "Ziyaret ediliyor: https://yasamboyu.hacettepe.edu.tr/diger-raporlar/ (Seviye: 2)\n",
            "Ziyaret ediliyor: https://yasamboyu.hacettepe.edu.tr/iletisim/ (Seviye: 2)\n",
            "Ziyaret ediliyor: https://yasamboyu.hacettepe.edu.tr/galeri/ (Seviye: 2)\n",
            "Ziyaret ediliyor: https://yasamboyu.hacettepe.edu.tr/egitimler/etkili-iletisim-beden-dili-ve-diksiyon-programi/ (Seviye: 2)\n",
            "Ziyaret ediliyor: https://yasamboyu.hacettepe.edu.tr/profile/yasamboyufidan/ (Seviye: 2)\n",
            "Ziyaret ediliyor: https://yasamboyu.hacettepe.edu.tr/egitimler/etkili-iletisim-beden-dili-ve-diksiyon-programi/ (Seviye: 2)\n",
            "Ziyaret ediliyor: https://yasamboyu.hacettepe.edu.tr/profile/yasamboyufidan/ (Seviye: 2)\n",
            "Ziyaret ediliyor: https://yasamboyu.hacettepe.edu.tr/egitimler/iklim-degisikligi-icin-surdurulebilir-kalkinma-sertifika-programi-2/ (Seviye: 2)\n",
            "Ziyaret ediliyor: https://yasamboyu.hacettepe.edu.tr/profile/yasamboyufidan/ (Seviye: 2)\n",
            "Ziyaret ediliyor: https://yasamboyu.hacettepe.edu.tr/egitimler/iklim-degisikligi-icin-surdurulebilir-kalkinma-sertifika-programi-2/ (Seviye: 2)\n",
            "Ziyaret ediliyor: https://yasamboyu.hacettepe.edu.tr/profile/yasamboyufidan/ (Seviye: 2)\n",
            "Ziyaret ediliyor: https://yasamboyu.hacettepe.edu.tr/egitimler/turkiyede-ve-dunyada-yabancilara-turkce-ogretimi-sertifika-programi-18-kasim-11-aralik-2024/ (Seviye: 2)\n",
            "Ziyaret ediliyor: https://yasamboyu.hacettepe.edu.tr/profile/yasamboyufidan/ (Seviye: 2)\n",
            "Ziyaret ediliyor: https://yasamboyu.hacettepe.edu.tr/egitimler/turkiyede-ve-dunyada-yabancilara-turkce-ogretimi-sertifika-programi-18-kasim-11-aralik-2024/ (Seviye: 2)\n",
            "Ziyaret ediliyor: https://yasamboyu.hacettepe.edu.tr/profile/yasamboyufidan/ (Seviye: 2)\n",
            "Ziyaret ediliyor: https://yasamboyu.hacettepe.edu.tr/egitimler/deney-hayvanlari-kullanimi-sertifika-programi/ (Seviye: 2)\n",
            "Ziyaret ediliyor: https://yasamboyu.hacettepe.edu.tr/profile/yasamboyufidan/ (Seviye: 2)\n",
            "Ziyaret ediliyor: https://yasamboyu.hacettepe.edu.tr/egitimler/deney-hayvanlari-kullanimi-sertifika-programi/ (Seviye: 2)\n",
            "Ziyaret ediliyor: https://yasamboyu.hacettepe.edu.tr/profile/yasamboyufidan/ (Seviye: 2)\n",
            "Ziyaret ediliyor: https://yasamboyu.hacettepe.edu.tr/egitimler/20-grup-egiticilerin-egitimi-sertifika-programi/ (Seviye: 2)\n",
            "Ziyaret ediliyor: https://yasamboyu.hacettepe.edu.tr/profile/yasamboyufidan/ (Seviye: 2)\n",
            "Ziyaret ediliyor: https://yasamboyu.hacettepe.edu.tr/egitimler/20-grup-egiticilerin-egitimi-sertifika-programi/ (Seviye: 2)\n",
            "Ziyaret ediliyor: https://yasamboyu.hacettepe.edu.tr/profile/yasamboyufidan/ (Seviye: 2)\n",
            "Ziyaret ediliyor: https://yasamboyu.hacettepe.edu.tr/egitimler/egitim-hukuku-sertifika-programi-yuksekogretim-yoneticileri-ogretim-elemanlari-idari-personel-ve-avukatlara-yonelik/ (Seviye: 2)\n",
            "Ziyaret ediliyor: https://yasamboyu.hacettepe.edu.tr/profile/yasamboyufidan/ (Seviye: 2)\n",
            "Ziyaret ediliyor: https://yasamboyu.hacettepe.edu.tr/egitimler/egitim-hukuku-sertifika-programi-yuksekogretim-yoneticileri-ogretim-elemanlari-idari-personel-ve-avukatlara-yonelik/ (Seviye: 2)\n",
            "Ziyaret ediliyor: https://yasamboyu.hacettepe.edu.tr/profile/yasamboyufidan/ (Seviye: 2)\n",
            "Ziyaret ediliyor: https://yasamboyu.hacettepe.edu.tr/egitimler/egitim-hukuku-sertifika-programi-egitim-ve-okul-yoneticileri-ile-ogretmenlere-ve-avukatlara-yonelik/ (Seviye: 2)\n",
            "Ziyaret ediliyor: https://yasamboyu.hacettepe.edu.tr/profile/yasamboyufidan/ (Seviye: 2)\n",
            "Ziyaret ediliyor: https://yasamboyu.hacettepe.edu.tr/egitimler/egitim-hukuku-sertifika-programi-egitim-ve-okul-yoneticileri-ile-ogretmenlere-ve-avukatlara-yonelik/ (Seviye: 2)\n",
            "Ziyaret ediliyor: https://yasamboyu.hacettepe.edu.tr/profile/yasamboyufidan/ (Seviye: 2)\n",
            "Ziyaret ediliyor: https://yasamboyu.hacettepe.edu.tr/egitimler/denver-ii-turkiye-standardizasyonu-ve-uyarlanmasi-testi-egitim-programi-hacettepe-universitesi-mezunlari-icin/ (Seviye: 2)\n",
            "Ziyaret ediliyor: https://yasamboyu.hacettepe.edu.tr/profile/otoka/ (Seviye: 2)\n",
            "Ziyaret ediliyor: https://yasamboyu.hacettepe.edu.tr/egitimler/denver-ii-turkiye-standardizasyonu-ve-uyarlanmasi-testi-egitim-programi-hacettepe-universitesi-mezunlari-icin/ (Seviye: 2)\n",
            "Ziyaret ediliyor: https://yasamboyu.hacettepe.edu.tr/profile/otoka/ (Seviye: 2)\n",
            "Ziyaret ediliyor: https://yasamboyu.hacettepe.edu.tr/egitimler/insan-kaynaklari-yonetimi-sertifika-programi/ (Seviye: 2)\n",
            "Ziyaret ediliyor: https://yasamboyu.hacettepe.edu.tr/profile/yasamboyufidan/ (Seviye: 2)\n",
            "Ziyaret ediliyor: https://yasamboyu.hacettepe.edu.tr/egitimler/insan-kaynaklari-yonetimi-sertifika-programi/ (Seviye: 2)\n",
            "Ziyaret ediliyor: https://yasamboyu.hacettepe.edu.tr/profile/yasamboyufidan/ (Seviye: 2)\n",
            "Ziyaret ediliyor: https://yasamboyu.hacettepe.edu.tr/egitimler/bby-yaz-semineri-egitimi-20-eylul-2024/ (Seviye: 2)\n",
            "Ziyaret ediliyor: https://yasamboyu.hacettepe.edu.tr/egitimler/bby-yaz-semineri-egitimi-20-eylul-2024/ (Seviye: 2)\n",
            "Ziyaret ediliyor: https://yasamboyu.hacettepe.edu.tr/profile/yasamboyufidan/ (Seviye: 2)\n",
            "Ziyaret ediliyor: https://yasamboyu.hacettepe.edu.tr/egitimler/bby-yaz-semineri-egitimi-20-eylul-2024/ (Seviye: 2)\n",
            "Ziyaret ediliyor: https://yasamboyu.hacettepe.edu.tr/profile/yasamboyufidan/ (Seviye: 2)\n",
            "Ziyaret ediliyor: https://yasamboyu.hacettepe.edu.tr/egitimler/24101/ (Seviye: 2)\n",
            "Ziyaret ediliyor: https://yasamboyu.hacettepe.edu.tr/egitimler/24101/ (Seviye: 2)\n",
            "Ziyaret ediliyor: https://yasamboyu.hacettepe.edu.tr/profile/yasamboyufidan/ (Seviye: 2)\n",
            "Ziyaret ediliyor: https://yasamboyu.hacettepe.edu.tr/egitimler/24101/ (Seviye: 2)\n",
            "Ziyaret ediliyor: https://yasamboyu.hacettepe.edu.tr/profile/yasamboyufidan/ (Seviye: 2)\n",
            "Ziyaret ediliyor: https://yasamboyu.hacettepe.edu.tr/egitimler/cocuk-ve-genclik-halk-danslari-egitimi/ (Seviye: 2)\n",
            "Ziyaret ediliyor: https://yasamboyu.hacettepe.edu.tr/egitimler/cocuk-ve-genclik-halk-danslari-egitimi/ (Seviye: 2)\n",
            "Ziyaret ediliyor: https://yasamboyu.hacettepe.edu.tr/profile/yasamboyufidan/ (Seviye: 2)\n",
            "Ziyaret ediliyor: https://yasamboyu.hacettepe.edu.tr/egitimler/cocuk-ve-genclik-halk-danslari-egitimi/ (Seviye: 2)\n",
            "Ziyaret ediliyor: https://yasamboyu.hacettepe.edu.tr/profile/yasamboyufidan/ (Seviye: 2)\n",
            "Ziyaret ediliyor: https://yasamboyu.hacettepe.edu.tr/2024/09/27/denver-ii-turkiye-standardizasyonu-ve-uyarlanmasi-testi-egitim-programi-hacettepe-universitesi-mezunlari-icindir-6-9-10-kasim-2024/ (Seviye: 2)\n",
            "Ziyaret ediliyor: https://yasamboyu.hacettepe.edu.tr/2024/09/27/denver-ii-turkiye-standardizasyonu-ve-uyarlanmasi-testi-egitim-programi-hacettepe-universitesi-mezunlari-icindir-6-9-10-kasim-2024/ (Seviye: 2)\n",
            "Ziyaret ediliyor: https://yasamboyu.hacettepe.edu.tr/2024/09/19/ataturk-mesleki-ve-teknik-anadolu-lisesi-toplumsal-katki-egitimi/ (Seviye: 2)\n",
            "Ziyaret ediliyor: https://yasamboyu.hacettepe.edu.tr/2024/09/19/ataturk-mesleki-ve-teknik-anadolu-lisesi-toplumsal-katki-egitimi/ (Seviye: 2)\n",
            "Ziyaret ediliyor: https://yasamboyu.hacettepe.edu.tr/2024/09/12/surdurulebilir-altyapi-farkindalik-egitimi/ (Seviye: 2)\n",
            "Ziyaret ediliyor: https://yasamboyu.hacettepe.edu.tr/2024/09/12/surdurulebilir-altyapi-farkindalik-egitimi/ (Seviye: 2)\n",
            "Ziyaret ediliyor: https://yasamboyu.hacettepe.edu.tr/2024/08/28/universitemizle-ozbekistan-kokand-state-pedagogical-institute-arasinda-isbirligi-protokolu/ (Seviye: 2)\n",
            "Ziyaret ediliyor: https://yasamboyu.hacettepe.edu.tr/2024/08/28/universitemizle-ozbekistan-kokand-state-pedagogical-institute-arasinda-isbirligi-protokolu/ (Seviye: 2)\n",
            "Ziyaret ediliyor: https://yasamboyu.hacettepe.edu.tr/2024/08/02/cocuk-ve-genclik-halk-danslari-egitimi/ (Seviye: 2)\n",
            "Ziyaret ediliyor: https://yasamboyu.hacettepe.edu.tr/2024/08/02/cocuk-ve-genclik-halk-danslari-egitimi/ (Seviye: 2)\n",
            "Ziyaret ediliyor: https://yasamboyu.hacettepe.edu.tr/2024/07/16/turkiyede-ilk-kez-universitemiz-egitim-fakultesi-ve-hukuk-fakultesi-isbirligi-ve-yasam-boyu-ogrenme-merkezi-koordinasyonunda-egitim-hukuku-sertifika-programi-gelistirilmistir/ (Seviye: 2)\n",
            "Ziyaret ediliyor: https://yasamboyu.hacettepe.edu.tr/2024/07/16/turkiyede-ilk-kez-universitemiz-egitim-fakultesi-ve-hukuk-fakultesi-isbirligi-ve-yasam-boyu-ogrenme-merkezi-koordinasyonunda-egitim-hukuku-sertifika-programi-gelistirilmistir/ (Seviye: 2)\n",
            "Ziyaret ediliyor: https://yasamboyu.hacettepe.edu.tr/2024/05/16/denver-ii-turkiye-standardizasyonu-ve-uyarlanmasi-testi-egitim-programi-5-9-haziran-2024-mezunlar-icindir-cevrimici-ve-yuz-yuze-egitim/ (Seviye: 2)\n",
            "Ziyaret ediliyor: https://yasamboyu.hacettepe.edu.tr/2024/05/16/denver-ii-turkiye-standardizasyonu-ve-uyarlanmasi-testi-egitim-programi-5-9-haziran-2024-mezunlar-icindir-cevrimici-ve-yuz-yuze-egitim/ (Seviye: 2)\n",
            "Ziyaret ediliyor: https://yasamboyu.hacettepe.edu.tr/2024/05/16/denver-ii-turkiye-standardizasyonu-ve-uyarlanmasi-testi-egitim-programi-5-9-haziran-2024-mezunlar-icindir-cevrimici-ve-yuz-yuze/ (Seviye: 2)\n",
            "Ziyaret ediliyor: https://yasamboyu.hacettepe.edu.tr/2024/05/16/denver-ii-turkiye-standardizasyonu-ve-uyarlanmasi-testi-egitim-programi-5-9-haziran-2024-mezunlar-icindir-cevrimici-ve-yuz-yuze/ (Seviye: 2)\n",
            "Ziyaret ediliyor: https://yasamboyu.hacettepe.edu.tr/2023/08/06/tuketici-hukuku-arabuluculuk-uzmanlik-egitimi-32-saat/ (Seviye: 2)\n",
            "Ziyaret ediliyor: https://yasamboyu.hacettepe.edu.tr/2023/08/06/tuketici-hukuku-arabuluculuk-uzmanlik-egitimi-32-saat/ (Seviye: 2)\n",
            "Ziyaret ediliyor: https://yasamboyu.hacettepe.edu.tr/2023/01/31/hacettepe-universitesi-ankara-devlet-konservatuvari-yari-zamanli-egitim-programlari-kayit-yenileme-ve-yeni-kayit-bilgileri/ (Seviye: 2)\n",
            "Ziyaret ediliyor: https://yasamboyu.hacettepe.edu.tr/2023/01/31/hacettepe-universitesi-ankara-devlet-konservatuvari-yari-zamanli-egitim-programlari-kayit-yenileme-ve-yeni-kayit-bilgileri/ (Seviye: 2)\n",
            "Ziyaret ediliyor: https://www.facebook.com/huyomkurumsal/ (Seviye: 2)\n",
            "Ziyaret ediliyor: https://twitter.com/huyomkurumsal/ (Seviye: 2)\n",
            "Ziyaret ediliyor: https://www.instagram.com/huyomkurumsal/ (Seviye: 2)\n",
            "Bağlantı hatası: 429 Client Error: Too Many Requests for url: https://www.instagram.com/accounts/login/?next=https%3A%2F%2Fwww.instagram.com%2Fhuyomkurumsal%2F&is_from_rle\n",
            "Ziyaret ediliyor: https://yasamboyu.hacettepe.edu.tr/misyon-vizyon/ (Seviye: 2)\n",
            "Ziyaret ediliyor: https://yasamboyu.hacettepe.edu.tr/uyeler/ (Seviye: 2)\n",
            "Ziyaret ediliyor: https://yasamboyu.hacettepe.edu.tr/yonerge-yonetmelik/ (Seviye: 2)\n",
            "Ziyaret ediliyor: https://yasamboyu.hacettepe.edu.tr/iletisim/ (Seviye: 2)\n",
            "Ziyaret ediliyor: http://Banka%20Hesap%20Bilgileri (Seviye: 2)\n",
            "Bağlantı hatası: HTTPConnectionPool(host='banka%20hesap%20bilgileri', port=80): Max retries exceeded with url: / (Caused by NameResolutionError(\"<urllib3.connection.HTTPConnection object at 0x7d3b9ffe4730>: Failed to resolve 'banka%20hesap%20bilgileri' ([Errno -2] Name or service not known)\"))\n",
            "Ziyaret ediliyor: https://yasamboyu.hacettepe.edu.tr/egitim-kategorisi/aciklama-yokakademik-gelisim-egitimleri/ (Seviye: 2)\n",
            "Ziyaret ediliyor: https://yasamboyu.hacettepe.edu.tr/egitim-kategorisi/bilgisayar-ve-bilisim-programlari/ (Seviye: 2)\n",
            "Ziyaret ediliyor: https://yasamboyu.hacettepe.edu.tr/egitim-kategorisi/cocouklara-yonelik-programlar/ (Seviye: 2)\n",
            "Ziyaret ediliyor: https://yasamboyu.hacettepe.edu.tr/egitim-kategorisi/adk-yari-zamanli/ (Seviye: 2)\n",
            "Ziyaret ediliyor: https://yasamboyu.hacettepe.edu.tr/egitim-kategorisi/aciklama-yokhukuk-bilirkisilik-egitimleri/ (Seviye: 2)\n",
            "Ziyaret ediliyor: https://yasamboyu.hacettepe.edu.tr/egitim-kategorisi/is-sagligi-ve-guvenligi-egitimleri/ (Seviye: 2)\n",
            "Ziyaret ediliyor: https://yasamboyu.hacettepe.edu.tr/egitim-kategorisi/kisisel-gelisim-egitimleri/ (Seviye: 2)\n",
            "Ziyaret ediliyor: https://yasamboyu.hacettepe.edu.tr/egitim-kategorisi/kultur-sanat-egitimleri/ (Seviye: 2)\n",
            "Ziyaret ediliyor: https://yasamboyu.hacettepe.edu.tr/egitim-kategorisi/mesleki-egitimler/ (Seviye: 2)\n",
            "Ziyaret ediliyor: https://yasamboyu.hacettepe.edu.tr/egitim-kategorisi/uzaktan-egitim/ (Seviye: 2)\n",
            "Ziyaret ediliyor: https://hacettepe.edu.tr (Seviye: 2)\n",
            "Ziyaret ediliyor: https://yasamboyu.hacettepe.edu.tr/hesap/?action=lostpassword (Seviye: 2)\n",
            "Ziyaret ediliyor: https://www.instagram.com/hacettepe_university/ (Seviye: 2)\n",
            "Bağlantı hatası: 429 Client Error: Too Many Requests for url: https://www.instagram.com/accounts/login/?next=https%3A%2F%2Fwww.instagram.com%2Fhacettepe_university%2F&is_from_rle\n",
            "Ziyaret ediliyor: https://www.facebook.com/HacettepeUniversitesiKurumsal (Seviye: 2)\n",
            "Ziyaret ediliyor: https://twitter.com/hacettepe1967 (Seviye: 2)\n",
            "Ziyaret ediliyor: https://bidb.hacettepe.edu.tr/tr/e-posta (Seviye: 2)\n",
            "Ziyaret ediliyor: https://kalite.hacettepe.edu.tr/tr (Seviye: 2)\n",
            "Ziyaret ediliyor: https://bilsis.hacettepe.edu.tr/oibs/std/login.aspx (Seviye: 2)\n",
            "Ziyaret ediliyor: https://bilsis.hacettepe.edu.tr/oibs/acd/login.aspx (Seviye: 2)\n",
            "Ziyaret ediliyor: https://bilsis.hacettepe.edu.tr/oibs/ (Seviye: 2)\n",
            "Ziyaret ediliyor: http://yenikazanan2.hacettepe.edu.tr (Seviye: 2)\n",
            "Ziyaret ediliyor: https://bilsis.hacettepe.edu.tr/oibs/ogrsis/no_query.aspx (Seviye: 2)\n",
            "Ziyaret ediliyor: https://hacettepe.edu.tr/yerleskedeyasam/ (Seviye: 2)\n",
            "Ziyaret ediliyor: https://hacettepe.edu.tr/yerleskedeyasam/ulasim (Seviye: 2)\n",
            "Ziyaret ediliyor: https://universitem.hacettepe.edu.tr/ (Seviye: 2)\n",
            "Ziyaret ediliyor: https://uni101.hacettepe.edu.tr/ (Seviye: 2)\n",
            "Ziyaret ediliyor: http://fs.hacettepe.edu.tr/oidb/dosyalar/dosyalar/ogrenci_el_kitabi_tr.pdf (Seviye: 2)\n"
          ]
        },
        {
          "metadata": {
            "tags": null
          },
          "name": "stderr",
          "output_type": "stream",
          "text": [
            "WARNING:bs4.dammit:Some characters could not be decoded, and were replaced with REPLACEMENT CHARACTER.\n"
          ]
        },
        {
          "metadata": {
            "tags": null
          },
          "name": "stdout",
          "output_type": "stream",
          "text": [
            "Ziyaret ediliyor: https://eob.hacettepe.edu.tr/ (Seviye: 2)\n",
            "Ziyaret ediliyor: https://internationalstudent2.hacettepe.edu.tr/ (Seviye: 2)\n",
            "Ziyaret ediliyor: https://oidb.hacettepe.edu.tr/tr/akademik_takvim_20232024-405 (Seviye: 2)\n",
            "Ziyaret ediliyor: https://fs.hacettepe.edu.tr/tip/ekler/pdf/20242025AkademikTakvim.pdf (Seviye: 2)\n"
          ]
        },
        {
          "metadata": {
            "tags": null
          },
          "name": "stderr",
          "output_type": "stream",
          "text": [
            "WARNING:bs4.dammit:Some characters could not be decoded, and were replaced with REPLACEMENT CHARACTER.\n"
          ]
        },
        {
          "metadata": {
            "tags": null
          },
          "name": "stdout",
          "output_type": "stream",
          "text": [
            "Ziyaret ediliyor: https://fs.hacettepe.edu.tr/oidb/dosyalar/akademik_takvimler/24-25/2425_dis.pdf (Seviye: 2)\n"
          ]
        },
        {
          "metadata": {
            "tags": null
          },
          "name": "stderr",
          "output_type": "stream",
          "text": [
            "WARNING:bs4.dammit:Some characters could not be decoded, and were replaced with REPLACEMENT CHARACTER.\n"
          ]
        },
        {
          "metadata": {
            "tags": null
          },
          "name": "stdout",
          "output_type": "stream",
          "text": [
            "Ziyaret ediliyor: https://ydyo.hacettepe.edu.tr/tr/menu/2024_2025_egitim_ogretim_yili_akade-225 (Seviye: 2)\n",
            "Ziyaret ediliyor: https://fs.hacettepe.edu.tr/oidb/dosyalar/akademik_takvimler/24-25/24-25_yatay_gecis_takvimi.pdf (Seviye: 2)\n"
          ]
        },
        {
          "metadata": {
            "tags": null
          },
          "name": "stderr",
          "output_type": "stream",
          "text": [
            "WARNING:bs4.dammit:Some characters could not be decoded, and were replaced with REPLACEMENT CHARACTER.\n"
          ]
        },
        {
          "metadata": {
            "tags": null
          },
          "name": "stdout",
          "output_type": "stream",
          "text": [
            "Ziyaret ediliyor: https://internationalstudent2.hacettepe.edu.tr/tr/menu/basvuru_ve_kabul_takvimi-37 (Seviye: 2)\n",
            "Ziyaret ediliyor: http://akts.hacettepe.edu.tr/ (Seviye: 2)\n",
            "Ziyaret ediliyor: https://oidb.hacettepe.edu.tr/tr/misafirim_var_uygulamasi_tum_o-549 (Seviye: 2)\n",
            "Ziyaret ediliyor: https://belgedogrulama.hacettepe.edu.tr/ (Seviye: 2)\n",
            "Ziyaret ediliyor: https://geribildirim.hacettepe.edu.tr/ (Seviye: 2)\n",
            "Bağlantı hatası: HTTPSConnectionPool(host='geribildirim.hacettepe.edu.tr', port=443): Max retries exceeded with url: / (Caused by SSLError(SSLCertVerificationError(1, '[SSL: CERTIFICATE_VERIFY_FAILED] certificate verify failed: unable to get local issuer certificate (_ssl.c:1007)')))\n",
            "Ziyaret ediliyor: https://www.instagram.com/hacettepe_university/ (Seviye: 2)\n",
            "Bağlantı hatası: 429 Client Error: Too Many Requests for url: https://www.instagram.com/accounts/login/?next=https%3A%2F%2Fwww.instagram.com%2Fhacettepe_university%2F&is_from_rle\n",
            "Ziyaret ediliyor: https://www.facebook.com/HacettepeUniversitesiKurumsal (Seviye: 2)\n",
            "Ziyaret ediliyor: https://twitter.com/hacettepe1967 (Seviye: 2)\n",
            "Ziyaret ediliyor: https://bidb.hacettepe.edu.tr/tr/e-posta (Seviye: 2)\n",
            "Ziyaret ediliyor: https://www.teknofest.org/tr/ (Seviye: 2)\n",
            "Bağlantı hatası: 403 Client Error: Forbidden for url: https://www.teknofest.org/tr/\n",
            "Ziyaret ediliyor: https://einsan.gov.tr/ (Seviye: 2)\n",
            "Bağlantı hatası: HTTPSConnectionPool(host='einsan.gov.tr', port=443): Max retries exceeded with url: / (Caused by SSLError(SSLCertVerificationError(1, '[SSL: CERTIFICATE_VERIFY_FAILED] certificate verify failed: unable to get local issuer certificate (_ssl.c:1007)')))\n",
            "Ziyaret ediliyor: https://bilsis.hacettepe.edu.tr/oibs/std/login.aspx (Seviye: 2)\n",
            "Ziyaret ediliyor: https://bilsis.hacettepe.edu.tr/oibs/acd/login.aspx (Seviye: 2)\n",
            "Ziyaret ediliyor: https://bilsis.hacettepe.edu.tr/oibs/ (Seviye: 2)\n",
            "Ziyaret ediliyor: http://yenikazanan2.hacettepe.edu.tr (Seviye: 2)\n",
            "Ziyaret ediliyor: https://bilsis.hacettepe.edu.tr/oibs/ogrsis/no_query.aspx (Seviye: 2)\n",
            "Ziyaret ediliyor: https://hacettepe.edu.tr/yerleskedeyasam/ (Seviye: 2)\n",
            "Ziyaret ediliyor: https://hacettepe.edu.tr/yerleskedeyasam/ulasim (Seviye: 2)\n",
            "Ziyaret ediliyor: https://universitem.hacettepe.edu.tr/ (Seviye: 2)\n",
            "Ziyaret ediliyor: https://uni101.hacettepe.edu.tr/ (Seviye: 2)\n",
            "Ziyaret ediliyor: http://fs.hacettepe.edu.tr/oidb/dosyalar/dosyalar/ogrenci_el_kitabi_tr.pdf (Seviye: 2)\n"
          ]
        },
        {
          "metadata": {
            "tags": null
          },
          "name": "stderr",
          "output_type": "stream",
          "text": [
            "WARNING:bs4.dammit:Some characters could not be decoded, and were replaced with REPLACEMENT CHARACTER.\n"
          ]
        },
        {
          "metadata": {
            "tags": null
          },
          "name": "stdout",
          "output_type": "stream",
          "text": [
            "Ziyaret ediliyor: https://eob.hacettepe.edu.tr/ (Seviye: 2)\n",
            "Ziyaret ediliyor: https://internationalstudent2.hacettepe.edu.tr/ (Seviye: 2)\n",
            "Ziyaret ediliyor: https://oidb.hacettepe.edu.tr/tr/akademik_takvim_20232024-405 (Seviye: 2)\n",
            "Ziyaret ediliyor: https://fs.hacettepe.edu.tr/tip/ekler/pdf/20242025AkademikTakvim.pdf (Seviye: 2)\n"
          ]
        },
        {
          "metadata": {
            "tags": null
          },
          "name": "stderr",
          "output_type": "stream",
          "text": [
            "WARNING:bs4.dammit:Some characters could not be decoded, and were replaced with REPLACEMENT CHARACTER.\n"
          ]
        },
        {
          "metadata": {
            "tags": null
          },
          "name": "stdout",
          "output_type": "stream",
          "text": [
            "Ziyaret ediliyor: https://fs.hacettepe.edu.tr/oidb/dosyalar/akademik_takvimler/24-25/2425_dis.pdf (Seviye: 2)\n"
          ]
        },
        {
          "output_type": "stream",
          "name": "stderr",
          "text": [
            "WARNING:bs4.dammit:Some characters could not be decoded, and were replaced with REPLACEMENT CHARACTER.\n"
          ]
        },
        {
          "output_type": "stream",
          "name": "stdout",
          "text": [
            "Ziyaret ediliyor: https://ydyo.hacettepe.edu.tr/tr/menu/2024_2025_egitim_ogretim_yili_akade-225 (Seviye: 2)\n",
            "Ziyaret ediliyor: https://fs.hacettepe.edu.tr/oidb/dosyalar/akademik_takvimler/24-25/24-25_yatay_gecis_takvimi.pdf (Seviye: 2)\n"
          ]
        },
        {
          "output_type": "stream",
          "name": "stderr",
          "text": [
            "WARNING:bs4.dammit:Some characters could not be decoded, and were replaced with REPLACEMENT CHARACTER.\n"
          ]
        },
        {
          "output_type": "stream",
          "name": "stdout",
          "text": [
            "Ziyaret ediliyor: https://internationalstudent2.hacettepe.edu.tr/tr/menu/basvuru_ve_kabul_takvimi-37 (Seviye: 2)\n",
            "Ziyaret ediliyor: http://akts.hacettepe.edu.tr/ (Seviye: 2)\n",
            "Ziyaret ediliyor: https://oidb.hacettepe.edu.tr/tr/misafirim_var_uygulamasi_tum_o-549 (Seviye: 2)\n",
            "Ziyaret ediliyor: https://belgedogrulama.hacettepe.edu.tr/ (Seviye: 2)\n",
            "Ziyaret ediliyor: https://geribildirim.hacettepe.edu.tr/ (Seviye: 2)\n",
            "Bağlantı hatası: HTTPSConnectionPool(host='geribildirim.hacettepe.edu.tr', port=443): Max retries exceeded with url: / (Caused by SSLError(SSLCertVerificationError(1, '[SSL: CERTIFICATE_VERIFY_FAILED] certificate verify failed: unable to get local issuer certificate (_ssl.c:1007)')))\n",
            "Ziyaret ediliyor: https://internationalstudent2.hacettepe.edu.tr/tr/%3Cimg_src=fshacettepeedutryenik-95 (Seviye: 2)\n",
            "Ziyaret ediliyor: https://yenikazanan2.hacettepe.edu.tr/tr/menu/%3Cimg_src=httpfshacettepeedutryenika-43 (Seviye: 2)\n",
            "Ziyaret ediliyor: https://yenikazanan2.hacettepe.edu.tr/tr/menu/%3Cimg_src=httpfshacettepeedutryenika-41 (Seviye: 2)\n",
            "Ziyaret ediliyor: https://fs.hacettepe.edu.tr/oidb/dosyalar/duyurular/%C3%9Ccretsiz%20Beslenme%20Deste%C4%9Fi%20Duyuru.pdf (Seviye: 2)\n"
          ]
        },
        {
          "output_type": "stream",
          "name": "stderr",
          "text": [
            "WARNING:bs4.dammit:Some characters could not be decoded, and were replaced with REPLACEMENT CHARACTER.\n"
          ]
        },
        {
          "output_type": "stream",
          "name": "stdout",
          "text": [
            "Ziyaret ediliyor: https://fs.hacettepe.edu.tr/oidb/TEV%20%C3%9CST%C3%9CN%20BA%C5%9EARI%20SANAT%20BURSU%20DUYURUSU.pdf (Seviye: 2)\n"
          ]
        },
        {
          "output_type": "stream",
          "name": "stderr",
          "text": [
            "WARNING:bs4.dammit:Some characters could not be decoded, and were replaced with REPLACEMENT CHARACTER.\n"
          ]
        },
        {
          "output_type": "stream",
          "name": "stdout",
          "text": [
            "Ziyaret ediliyor: https://fs.hacettepe.edu.tr/oidb/Tekfen%20Vakf%C4%B1%202024-2025%20Burs.jpg (Seviye: 2)\n"
          ]
        },
        {
          "output_type": "stream",
          "name": "stderr",
          "text": [
            "WARNING:bs4.dammit:Some characters could not be decoded, and were replaced with REPLACEMENT CHARACTER.\n"
          ]
        },
        {
          "output_type": "stream",
          "name": "stdout",
          "text": [
            "Ziyaret ediliyor: https://gazete.hacettepe.edu.tr//tr/haber/ogrenci_bilgi_sistemi_mobil_uygulamasi_kullanima_sunuldu-633 (Seviye: 2)\n",
            "Ziyaret ediliyor: https://internationalstudent2.hacettepe.edu.tr/tr/ogrenim_ucretleri_hakkinda_gun-67 (Seviye: 2)\n",
            "Ziyaret ediliyor: https://gazete.hacettepe.edu.tr/tr/haber/universitemize_engelsiz_universite_odulu-429 (Seviye: 2)\n",
            "Ziyaret ediliyor: https://gazete.hacettepe.edu.tr/tr/haber/universitemize_yokak_tarafindan_5_yil_sureyle_tam_akreditasyon-412?fbclid=IwAR1Z-Elygf9oqQoa4TkvWXLxLe7tMVTLozTYhlQ_iCC0-fRprbsLxCa1BXU (Seviye: 2)\n",
            "Ziyaret ediliyor: https://www.facebook.com/HacettepeUniversitesiKurumsal (Seviye: 2)\n",
            "Ziyaret ediliyor: https://twitter.com/hacettepe1967 (Seviye: 2)\n",
            "Ziyaret ediliyor: http://www.youtube.com/HacettepeKurumsal/ (Seviye: 2)\n",
            "Ziyaret ediliyor: http://www.hacettepe.edu.tr (Seviye: 2)\n",
            "Ziyaret ediliyor: https://bilsis.hacettepe.edu.tr/oibs/bologna/  (Seviye: 2)\n",
            "Ziyaret ediliyor: https://bilsis.hacettepe.edu.tr/oibs/bologna/  (Seviye: 2)\n",
            "Ziyaret ediliyor: http://bologna.yok.gov.tr (Seviye: 2)\n",
            "Bağlantı hatası: HTTPConnectionPool(host='bologna.yok.gov.tr', port=80): Max retries exceeded with url: / (Caused by NewConnectionError('<urllib3.connection.HTTPConnection object at 0x7d3b9fcd8bb0>: Failed to establish a new connection: [Errno 113] No route to host'))\n",
            "Ziyaret ediliyor: https://twitter.com/HacettepeBolog (Seviye: 2)\n",
            "Ziyaret ediliyor: https://www.facebook.com/profile.php?id=100090994576742 (Seviye: 2)\n",
            "Ziyaret ediliyor: https://twitter.com/hacettepe1967 (Seviye: 2)\n",
            "Ziyaret ediliyor: https://hubologna.hacettepe.edu.tr/ (Seviye: 2)\n",
            "Ziyaret ediliyor: https://kalite.hacettepe.edu.tr/tr (Seviye: 2)\n",
            "Ziyaret ediliyor: https://uluslararasi.yok.gov.tr/uluslararasilasma/bologna# (Seviye: 2)\n",
            "Ziyaret ediliyor: https://universitem.hacettepe.edu.tr/bologna-sureci/ (Seviye: 2)\n",
            "Ziyaret ediliyor: https://fs.hacettepe.edu.tr/bologna/dosyalar/KORD%C4%B0NAT%C3%96RL%C3%9CK%20KURULU%C5%9E%20KARARI.pdf (Seviye: 2)\n"
          ]
        },
        {
          "output_type": "stream",
          "name": "stderr",
          "text": [
            "WARNING:bs4.dammit:Some characters could not be decoded, and were replaced with REPLACEMENT CHARACTER.\n"
          ]
        },
        {
          "output_type": "stream",
          "name": "stdout",
          "text": [
            "Ziyaret ediliyor: https://akts.hacettepe.edu.tr/ (Seviye: 2)\n",
            "Ziyaret ediliyor: https://twitter.com/HacettepeBolog (Seviye: 2)\n",
            "Ziyaret ediliyor: https://www.facebook.com/profile.php?id=100090994576742 (Seviye: 2)\n",
            "Ziyaret ediliyor: https://twitter.com/hacettepe1967 (Seviye: 2)\n",
            "Ziyaret ediliyor: https://hubologna.hacettepe.edu.tr/ (Seviye: 2)\n",
            "Ziyaret ediliyor: https://uluslararasi.yok.gov.tr/uluslararasilasma/bologna# (Seviye: 2)\n",
            "Ziyaret ediliyor: https://universitem.hacettepe.edu.tr/bologna-sureci/ (Seviye: 2)\n",
            "Ziyaret ediliyor: https://fs.hacettepe.edu.tr/bologna/dosyalar/KORD%C4%B0NAT%C3%96RL%C3%9CK%20KURULU%C5%9E%20KARARI.pdf (Seviye: 2)\n"
          ]
        },
        {
          "output_type": "stream",
          "name": "stderr",
          "text": [
            "WARNING:bs4.dammit:Some characters could not be decoded, and were replaced with REPLACEMENT CHARACTER.\n"
          ]
        },
        {
          "output_type": "stream",
          "name": "stdout",
          "text": [
            "Ziyaret ediliyor: https://akts.hacettepe.edu.tr/ (Seviye: 2)\n",
            "Ziyaret ediliyor: https://oidb.hacettepe.edu.tr/tr/menu/%3Cimg_src=httpfshacettepeedutryenika-161 (Seviye: 2)\n",
            "Ziyaret ediliyor: https://fs.hacettepe.edu.tr/bologna/dosyalar/%C3%9CN%C4%B0VERS%C4%B0TEM%C4%B0ZDEK%C4%B0%20B%C3%96L%C3%9CMLER%C4%B0N%20%C3%96%C4%9ERENC%C4%B0%20KILAVUZLARI%2028.6.2024.xlsx (Seviye: 2)\n"
          ]
        },
        {
          "output_type": "stream",
          "name": "stderr",
          "text": [
            "WARNING:bs4.dammit:Some characters could not be decoded, and were replaced with REPLACEMENT CHARACTER.\n"
          ]
        },
        {
          "output_type": "stream",
          "name": "stdout",
          "text": [
            "Ziyaret ediliyor: https://fs.hacettepe.edu.tr/bologna/dosyalar/tyc_seviye_tanimlayicilari_rehberi.pdf (Seviye: 2)\n"
          ]
        },
        {
          "output_type": "stream",
          "name": "stderr",
          "text": [
            "WARNING:bs4.dammit:Some characters could not be decoded, and were replaced with REPLACEMENT CHARACTER.\n"
          ]
        },
        {
          "output_type": "stream",
          "name": "stdout",
          "text": [
            "Ziyaret ediliyor: https://fs.hacettepe.edu.tr/bologna/dosyalar/yokyazisi2024.pdf (Seviye: 2)\n"
          ]
        },
        {
          "output_type": "stream",
          "name": "stderr",
          "text": [
            "WARNING:bs4.dammit:Some characters could not be decoded, and were replaced with REPLACEMENT CHARACTER.\n"
          ]
        },
        {
          "output_type": "stream",
          "name": "stdout",
          "text": [
            "Ziyaret ediliyor: https://fs.hacettepe.edu.tr/bologna/dosyalar/Program%20ve%20Ders%20Bilgi%20Paketi%20Haz%C4%B1rlama%20S%C3%BCreci%20K%C4%B1lavuzu%202023.pdf (Seviye: 2)\n"
          ]
        },
        {
          "output_type": "stream",
          "name": "stderr",
          "text": [
            "WARNING:bs4.dammit:Some characters could not be decoded, and were replaced with REPLACEMENT CHARACTER.\n"
          ]
        },
        {
          "output_type": "stream",
          "name": "stdout",
          "text": [
            "Ziyaret ediliyor: https://www.instagram.com/hacettepe_university/ (Seviye: 2)\n",
            "Bağlantı hatası: 429 Client Error: Too Many Requests for url: https://www.instagram.com/accounts/login/?next=https%3A%2F%2Fwww.instagram.com%2Fhacettepe_university%2F&is_from_rle\n",
            "Ziyaret ediliyor: https://www.facebook.com/HacettepeUniversitesiKurumsal (Seviye: 2)\n",
            "Ziyaret ediliyor: https://twitter.com/hacettepe1967 (Seviye: 2)\n",
            "Ziyaret ediliyor: https://kalite.hacettepe.edu.tr/tr (Seviye: 2)\n",
            "Ziyaret ediliyor: http://www.karmer.hacettepe.edu.tr/ (Seviye: 2)\n",
            "Bağlantı hatası: HTTPSConnectionPool(host='www.karmer.hacettepe.edu.tr', port=443): Max retries exceeded with url: / (Caused by SSLError(SSLCertVerificationError(1, \"[SSL: CERTIFICATE_VERIFY_FAILED] certificate verify failed: Hostname mismatch, certificate is not valid for 'www.karmer.hacettepe.edu.tr'. (_ssl.c:1007)\")))\n",
            "Ziyaret ediliyor: http://fs.hacettepe.edu.tr/karmer/dosyalar/Y%C3%B6netmenlik%20(KARMER).pdf (Seviye: 2)\n"
          ]
        },
        {
          "output_type": "stream",
          "name": "stderr",
          "text": [
            "WARNING:bs4.dammit:Some characters could not be decoded, and were replaced with REPLACEMENT CHARACTER.\n"
          ]
        },
        {
          "output_type": "stream",
          "name": "stdout",
          "text": [
            "Ziyaret ediliyor: https://www.youtube.com/watch?v=_fYiEGtBG-A&t=6s (Seviye: 2)\n",
            "Ziyaret ediliyor: http://www.karmer.hacettepe.edu.tr/ (Seviye: 2)\n",
            "Bağlantı hatası: HTTPSConnectionPool(host='www.karmer.hacettepe.edu.tr', port=443): Max retries exceeded with url: / (Caused by SSLError(SSLCertVerificationError(1, \"[SSL: CERTIFICATE_VERIFY_FAILED] certificate verify failed: Hostname mismatch, certificate is not valid for 'www.karmer.hacettepe.edu.tr'. (_ssl.c:1007)\")))\n",
            "Ziyaret ediliyor: http://kariyerfuari.hacettepe.edu.tr/ (Seviye: 2)\n",
            "Ziyaret ediliyor: https://www.instagram.com/hacettepe_university/ (Seviye: 2)\n",
            "Bağlantı hatası: 429 Client Error: Too Many Requests for url: https://www.instagram.com/accounts/login/?next=https%3A%2F%2Fwww.instagram.com%2Fhacettepe_university%2F&is_from_rle\n",
            "Ziyaret ediliyor: https://www.facebook.com/HacettepeUniversitesiKurumsal (Seviye: 2)\n",
            "Ziyaret ediliyor: https://twitter.com/hacettepe1967 (Seviye: 2)\n",
            "Ziyaret ediliyor: http://www.karmer.hacettepe.edu.tr/ (Seviye: 2)\n",
            "Bağlantı hatası: HTTPSConnectionPool(host='www.karmer.hacettepe.edu.tr', port=443): Max retries exceeded with url: / (Caused by SSLError(SSLCertVerificationError(1, \"[SSL: CERTIFICATE_VERIFY_FAILED] certificate verify failed: Hostname mismatch, certificate is not valid for 'www.karmer.hacettepe.edu.tr'. (_ssl.c:1007)\")))\n",
            "Ziyaret ediliyor: http://fs.hacettepe.edu.tr/karmer/dosyalar/Y%C3%B6netmenlik%20(KARMER).pdf (Seviye: 2)\n"
          ]
        },
        {
          "output_type": "stream",
          "name": "stderr",
          "text": [
            "WARNING:bs4.dammit:Some characters could not be decoded, and were replaced with REPLACEMENT CHARACTER.\n"
          ]
        },
        {
          "output_type": "stream",
          "name": "stdout",
          "text": [
            "Ziyaret ediliyor: https://www.youtube.com/watch?v=_fYiEGtBG-A&t=6s (Seviye: 2)\n",
            "Ziyaret ediliyor: http://www.karmer.hacettepe.edu.tr/ (Seviye: 2)\n",
            "Bağlantı hatası: HTTPSConnectionPool(host='www.karmer.hacettepe.edu.tr', port=443): Max retries exceeded with url: / (Caused by SSLError(SSLCertVerificationError(1, \"[SSL: CERTIFICATE_VERIFY_FAILED] certificate verify failed: Hostname mismatch, certificate is not valid for 'www.karmer.hacettepe.edu.tr'. (_ssl.c:1007)\")))\n",
            "Ziyaret ediliyor: http://kariyerfuari.hacettepe.edu.tr/ (Seviye: 2)\n",
            "Ziyaret ediliyor: https://www.youtube.com/watch?v=GL9bZMp8r98&ab_channel=Hacettepe%C3%9CniversitesiKariyerMerkezi (Seviye: 2)\n",
            "Ziyaret ediliyor: https://www.youtube.com/watch?v=Z3GJIEcJr8o&t=30s (Seviye: 2)\n",
            "Ziyaret ediliyor: https://kariyerfuari.hacettepe.edu.tr/ (Seviye: 2)\n",
            "Ziyaret ediliyor: https://kariyerkapisi.cbiko.gov.tr/ (Seviye: 2)\n",
            "Ziyaret ediliyor: http://fs.hacettepe.edu.tr/karmer/dosyalar/duyurular/Karmer%20ve%20Yetenek%20Kap%C4%B1s%C4%B1%20Tan%C4%B1m.pdf (Seviye: 2)\n"
          ]
        },
        {
          "output_type": "stream",
          "name": "stderr",
          "text": [
            "WARNING:bs4.dammit:Some characters could not be decoded, and were replaced with REPLACEMENT CHARACTER.\n"
          ]
        },
        {
          "output_type": "stream",
          "name": "stdout",
          "text": [
            "Ziyaret ediliyor: http://fs.hacettepe.edu.tr/karmer/dosyalar/is_staj_ilanlari/Do%C4%9Fu%C5%9F%20Oto%20Stajyer%20%C4%B0lan%C4%B1.pdf (Seviye: 2)\n"
          ]
        },
        {
          "output_type": "stream",
          "name": "stderr",
          "text": [
            "WARNING:bs4.dammit:Some characters could not be decoded, and were replaced with REPLACEMENT CHARACTER.\n"
          ]
        },
        {
          "output_type": "stream",
          "name": "stdout",
          "text": [
            "Ziyaret ediliyor: http://fs.hacettepe.edu.tr/karmer/dosyalar/is_staj_ilanlari/CRS%20SOFT%20YAZILIM%20H%C4%B0ZMETLER%C4%B0%20A.%C5%9E..pdf (Seviye: 2)\n"
          ]
        },
        {
          "output_type": "stream",
          "name": "stderr",
          "text": [
            "WARNING:bs4.dammit:Some characters could not be decoded, and were replaced with REPLACEMENT CHARACTER.\n"
          ]
        },
        {
          "output_type": "stream",
          "name": "stdout",
          "text": [
            "Ziyaret ediliyor: http://fs.hacettepe.edu.tr/karmer/dosyalar/is_staj_ilanlari/Dogus_Oto_Stajyer_Ilan%C4%B1.pdf (Seviye: 2)\n"
          ]
        },
        {
          "output_type": "stream",
          "name": "stderr",
          "text": [
            "WARNING:bs4.dammit:Some characters could not be decoded, and were replaced with REPLACEMENT CHARACTER.\n"
          ]
        },
        {
          "output_type": "stream",
          "name": "stdout",
          "text": [
            "Ziyaret ediliyor: http://fs.hacettepe.edu.tr/karmer/dosyalar/is_staj_ilanlari/Do%C4%9Fu%C5%9F%20Oto%20Stajyer%20%C4%B0lan%C4%B1.pdf (Seviye: 2)\n"
          ]
        },
        {
          "output_type": "stream",
          "name": "stderr",
          "text": [
            "WARNING:bs4.dammit:Some characters could not be decoded, and were replaced with REPLACEMENT CHARACTER.\n"
          ]
        },
        {
          "output_type": "stream",
          "name": "stdout",
          "text": [
            "Ziyaret ediliyor: http://fs.hacettepe.edu.tr/karmer/dosyalar/is_staj_ilanlari/KaliteKontrolMuhendisi_13112018.pdf (Seviye: 2)\n"
          ]
        },
        {
          "output_type": "stream",
          "name": "stderr",
          "text": [
            "WARNING:bs4.dammit:Some characters could not be decoded, and were replaced with REPLACEMENT CHARACTER.\n"
          ]
        },
        {
          "output_type": "stream",
          "name": "stdout",
          "text": [
            "Ziyaret ediliyor: http://fs.hacettepe.edu.tr/karmer/dosyalar/is_staj_ilanlari/ATC_Mateks_12112018.docx (Seviye: 2)\n"
          ]
        },
        {
          "output_type": "stream",
          "name": "stderr",
          "text": [
            "WARNING:bs4.dammit:Some characters could not be decoded, and were replaced with REPLACEMENT CHARACTER.\n"
          ]
        },
        {
          "output_type": "stream",
          "name": "stdout",
          "text": [
            "Ziyaret ediliyor: https://www.kariyer.net/firma-profil/vodafone-telekomunikasyon-a-s-1103-1119 (Seviye: 2)\n",
            "Ziyaret ediliyor: http://fs.hacettepe.edu.tr/karmer/dosyalar/is_staj_ilanlari/Yaz%C4%B1l%C4%B1mMuhendisi_16102018_CodeQuarters.pdf (Seviye: 2)\n"
          ]
        },
        {
          "output_type": "stream",
          "name": "stderr",
          "text": [
            "WARNING:bs4.dammit:Some characters could not be decoded, and were replaced with REPLACEMENT CHARACTER.\n"
          ]
        },
        {
          "output_type": "stream",
          "name": "stdout",
          "text": [
            "Ziyaret ediliyor: http://fs.hacettepe.edu.tr/karmer/dosyalar/is_staj_ilanlari/YazilimGelistirmeStajyerIlan%C4%B1_16102018_CodeQuarters.pdf (Seviye: 2)\n"
          ]
        },
        {
          "output_type": "stream",
          "name": "stderr",
          "text": [
            "WARNING:bs4.dammit:Some characters could not be decoded, and were replaced with REPLACEMENT CHARACTER.\n"
          ]
        },
        {
          "output_type": "stream",
          "name": "stdout",
          "text": [
            "Ziyaret ediliyor: https://www.hacettepe.edu.tr/ (Seviye: 2)\n",
            "Ziyaret ediliyor: http://sksdb.hacettepe.edu.tr/files/ogrenci-topluluklari-kurulus-ve-isleyis-2023-yonerge-barkod-pdf-133383741686144493.pdf (Seviye: 2)\n"
          ]
        },
        {
          "output_type": "stream",
          "name": "stderr",
          "text": [
            "WARNING:bs4.dammit:Some characters could not be decoded, and were replaced with REPLACEMENT CHARACTER.\n"
          ]
        },
        {
          "output_type": "stream",
          "name": "stdout",
          "text": [
            "Ziyaret ediliyor: https://www.facebook.com/HacettepeYD (Seviye: 2)\n",
            "Ziyaret ediliyor: https://twitter.com/HacettepeYDYO (Seviye: 2)\n",
            "Ziyaret ediliyor: https://kalite.hacettepe.edu.tr/tr (Seviye: 2)\n",
            "Ziyaret ediliyor: https://ydkydyobasvuru.hacettepe.edu.tr/tr/on-kayit (Seviye: 2)\n",
            "Bağlantı hatası: HTTPSConnectionPool(host='ydkydyobasvuru.hacettepe.edu.tr', port=443): Max retries exceeded with url: /tr/on-kayit (Caused by SSLError(SSLCertVerificationError(1, '[SSL: CERTIFICATE_VERIFY_FAILED] certificate verify failed: unable to get local issuer certificate (_ssl.c:1007)')))\n",
            "Ziyaret ediliyor: https://ydkydyobasvuru.hacettepe.edu.tr/tr/kayit (Seviye: 2)\n",
            "Bağlantı hatası: HTTPSConnectionPool(host='ydkydyobasvuru.hacettepe.edu.tr', port=443): Max retries exceeded with url: /tr/kayit (Caused by SSLError(SSLCertVerificationError(1, '[SSL: CERTIFICATE_VERIFY_FAILED] certificate verify failed: unable to get local issuer certificate (_ssl.c:1007)')))\n",
            "Ziyaret ediliyor: https://www.facebook.com/HacettepeYD (Seviye: 2)\n",
            "Ziyaret ediliyor: https://twitter.com/HacettepeYDYO (Seviye: 2)\n",
            "Ziyaret ediliyor: https://ydkydyobasvuru.hacettepe.edu.tr/tr/on-kayit (Seviye: 2)\n",
            "Bağlantı hatası: HTTPSConnectionPool(host='ydkydyobasvuru.hacettepe.edu.tr', port=443): Max retries exceeded with url: /tr/on-kayit (Caused by SSLError(SSLCertVerificationError(1, '[SSL: CERTIFICATE_VERIFY_FAILED] certificate verify failed: unable to get local issuer certificate (_ssl.c:1007)')))\n",
            "Ziyaret ediliyor: https://ydkydyobasvuru.hacettepe.edu.tr/tr/kayit (Seviye: 2)\n",
            "Bağlantı hatası: HTTPSConnectionPool(host='ydkydyobasvuru.hacettepe.edu.tr', port=443): Max retries exceeded with url: /tr/kayit (Caused by SSLError(SSLCertVerificationError(1, '[SSL: CERTIFICATE_VERIFY_FAILED] certificate verify failed: unable to get local issuer certificate (_ssl.c:1007)')))\n",
            "Ziyaret ediliyor: https://ydkydyo.hacettepe.edu.tr/tr/menu/kurs_takvimi-69 (Seviye: 2)\n",
            "Ziyaret ediliyor: https://fs.hacettepe.edu.tr/ydkydyo/dosyalar/EHSIM_A_S_PROTOKOL.pdf (Seviye: 2)\n"
          ]
        },
        {
          "output_type": "stream",
          "name": "stderr",
          "text": [
            "WARNING:bs4.dammit:Some characters could not be decoded, and were replaced with REPLACEMENT CHARACTER.\n"
          ]
        },
        {
          "output_type": "stream",
          "name": "stdout",
          "text": [
            "Ziyaret ediliyor: https://fs.hacettepe.edu.tr/ydkydyo/dosyalar/hacettepe_jandarma_protokol.pdf (Seviye: 2)\n"
          ]
        },
        {
          "output_type": "stream",
          "name": "stderr",
          "text": [
            "WARNING:bs4.dammit:Some characters could not be decoded, and were replaced with REPLACEMENT CHARACTER.\n"
          ]
        },
        {
          "output_type": "stream",
          "name": "stdout",
          "text": [
            "Ziyaret ediliyor: https://fs.hacettepe.edu.tr/ydkydyo/dosyalar/turk_kizilay.pdf (Seviye: 2)\n"
          ]
        },
        {
          "output_type": "stream",
          "name": "stderr",
          "text": [
            "WARNING:bs4.dammit:Some characters could not be decoded, and were replaced with REPLACEMENT CHARACTER.\n"
          ]
        },
        {
          "output_type": "stream",
          "name": "stdout",
          "text": [
            "Ziyaret ediliyor: https://www.instagram.com/hacettepetomer (Seviye: 2)\n",
            "Bağlantı hatası: 429 Client Error: Too Many Requests for url: https://www.instagram.com/accounts/login/?next=https%3A%2F%2Fwww.instagram.com%2Fhacettepetomer%2F&is_from_rle\n",
            "Ziyaret ediliyor: https://www.facebook.com/hutomer/ (Seviye: 2)\n",
            "Ziyaret ediliyor: https://twitter.com/hutomer (Seviye: 2)\n",
            "Ziyaret ediliyor: https://tomer.hacettepe.edu.tr/tr (Seviye: 2)\n",
            "Ziyaret ediliyor: https://www.hacettepe.edu.tr (Seviye: 2)\n",
            "Ziyaret ediliyor: http://www.tomer.hacettepe.edu.tr/tr/menu/iletisim-32 (Seviye: 2)\n",
            "Bağlantı hatası: HTTPSConnectionPool(host='www.tomer.hacettepe.edu.tr', port=443): Max retries exceeded with url: /tr/menu/iletisim-32 (Caused by SSLError(SSLCertVerificationError(1, \"[SSL: CERTIFICATE_VERIFY_FAILED] certificate verify failed: Hostname mismatch, certificate is not valid for 'www.tomer.hacettepe.edu.tr'. (_ssl.c:1007)\")))\n",
            "Ziyaret ediliyor: https://kalite.hacettepe.edu.tr/tr (Seviye: 2)\n",
            "Ziyaret ediliyor: https://tomer.hacettepe.edu.tr/tr/duyurular (Seviye: 2)\n",
            "Ziyaret ediliyor: https://www.instagram.com/hacettepetomer (Seviye: 2)\n",
            "Bağlantı hatası: 429 Client Error: Too Many Requests for url: https://www.instagram.com/accounts/login/?next=https%3A%2F%2Fwww.instagram.com%2Fhacettepetomer%2F&is_from_rle\n",
            "Ziyaret ediliyor: https://www.facebook.com/hutomer/ (Seviye: 2)\n",
            "Ziyaret ediliyor: https://twitter.com/hutomer (Seviye: 2)\n",
            "Ziyaret ediliyor: https://tomer.hacettepe.edu.tr/tr (Seviye: 2)\n",
            "Ziyaret ediliyor: https://www.hacettepe.edu.tr (Seviye: 2)\n",
            "Ziyaret ediliyor: http://www.tomer.hacettepe.edu.tr/tr/menu/iletisim-32 (Seviye: 2)\n",
            "Bağlantı hatası: HTTPSConnectionPool(host='www.tomer.hacettepe.edu.tr', port=443): Max retries exceeded with url: /tr/menu/iletisim-32 (Caused by SSLError(SSLCertVerificationError(1, \"[SSL: CERTIFICATE_VERIFY_FAILED] certificate verify failed: Hostname mismatch, certificate is not valid for 'www.tomer.hacettepe.edu.tr'. (_ssl.c:1007)\")))\n",
            "Ziyaret ediliyor: https://tomer.hacettepe.edu.tr/tr/menu/yabancilara_turkce_ogretimi_sertifi-16 (Seviye: 2)\n",
            "Ziyaret ediliyor: https://fs.hacettepe.edu.tr/tomer/dosyalar/ders_belgeler/TKD%202024-25/2024-2025%20TKD%20Ders%20Program%C4%B1.pdf (Seviye: 2)\n"
          ]
        },
        {
          "output_type": "stream",
          "name": "stderr",
          "text": [
            "WARNING:bs4.dammit:Some characters could not be decoded, and were replaced with REPLACEMENT CHARACTER.\n"
          ]
        },
        {
          "output_type": "stream",
          "name": "stdout",
          "text": [
            "Ziyaret ediliyor: https://etkinlikler.hacettepe.edu.tr/tr/uluslararasi_dostluk_gunu-2271 (Seviye: 2)\n",
            "Ziyaret ediliyor: https://tomer.hacettepe.edu.tr/tr/duyurular (Seviye: 2)\n",
            "Ziyaret ediliyor: https://tomer.hacettepe.edu.tr/tr/menu/yabancilara_turkce_ogretimi_sertifi-16 (Seviye: 2)\n",
            "Ziyaret ediliyor: https://tomer.hacettepe.edu.tr/tr/menu/yabancilara_turkce_ogretimi_sertifi-16 (Seviye: 2)\n",
            "Ziyaret ediliyor: https://tomer.hacettepe.edu.tr/tr/menu/yabancilara_turkce_ogretimi_sertifi-16 (Seviye: 2)\n",
            "Ziyaret ediliyor: https://tomer.hacettepe.edu.tr/en/notices_for_turkiye_scholarship_students-44 (Seviye: 2)\n",
            "Ziyaret ediliyor: http://fs.hacettepe.edu.tr/tomer/dosyalar/Brosur_turkce.jpg (Seviye: 2)\n"
          ]
        },
        {
          "output_type": "stream",
          "name": "stderr",
          "text": [
            "WARNING:bs4.dammit:Some characters could not be decoded, and were replaced with REPLACEMENT CHARACTER.\n"
          ]
        },
        {
          "output_type": "stream",
          "name": "stdout",
          "text": [
            "Ziyaret ediliyor: http://fs.hacettepe.edu.tr/tomer/dosyalar/Brosur_Eng.jpg (Seviye: 2)\n"
          ]
        },
        {
          "output_type": "stream",
          "name": "stderr",
          "text": [
            "WARNING:bs4.dammit:Some characters could not be decoded, and were replaced with REPLACEMENT CHARACTER.\n"
          ]
        },
        {
          "output_type": "stream",
          "name": "stdout",
          "text": [
            "Ziyaret ediliyor: https://hacettepetomer.hacettepe.edu.tr/login/index.php (Seviye: 2)\n",
            "Bağlantı hatası: HTTPSConnectionPool(host='hacettepetomer.hacettepe.edu.tr', port=443): Max retries exceeded with url: /login/index.php (Caused by SSLError(SSLCertVerificationError(1, '[SSL: CERTIFICATE_VERIFY_FAILED] certificate verify failed: unable to get local issuer certificate (_ssl.c:1007)')))\n",
            "Ziyaret ediliyor: https://hacettepe.edu.tr/ (Seviye: 2)\n",
            "Ziyaret ediliyor: http://int.hacettepe.edu.tr/en (Seviye: 2)\n",
            "Ziyaret ediliyor: https://internationalstudent2.hacettepe.edu.tr/en/menu/international_student_office-13 (Seviye: 2)\n",
            "Ziyaret ediliyor: https://hacettepe.edu.tr/teaching/graduate_programs (Seviye: 2)\n",
            "Ziyaret ediliyor: http://int.hacettepe.edu.tr/en/our_mission__vision-40 (Seviye: 2)\n",
            "Ziyaret ediliyor: http://int.hacettepe.edu.tr/en/our_mission__vision-40 (Seviye: 2)\n",
            "Ziyaret ediliyor: http://int.hacettepe.edu.tr/en/our_mission__vision-40 (Seviye: 2)\n",
            "Ziyaret ediliyor: http://int.hacettepe.edu.tr/en/our_mission__vision-40 (Seviye: 2)\n",
            "Ziyaret ediliyor: http://int.hacettepe.edu.tr/en/our_mission__vision-40 (Seviye: 2)\n",
            "Ziyaret ediliyor: https://www.facebook.com/HacettepeUniversitesiKurumsal (Seviye: 2)\n",
            "Ziyaret ediliyor: https://www.instagram.com/hacettepe_university/ (Seviye: 2)\n",
            "Bağlantı hatası: 429 Client Error: Too Many Requests for url: https://www.instagram.com/accounts/login/?next=https%3A%2F%2Fwww.instagram.com%2Fhacettepe_university%2F&is_from_rle\n",
            "Ziyaret ediliyor: https://twitter.com/hacettepe1967 (Seviye: 2)\n",
            "Ziyaret ediliyor: http://www.youtube.com/HacettepeKurumsal/ (Seviye: 2)\n",
            "Ziyaret ediliyor: http://www.hacettepe.edu.tr (Seviye: 2)\n",
            "Ziyaret ediliyor: http://fs.hacettepe.edu.tr/abofisi/ECHE.pdf (Seviye: 2)\n"
          ]
        },
        {
          "output_type": "stream",
          "name": "stderr",
          "text": [
            "WARNING:bs4.dammit:Some characters could not be decoded, and were replaced with REPLACEMENT CHARACTER.\n"
          ]
        },
        {
          "output_type": "stream",
          "name": "stdout",
          "text": [
            "Ziyaret ediliyor: http://www.hacettepe.edu.tr (Seviye: 2)\n",
            "Ziyaret ediliyor: http://fs.hacettepe.edu.tr/abofisi/resimler/CoursesInFL_Booklet.pdf (Seviye: 2)\n"
          ]
        },
        {
          "output_type": "stream",
          "name": "stderr",
          "text": [
            "WARNING:bs4.dammit:Some characters could not be decoded, and were replaced with REPLACEMENT CHARACTER.\n"
          ]
        },
        {
          "output_type": "stream",
          "name": "stdout",
          "text": [
            "Ziyaret ediliyor: http://fs.hacettepe.edu.tr/abofisi/KOORD%C4%B0NAT%C3%96RLER/Coordinators%20-%2004.03.2022.pdf (Seviye: 2)\n"
          ]
        },
        {
          "output_type": "stream",
          "name": "stderr",
          "text": [
            "WARNING:bs4.dammit:Some characters could not be decoded, and were replaced with REPLACEMENT CHARACTER.\n"
          ]
        },
        {
          "output_type": "stream",
          "name": "stdout",
          "text": [
            "Ziyaret ediliyor: http://www.abofisi.hacettepe.edu.tr/tr/ogrenim_hareketliligi_corona_v-389 (Seviye: 2)\n",
            "Ziyaret ediliyor: http://fs.hacettepe.edu.tr/abofisi/2021%20%C4%B0LAN/Baraj-s.pdf (Seviye: 2)\n"
          ]
        },
        {
          "output_type": "stream",
          "name": "stderr",
          "text": [
            "WARNING:bs4.dammit:Some characters could not be decoded, and were replaced with REPLACEMENT CHARACTER.\n"
          ]
        },
        {
          "output_type": "stream",
          "name": "stdout",
          "text": [
            "Ziyaret ediliyor: http://www.abofisi.hacettepe.edu.tr/tr/staj_hareketliligi_corona_viru-390 (Seviye: 2)\n",
            "Ziyaret ediliyor: http://www.abofisi.hacettepe.edu.tr/tr/personel_hareketliligi_corona_-391 (Seviye: 2)\n",
            "Ziyaret ediliyor: https://fs.hacettepe.edu.tr/abofisi/KOORD%C4%B0NAT%C3%96RLER/15.03.2023%20EUCO-073-DAT01%20KOORD%C4%B0NAT%C3%96R%20L%C4%B0STES%C4%B0.pdf (Seviye: 2)\n"
          ]
        },
        {
          "output_type": "stream",
          "name": "stderr",
          "text": [
            "WARNING:bs4.dammit:Some characters could not be decoded, and were replaced with REPLACEMENT CHARACTER.\n"
          ]
        },
        {
          "output_type": "stream",
          "name": "stdout",
          "text": [
            "Ziyaret ediliyor: https://erasmusbasvuru.ua.gov.tr/giris?returnUrl=%2F (Seviye: 2)\n",
            "Bağlantı hatası: 404 Client Error: Not Found for url: https://erasmusbasvuru.ua.gov.tr/giris?returnUrl=%2F\n",
            "Ziyaret ediliyor: http://fs.hacettepe.edu.tr/abofisi/ANLA%C5%9EMALAR/07.03.2022/OGRENIM.pdf (Seviye: 2)\n"
          ]
        },
        {
          "output_type": "stream",
          "name": "stderr",
          "text": [
            "WARNING:bs4.dammit:Some characters could not be decoded, and were replaced with REPLACEMENT CHARACTER.\n"
          ]
        },
        {
          "output_type": "stream",
          "name": "stdout",
          "text": [
            "Ziyaret ediliyor: http://fs.hacettepe.edu.tr/abofisi/ANLA%C5%9EMALAR/07.03.2022/STAJ.pdf (Seviye: 2)\n"
          ]
        },
        {
          "output_type": "stream",
          "name": "stderr",
          "text": [
            "WARNING:bs4.dammit:Some characters could not be decoded, and were replaced with REPLACEMENT CHARACTER.\n"
          ]
        },
        {
          "output_type": "stream",
          "name": "stdout",
          "text": [
            "Ziyaret ediliyor: http://fs.hacettepe.edu.tr/abofisi/ANLA%C5%9EMALAR/07.03.2022/DERS%20VERME.pdf (Seviye: 2)\n"
          ]
        },
        {
          "output_type": "stream",
          "name": "stderr",
          "text": [
            "WARNING:bs4.dammit:Some characters could not be decoded, and were replaced with REPLACEMENT CHARACTER.\n"
          ]
        },
        {
          "output_type": "stream",
          "name": "stdout",
          "text": [
            "Ziyaret ediliyor: http://fs.hacettepe.edu.tr/abofisi/ANLA%C5%9EMALAR/07.03.2022/EGITIM%20ALMA.pdf (Seviye: 2)\n"
          ]
        },
        {
          "output_type": "stream",
          "name": "stderr",
          "text": [
            "WARNING:bs4.dammit:Some characters could not be decoded, and were replaced with REPLACEMENT CHARACTER.\n"
          ]
        },
        {
          "output_type": "stream",
          "name": "stdout",
          "text": [
            "Ziyaret ediliyor: https://fs.hacettepe.edu.tr/abofisi/2024%20STAJ/KY/EUCO-031-MPC01%20SK.pdf (Seviye: 2)\n"
          ]
        },
        {
          "output_type": "stream",
          "name": "stderr",
          "text": [
            "WARNING:bs4.dammit:Some characters could not be decoded, and were replaced with REPLACEMENT CHARACTER.\n"
          ]
        },
        {
          "output_type": "stream",
          "name": "stdout",
          "text": [
            "Ziyaret ediliyor: https://erasmusbasvuru.ua.gov.tr/giris?returnUrl=%2F (Seviye: 2)\n",
            "Bağlantı hatası: 404 Client Error: Not Found for url: https://erasmusbasvuru.ua.gov.tr/giris?returnUrl=%2F\n",
            "Ziyaret ediliyor: http://fs.hacettepe.edu.tr/abofisi/2021-ulusal-ajans-erasmus-el-kitabi.pdf (Seviye: 2)\n"
          ]
        },
        {
          "output_type": "stream",
          "name": "stderr",
          "text": [
            "WARNING:bs4.dammit:Some characters could not be decoded, and were replaced with REPLACEMENT CHARACTER.\n"
          ]
        },
        {
          "output_type": "stream",
          "name": "stdout",
          "text": [
            "Ziyaret ediliyor: https://www.ua.gov.tr/media/ibih3oka/2020-uygulama-el-kitab%C4%B1.pdf (Seviye: 2)\n"
          ]
        },
        {
          "output_type": "stream",
          "name": "stderr",
          "text": [
            "WARNING:bs4.dammit:Some characters could not be decoded, and were replaced with REPLACEMENT CHARACTER.\n"
          ]
        },
        {
          "output_type": "stream",
          "name": "stdout",
          "text": [
            "Ziyaret ediliyor: https://www.ua.gov.tr/anasayfa/icerikler/faydali-dokumanlar/ (Seviye: 2)\n",
            "Ziyaret ediliyor: https://fs.hacettepe.edu.tr/abofisi/UYGULAMA%20EL%20K%C4%B0TAPLARI/2024%20-%20KA131%20uygulama%20el%20kitabi.pdf (Seviye: 2)\n"
          ]
        },
        {
          "output_type": "stream",
          "name": "stderr",
          "text": [
            "WARNING:bs4.dammit:Some characters could not be decoded, and were replaced with REPLACEMENT CHARACTER.\n"
          ]
        },
        {
          "output_type": "stream",
          "name": "stdout",
          "text": [
            "Ziyaret ediliyor: https://fs.hacettepe.edu.tr/abofisi/UYGULAMA%20EL%20K%C4%B0TAPLARI/2023%20-%20KA171%20uygulama%20el%20kitabi.pdf (Seviye: 2)\n"
          ]
        },
        {
          "output_type": "stream",
          "name": "stderr",
          "text": [
            "WARNING:bs4.dammit:Some characters could not be decoded, and were replaced with REPLACEMENT CHARACTER.\n"
          ]
        },
        {
          "output_type": "stream",
          "name": "stdout",
          "text": [
            "Ziyaret ediliyor: https://portal.ua.gov.tr/default.aspx (Seviye: 2)\n",
            "Bağlantı hatası: HTTPSConnectionPool(host='portal.ua.gov.tr', port=443): Max retries exceeded with url: /default.aspx (Caused by NameResolutionError(\"<urllib3.connection.HTTPSConnection object at 0x7d3b9fcd8640>: Failed to resolve 'portal.ua.gov.tr' ([Errno -2] Name or service not known)\"))\n",
            "Ziyaret ediliyor: http://portal.ua.gov.tr/default.aspx (Seviye: 2)\n",
            "Bağlantı hatası: HTTPConnectionPool(host='portal.ua.gov.tr', port=80): Max retries exceeded with url: /default.aspx (Caused by NameResolutionError(\"<urllib3.connection.HTTPConnection object at 0x7d3b9fcdada0>: Failed to resolve 'portal.ua.gov.tr' ([Errno -2] Name or service not known)\"))\n",
            "Ziyaret ediliyor: https://ec.europa.eu/programmes/erasmus-plus/programme-guide/part-a/who-can-participate/eligible-countries_en (Seviye: 2)\n",
            "Ziyaret ediliyor: https://ec.europa.eu/programmes/erasmus-plus/programme-guide/part-a/who-can-participate/eligible-countries_en (Seviye: 2)\n",
            "Ziyaret ediliyor: https://fs.hacettepe.edu.tr/abofisi/2024%20Personel/YAZ/KES%C4%B0N/131%20E%C4%9E%C4%B0T%C4%B0M%20ALMA%20KES%C4%B0N%20KAPALI%20kopyas%C4%B1.pdf (Seviye: 2)\n"
          ]
        },
        {
          "output_type": "stream",
          "name": "stderr",
          "text": [
            "WARNING:bs4.dammit:Some characters could not be decoded, and were replaced with REPLACEMENT CHARACTER.\n"
          ]
        },
        {
          "output_type": "stream",
          "name": "stdout",
          "text": [
            "Ziyaret ediliyor: https://fs.hacettepe.edu.tr/abofisi/2024%20Personel/YAZ/KES%C4%B0N/131%20E%C4%9E%C4%B0T%C4%B0M%20ALMA%20D%C4%B0J%C4%B0TALLE%C5%9EME%20KES%C4%B0N%20KAPALI%20%20kopyas%C4%B1.pdf (Seviye: 2)\n"
          ]
        },
        {
          "output_type": "stream",
          "name": "stderr",
          "text": [
            "WARNING:bs4.dammit:Some characters could not be decoded, and were replaced with REPLACEMENT CHARACTER.\n"
          ]
        },
        {
          "output_type": "stream",
          "name": "stdout",
          "text": [
            "Ziyaret ediliyor: https://fs.hacettepe.edu.tr/abofisi/2024%20Personel/YAZ/KES%C4%B0N/131%20E%C4%9E%C4%B0T%C4%B0M%20ALMA%20H%C3%9CSB%C4%B0K%20KES%C4%B0N%20KAPALI%20%20kopyas%C4%B1.pdf (Seviye: 2)\n"
          ]
        },
        {
          "output_type": "stream",
          "name": "stderr",
          "text": [
            "WARNING:bs4.dammit:Some characters could not be decoded, and were replaced with REPLACEMENT CHARACTER.\n"
          ]
        },
        {
          "output_type": "stream",
          "name": "stdout",
          "text": [
            "Ziyaret ediliyor: https://fs.hacettepe.edu.tr/abofisi/2024%20Personel/YAZ/KES%C4%B0N/131%20DERS%20VERME%20D%C4%B0J%C4%B0TALLE%C5%9EME%20KES%C4%B0N%20KAPALI%20xlsx%20%20kopyas%C4%B1.pdf (Seviye: 2)\n"
          ]
        },
        {
          "output_type": "stream",
          "name": "stderr",
          "text": [
            "WARNING:bs4.dammit:Some characters could not be decoded, and were replaced with REPLACEMENT CHARACTER.\n"
          ]
        },
        {
          "output_type": "stream",
          "name": "stdout",
          "text": [
            "Ziyaret ediliyor: https://fs.hacettepe.edu.tr/abofisi/2024%20Personel/YAZ/KES%C4%B0N/131%20DERS%20VERME%20KES%C4%B0N%20KAPALI%20xlsx%20kopyas%C4%B1.pdf (Seviye: 2)\n"
          ]
        },
        {
          "output_type": "stream",
          "name": "stderr",
          "text": [
            "WARNING:bs4.dammit:Some characters could not be decoded, and were replaced with REPLACEMENT CHARACTER.\n"
          ]
        },
        {
          "output_type": "stream",
          "name": "stdout",
          "text": [
            "Ziyaret ediliyor: https://fs.hacettepe.edu.tr/abofisi/2024%20Personel/YAZ/131%20DERS%20VERME%20D%C4%B0J%C4%B0TALLE%C5%9EME%20%20GE%C3%87%C4%B0C%C4%B0%20KAPALI%20xlsx%20%20kopyas%C4%B1.pdf (Seviye: 2)\n"
          ]
        },
        {
          "output_type": "stream",
          "name": "stderr",
          "text": [
            "WARNING:bs4.dammit:Some characters could not be decoded, and were replaced with REPLACEMENT CHARACTER.\n"
          ]
        },
        {
          "output_type": "stream",
          "name": "stdout",
          "text": [
            "Ziyaret ediliyor: https://fs.hacettepe.edu.tr/abofisi/2024%20Personel/YAZ/131%20DERS%20VERME%20GE%C3%87%C4%B0C%C4%B0%20KAPALI%20xlsx%20kopyas%C4%B1.pdf (Seviye: 2)\n"
          ]
        },
        {
          "output_type": "stream",
          "name": "stderr",
          "text": [
            "WARNING:bs4.dammit:Some characters could not be decoded, and were replaced with REPLACEMENT CHARACTER.\n"
          ]
        },
        {
          "output_type": "stream",
          "name": "stdout",
          "text": [
            "Ziyaret ediliyor: https://fs.hacettepe.edu.tr/abofisi/2024%20Personel/YAZ/131%20E%C4%9E%C4%B0T%C4%B0M%20ALMA%20H%C3%9CSB%C4%B0K%20GE%C3%87%C4%B0C%C4%B0%20KAPALI%20%20kopyas%C4%B1.pdf (Seviye: 2)\n"
          ]
        },
        {
          "output_type": "stream",
          "name": "stderr",
          "text": [
            "WARNING:bs4.dammit:Some characters could not be decoded, and were replaced with REPLACEMENT CHARACTER.\n"
          ]
        },
        {
          "output_type": "stream",
          "name": "stdout",
          "text": [
            "Ziyaret ediliyor: https://fs.hacettepe.edu.tr/abofisi/2024%20Personel/YAZ/131%20E%C4%9E%C4%B0T%C4%B0M%20ALMA%20D%C4%B0J%C4%B0TALLE%C5%9EME%20GE%C3%87%C4%B0C%C4%B0%20KAPALI%20%20kopyas%C4%B1.pdf (Seviye: 2)\n"
          ]
        },
        {
          "output_type": "stream",
          "name": "stderr",
          "text": [
            "WARNING:bs4.dammit:Some characters could not be decoded, and were replaced with REPLACEMENT CHARACTER.\n"
          ]
        },
        {
          "output_type": "stream",
          "name": "stdout",
          "text": [
            "Ziyaret ediliyor: https://fs.hacettepe.edu.tr/abofisi/2024%20Personel/YAZ/131%20E%C4%9E%C4%B0T%C4%B0M%20ALMA%20GE%C3%87%C4%B0C%C4%B0%20KAPALI%20kopyas%C4%B1.pdf (Seviye: 2)\n"
          ]
        },
        {
          "output_type": "stream",
          "name": "stderr",
          "text": [
            "WARNING:bs4.dammit:Some characters could not be decoded, and were replaced with REPLACEMENT CHARACTER.\n"
          ]
        },
        {
          "output_type": "stream",
          "name": "stdout",
          "text": [
            "Ziyaret ediliyor: https://fs.hacettepe.edu.tr/abofisi/2024%20Personel/EUCO-060-MPC02%20MPC%20Personel%20E%C4%9Fitim%20Alma%20Hareketlili%C4%9Fi%20Se%C3%A7im%20Takvimi%20-%20%20D%C4%B0J%C4%B0TALLE%C5%9EME%202022-1-TR01-KA131-HED-000063605%20%20.pdf (Seviye: 2)\n"
          ]
        },
        {
          "output_type": "stream",
          "name": "stderr",
          "text": [
            "WARNING:bs4.dammit:Some characters could not be decoded, and were replaced with REPLACEMENT CHARACTER.\n"
          ]
        },
        {
          "output_type": "stream",
          "name": "stdout",
          "text": [
            "Ziyaret ediliyor: https://fs.hacettepe.edu.tr/abofisi/2024%20Personel/EUCO-060-MPC02%20MPC%20Personel%20E%C4%9Fitim%20Alma%20Hareketlili%C4%9Fi%20Se%C3%A7im%20Takvimi%20-%20%20H%C3%9CSB%C4%B0K%202022-1-TR01-KA131-HED-000063655.pdf (Seviye: 2)\n"
          ]
        },
        {
          "output_type": "stream",
          "name": "stderr",
          "text": [
            "WARNING:bs4.dammit:Some characters could not be decoded, and were replaced with REPLACEMENT CHARACTER.\n"
          ]
        },
        {
          "output_type": "stream",
          "name": "stdout",
          "text": [
            "Ziyaret ediliyor: https://fs.hacettepe.edu.tr/abofisi/2024%20Personel/EUCO-060-MPC02%20MPC%20Personel%20E%C4%9Fitim%20Alma%20Hareketlili%C4%9Fi%20Se%C3%A7im%20Takvimi%20-%20%202022-1-TR01-KA131-HED-000062527%20.pdf (Seviye: 2)\n"
          ]
        },
        {
          "output_type": "stream",
          "name": "stderr",
          "text": [
            "WARNING:bs4.dammit:Some characters could not be decoded, and were replaced with REPLACEMENT CHARACTER.\n"
          ]
        },
        {
          "output_type": "stream",
          "name": "stdout",
          "text": [
            "Ziyaret ediliyor: https://fs.hacettepe.edu.tr/abofisi/2024%20Personel/2024%20personel%20anla%C5%9Fmalar%C4%B1%20ilan.pdf (Seviye: 2)\n"
          ]
        },
        {
          "output_type": "stream",
          "name": "stderr",
          "text": [
            "WARNING:bs4.dammit:Some characters could not be decoded, and were replaced with REPLACEMENT CHARACTER.\n"
          ]
        },
        {
          "output_type": "stream",
          "name": "stdout",
          "text": [
            "Ziyaret ediliyor: https://fs.hacettepe.edu.tr/abofisi/2024%20Personel/EUCO-060-MPC01%20MPC%20Personel%20Ders%20Verme%20Hareketlili%C4%9Fi%20Se%C3%A7im%20Takvimi%20-%20%20D%C4%B0J%C4%B0TALLE%C5%9EME%202022-1-TR01-KA131-HED-000063605.pdf (Seviye: 2)\n"
          ]
        },
        {
          "output_type": "stream",
          "name": "stderr",
          "text": [
            "WARNING:bs4.dammit:Some characters could not be decoded, and were replaced with REPLACEMENT CHARACTER.\n"
          ]
        },
        {
          "output_type": "stream",
          "name": "stdout",
          "text": [
            "Ziyaret ediliyor: https://fs.hacettepe.edu.tr/abofisi/2024%20Personel/EUCO-060-MPC01%20MPC%20Personel%20Ders%20Verme%20Hareketlili%C4%9Fi%20Se%C3%A7im%20Takvimi%20-%202022-1-TR01-KA131-HED-000062527.pdf (Seviye: 2)\n"
          ]
        },
        {
          "output_type": "stream",
          "name": "stderr",
          "text": [
            "WARNING:bs4.dammit:Some characters could not be decoded, and were replaced with REPLACEMENT CHARACTER.\n"
          ]
        },
        {
          "output_type": "stream",
          "name": "stdout",
          "text": [
            "Ziyaret ediliyor: https://fs.hacettepe.edu.tr/abofisi/2024%20STAJ/KY/EUCO-031-MPC01%20SK.pdf (Seviye: 2)\n"
          ]
        },
        {
          "output_type": "stream",
          "name": "stderr",
          "text": [
            "WARNING:bs4.dammit:Some characters could not be decoded, and were replaced with REPLACEMENT CHARACTER.\n"
          ]
        },
        {
          "output_type": "stream",
          "name": "stdout",
          "text": [
            "Ziyaret ediliyor: https://fs.hacettepe.edu.tr/abofisi/2024%20STAJ/GY/EUCO-031-MPC01%20Staj%20Hareketlili%C4%9Fi%20Ge%C3%A7ici%20Yerle%C5%9Ftirme%20Listesi%20Kapal%C4%B1.pdf (Seviye: 2)\n"
          ]
        },
        {
          "output_type": "stream",
          "name": "stderr",
          "text": [
            "WARNING:bs4.dammit:Some characters could not be decoded, and were replaced with REPLACEMENT CHARACTER.\n"
          ]
        },
        {
          "output_type": "stream",
          "name": "stdout",
          "text": [
            "Ziyaret ediliyor: https://fs.hacettepe.edu.tr/abofisi/2024%20%C3%96%C4%9EREN%C4%B0M%20%C4%B0LAN/KES%C4%B0N/EUCO-043-MPC01%20MPC%20K.pdf (Seviye: 2)\n"
          ]
        },
        {
          "output_type": "stream",
          "name": "stderr",
          "text": [
            "WARNING:bs4.dammit:Some characters could not be decoded, and were replaced with REPLACEMENT CHARACTER.\n"
          ]
        },
        {
          "output_type": "stream",
          "name": "stdout",
          "text": [
            "Ziyaret ediliyor: https://fs.hacettepe.edu.tr/abofisi/2024%20STAJ/EUCO-030-MPC01%20MPC%20Kota%20ve%20Kontenjan.pdf (Seviye: 2)\n"
          ]
        },
        {
          "output_type": "stream",
          "name": "stderr",
          "text": [
            "WARNING:bs4.dammit:Some characters could not be decoded, and were replaced with REPLACEMENT CHARACTER.\n"
          ]
        },
        {
          "output_type": "stream",
          "name": "stdout",
          "text": [
            "Ziyaret ediliyor: https://fs.hacettepe.edu.tr/abofisi/2024%20%C3%96%C4%9EREN%C4%B0M%20%C4%B0LAN/EUCO-043-MPC01.pdf (Seviye: 2)\n"
          ]
        },
        {
          "output_type": "stream",
          "name": "stderr",
          "text": [
            "WARNING:bs4.dammit:Some characters could not be decoded, and were replaced with REPLACEMENT CHARACTER.\n"
          ]
        },
        {
          "output_type": "stream",
          "name": "stdout",
          "text": [
            "Ziyaret ediliyor: https://fs.hacettepe.edu.tr/abofisi/2024%20STAJ/EUCO-042-MPC01%20-%20MPC%20Staj%20Hareketlili%C4%9Fi%20Se%C3%A7im%20Takvimi%20%C4%B0lan%20Tablosu%20(26.02.2024)%20%20(1).pdf (Seviye: 2)\n"
          ]
        },
        {
          "output_type": "stream",
          "name": "stderr",
          "text": [
            "WARNING:bs4.dammit:Some characters could not be decoded, and were replaced with REPLACEMENT CHARACTER.\n"
          ]
        },
        {
          "output_type": "stream",
          "name": "stdout",
          "text": [
            "Ziyaret ediliyor: https://fs.hacettepe.edu.tr/abofisi/2024%20%C3%96%C4%9EREN%C4%B0M%20%C4%B0LAN/EUCO-042-MPC02%20-%20MPC%20%C3%96%C4%9Frenim%20Hareketlili%C4%9Fi%20Kontenjan%20Da%C4%9F%C4%B1l%C4%B1m%20Tablosu.pdf (Seviye: 2)\n"
          ]
        },
        {
          "output_type": "stream",
          "name": "stderr",
          "text": [
            "WARNING:bs4.dammit:Some characters could not be decoded, and were replaced with REPLACEMENT CHARACTER.\n"
          ]
        },
        {
          "output_type": "stream",
          "name": "stdout",
          "text": [
            "Ziyaret ediliyor: https://fs.hacettepe.edu.tr/abofisi/2024%20%C3%96%C4%9EREN%C4%B0M%20%C4%B0LAN/Anla%C5%9Fmalar.pdf (Seviye: 2)\n"
          ]
        },
        {
          "output_type": "stream",
          "name": "stderr",
          "text": [
            "WARNING:bs4.dammit:Some characters could not be decoded, and were replaced with REPLACEMENT CHARACTER.\n"
          ]
        },
        {
          "output_type": "stream",
          "name": "stdout",
          "text": [
            "Ziyaret ediliyor: https://fs.hacettepe.edu.tr/abofisi/2024%20%C3%96%C4%9EREN%C4%B0M%20%C4%B0LAN/EUCO-042-MPC01%20-%20MPC%20%C3%96%C4%9Frenim%20Hareketlili%C4%9Fi%20Se%C3%A7im%20Takvimi%20%C4%B0lan%20Tablosu%20(1).xlsx.pdf (Seviye: 2)\n"
          ]
        },
        {
          "output_type": "stream",
          "name": "stderr",
          "text": [
            "WARNING:bs4.dammit:Some characters could not be decoded, and were replaced with REPLACEMENT CHARACTER.\n"
          ]
        },
        {
          "output_type": "stream",
          "name": "stdout",
          "text": [
            "Ziyaret ediliyor: https://fs.hacettepe.edu.tr/abofisi/G%C3%9CNCEL%20DUYURULAR/EUCO-075-DAT-01%20Genel%20Duyuru%20(Yabanc%C4%B1%20Dil%20Seviye%20Tespit%20S%C4%B1nav%C4%B1).pdf (Seviye: 2)\n"
          ]
        },
        {
          "output_type": "stream",
          "name": "stderr",
          "text": [
            "WARNING:bs4.dammit:Some characters could not be decoded, and were replaced with REPLACEMENT CHARACTER.\n"
          ]
        },
        {
          "output_type": "stream",
          "name": "stdout",
          "text": [
            "Ziyaret ediliyor: https://fs.hacettepe.edu.tr/abofisi/2023%20%C4%B0LAN/2023-2024%20BAHAR%20%C3%96%C4%9EREN%C4%B0M/2023-4%20%C3%96%C4%9EREN%C4%B0M%20BAHAR%20KES%C4%B0N%20KAPALI.pdf (Seviye: 2)\n"
          ]
        },
        {
          "output_type": "stream",
          "name": "stderr",
          "text": [
            "WARNING:bs4.dammit:Some characters could not be decoded, and were replaced with REPLACEMENT CHARACTER.\n"
          ]
        },
        {
          "output_type": "stream",
          "name": "stdout",
          "text": [
            "Ziyaret ediliyor: https://fs.hacettepe.edu.tr/abofisi/2023%20%C4%B0LAN/2023-2024%20BAHAR%20%C3%96%C4%9EREN%C4%B0M/2023-4%20%C3%96%C4%9EREN%C4%B0M%20BAHAR%20GE%C3%87%C4%B0C%C4%B0%20KAPALI.pdf (Seviye: 2)\n"
          ]
        },
        {
          "output_type": "stream",
          "name": "stderr",
          "text": [
            "WARNING:bs4.dammit:Some characters could not be decoded, and were replaced with REPLACEMENT CHARACTER.\n"
          ]
        },
        {
          "output_type": "stream",
          "name": "stdout",
          "text": [
            "Ziyaret ediliyor: https://fs.hacettepe.edu.tr/abofisi/G%C3%9CNCEL%20DUYURULAR/2023-24%20BAHAR%20%C4%B0LAN/2023-4%20BAHAR%20%C3%96%C4%9EREN%C4%B0M%20ANLA%C5%9EMALARI%20(1).pdf (Seviye: 2)\n"
          ]
        },
        {
          "output_type": "stream",
          "name": "stderr",
          "text": [
            "WARNING:bs4.dammit:Some characters could not be decoded, and were replaced with REPLACEMENT CHARACTER.\n"
          ]
        },
        {
          "output_type": "stream",
          "name": "stdout",
          "text": [
            "Ziyaret ediliyor: https://fs.hacettepe.edu.tr/abofisi/G%C3%9CNCEL%20DUYURULAR/2023-24%20BAHAR%20%C4%B0LAN/SE%C3%87%C4%B0M%20TAKV%C4%B0M%C4%B0%20EUCO-042-MPC01%20-%20MPC%20%C3%96%C4%9Frenim%20Hareketlili%C4%9Fi%20Se%C3%A7im%20Takvimi%20%C4%B0lan%20Tablosu%20(1).pdf (Seviye: 2)\n"
          ]
        },
        {
          "output_type": "stream",
          "name": "stderr",
          "text": [
            "WARNING:bs4.dammit:Some characters could not be decoded, and were replaced with REPLACEMENT CHARACTER.\n"
          ]
        },
        {
          "output_type": "stream",
          "name": "stdout",
          "text": [
            "Ziyaret ediliyor: https://fs.hacettepe.edu.tr/abofisi/G%C3%9CNCEL%20DUYURULAR/2023-24%20BAHAR%20%C4%B0LAN/KONTENJAN%20EUCO-042-MPC02%20-%20MPC%20%C3%96%C4%9Frenim%20Hareketlili%C4%9Fi%20Kontenjan%20Da%C4%9F%C4%B1l%C4%B1m%20Tablosu%20(2023-2024%20G%C3%BCz)%20(2).pdf (Seviye: 2)\n"
          ]
        },
        {
          "output_type": "stream",
          "name": "stderr",
          "text": [
            "WARNING:bs4.dammit:Some characters could not be decoded, and were replaced with REPLACEMENT CHARACTER.\n"
          ]
        },
        {
          "output_type": "stream",
          "name": "stdout",
          "text": [
            "Ziyaret ediliyor: https://fs.hacettepe.edu.tr/abofisi/2023%20%C4%B0LAN/2023%20ICM%20YAZ/Kesin/EUCO-054-ICM07%20ICM%20E%C4%9E%C4%B0T%C4%B0M%20ALMA%20KES%C4%B0N%20(KAPALI%20L%C4%B0STE).pdf (Seviye: 2)\n"
          ]
        },
        {
          "output_type": "stream",
          "name": "stderr",
          "text": [
            "WARNING:bs4.dammit:Some characters could not be decoded, and were replaced with REPLACEMENT CHARACTER.\n"
          ]
        },
        {
          "output_type": "stream",
          "name": "stdout",
          "text": [
            "Ziyaret ediliyor: https://fs.hacettepe.edu.tr/abofisi/2023%20%C4%B0LAN/2023%20ICM%20YAZ/Kesin/EUCO-054-ICM09%20ICM%20DERS%20VERME%20KES%C4%B0N%20(KAPALI%20L%C4%B0STE)%20.pdf (Seviye: 2)\n"
          ]
        },
        {
          "output_type": "stream",
          "name": "stderr",
          "text": [
            "WARNING:bs4.dammit:Some characters could not be decoded, and were replaced with REPLACEMENT CHARACTER.\n"
          ]
        },
        {
          "output_type": "stream",
          "name": "stdout",
          "text": [
            "Ziyaret ediliyor: https://fs.hacettepe.edu.tr/abofisi/2023%20%C4%B0LAN/2023%20ICM%20YAZ/Ge%C3%A7ici/EUCO-054-ICM03%20-%20DERS%20VERME%20GE%C3%87%C4%B0C%C4%B0%20(KAPALI%20L%C4%B0STE)%20.pdf (Seviye: 2)\n"
          ]
        },
        {
          "output_type": "stream",
          "name": "stderr",
          "text": [
            "WARNING:bs4.dammit:Some characters could not be decoded, and were replaced with REPLACEMENT CHARACTER.\n"
          ]
        },
        {
          "output_type": "stream",
          "name": "stdout",
          "text": [
            "Ziyaret ediliyor: https://fs.hacettepe.edu.tr/abofisi/2023%20%C4%B0LAN/2023%20ICM%20YAZ/Ge%C3%A7ici/EUCO-054-ICM06%20-%20E%C4%9E%C4%B0T%C4%B0M%20ALMA%20GE%C3%87%C4%B0C%C4%B0%20(KAPALI%20L%C4%B0STE)%20.pdf (Seviye: 2)\n"
          ]
        },
        {
          "output_type": "stream",
          "name": "stderr",
          "text": [
            "WARNING:bs4.dammit:Some characters could not be decoded, and were replaced with REPLACEMENT CHARACTER.\n"
          ]
        },
        {
          "output_type": "stream",
          "name": "stdout",
          "text": [
            "Ziyaret ediliyor: https://fs.hacettepe.edu.tr/abofisi/ANLA%C5%9EMALAR/KA171-INFO.pdf (Seviye: 2)\n"
          ]
        },
        {
          "output_type": "stream",
          "name": "stderr",
          "text": [
            "WARNING:bs4.dammit:Some characters could not be decoded, and were replaced with REPLACEMENT CHARACTER.\n"
          ]
        },
        {
          "output_type": "stream",
          "name": "stdout",
          "text": [
            "Ziyaret ediliyor: https://fs.hacettepe.edu.tr/abofisi/2023%20%C4%B0LAN/2023%20ICM%20YAZ/EUCO-054-ICM01%20-%20ICM%20Ders%20Verme%20Hareketlili%C4%9Fi%20Se%C3%A7im%20Takvimi%20%C4%B0lan%20Tablosu%20(2020-1-TR01-KA107-088061).pdf (Seviye: 2)\n"
          ]
        },
        {
          "output_type": "stream",
          "name": "stderr",
          "text": [
            "WARNING:bs4.dammit:Some characters could not be decoded, and were replaced with REPLACEMENT CHARACTER.\n"
          ]
        },
        {
          "output_type": "stream",
          "name": "stdout",
          "text": [
            "Ziyaret ediliyor: https://fs.hacettepe.edu.tr/abofisi/2023%20%C4%B0LAN/2023%20ICM%20YAZ/EUCO-054-ICM02%20-%20ICM%20E%C4%9Fitim%20Alma%20Hareketlili%C4%9Fi%20Se%C3%A7im%20Takvimi%20%C4%B0lan%20Tablosu%20(2020-1-TR01-KA107-088061).pdf (Seviye: 2)\n"
          ]
        },
        {
          "output_type": "stream",
          "name": "stderr",
          "text": [
            "WARNING:bs4.dammit:Some characters could not be decoded, and were replaced with REPLACEMENT CHARACTER.\n"
          ]
        },
        {
          "output_type": "stream",
          "name": "stdout",
          "text": [
            "Ziyaret ediliyor: https://fs.hacettepe.edu.tr/abofisi/2023%20%C4%B0LAN/PERSONEL%20KES%C4%B0N%20YERLE%C5%9ET%C4%B0RME/EUCO-062-MPC02%20H%C3%9CSB%C4%B0K%20PERSONEL%20E%C4%9E%C4%B0T%C4%B0M%20ALMA%20HAREKETL%C4%B0L%C4%B0%C4%9E%C4%B0%20KES%C4%B0N%20SE%C3%87%C4%B0M-YERLE%C5%9ET%C4%B0RME%20L%C4%B0STES%C4%B0%20(KAPALI%20VERS%C4%B0YON%20-%202020-1-TR01-KA103-088282).pdf (Seviye: 2)\n"
          ]
        },
        {
          "output_type": "stream",
          "name": "stderr",
          "text": [
            "WARNING:bs4.dammit:Some characters could not be decoded, and were replaced with REPLACEMENT CHARACTER.\n"
          ]
        },
        {
          "output_type": "stream",
          "name": "stdout",
          "text": [
            "Ziyaret ediliyor: https://fs.hacettepe.edu.tr/abofisi/2023%20%C4%B0LAN/PERSONEL%20KES%C4%B0N%20YERLE%C5%9ET%C4%B0RME/EUCO-062-MPC01%20H%C3%9CSB%C4%B0K%20PERSONEL%20DERS%20VERME%20HAREKETL%C4%B0L%C4%B0%C4%9E%C4%B0%20KES%C4%B0N%20SE%C3%87%C4%B0M-YERLE%C5%9ET%C4%B0RME%20L%C4%B0STES%C4%B0%20(KAPALI%20VERS%C4%B0YON%20-%202020-1-TR01-KA103-088282).pdf (Seviye: 2)\n"
          ]
        },
        {
          "output_type": "stream",
          "name": "stderr",
          "text": [
            "WARNING:bs4.dammit:Some characters could not be decoded, and were replaced with REPLACEMENT CHARACTER.\n"
          ]
        },
        {
          "output_type": "stream",
          "name": "stdout",
          "text": [
            "Ziyaret ediliyor: https://fs.hacettepe.edu.tr/abofisi/2023%20%C4%B0LAN/PERSONEL%20KES%C4%B0N%20YERLE%C5%9ET%C4%B0RME/EUCO-062-MPC02%20PERSONEL%20E%C4%9E%C4%B0T%C4%B0M%20ALMA%20HAREKETL%C4%B0L%C4%B0%C4%9E%C4%B0%20KES%C4%B0N%20SE%C3%87%C4%B0M-YERLE%C5%9ET%C4%B0RME%20L%C4%B0STES%C4%B0%20(KAPALI%20VERS%C4%B0YON%20-%202020-1-TR01-KA103-080887).pdf (Seviye: 2)\n"
          ]
        },
        {
          "output_type": "stream",
          "name": "stderr",
          "text": [
            "WARNING:bs4.dammit:Some characters could not be decoded, and were replaced with REPLACEMENT CHARACTER.\n"
          ]
        },
        {
          "output_type": "stream",
          "name": "stdout",
          "text": [
            "Ziyaret ediliyor: https://fs.hacettepe.edu.tr/abofisi/2023%20%C4%B0LAN/PERSONEL%20KES%C4%B0N%20YERLE%C5%9ET%C4%B0RME/EUCO-062-MPC01%20PERSONEL%20DERS%20VERME%20HAREKETL%C4%B0L%C4%B0%C4%9E%C4%B0%20KES%C4%B0N%20SE%C3%87%C4%B0M-YERLE%C5%9ET%C4%B0RME%20L%C4%B0STES%C4%B0%20(KAPALI%20VERS%C4%B0YON%20-%202020-1-TR01-KA103-080887).pdf (Seviye: 2)\n"
          ]
        },
        {
          "output_type": "stream",
          "name": "stderr",
          "text": [
            "WARNING:bs4.dammit:Some characters could not be decoded, and were replaced with REPLACEMENT CHARACTER.\n"
          ]
        },
        {
          "output_type": "stream",
          "name": "stdout",
          "text": [
            "Ziyaret ediliyor: https://fs.hacettepe.edu.tr/abofisi/2023%20PERSONEL%20GE%C3%87%C4%B0C%C4%B0%20YERLE%C5%9ET%C4%B0RME%20SONU%C3%87LARI/EUCO-062-MPC02%20PERSONEL%20E%C4%9E%C4%B0T%C4%B0M%20ALMA%20HAREKETL%C4%B0L%C4%B0%C4%9E%C4%B0%20GE%C3%87%C4%B0C%C4%B0%20SE%C3%87%C4%B0M-YERLE%C5%9ET%C4%B0RME%20L%C4%B0STES%C4%B0%20(KAPALI%20VERS%C4%B0YON%20-%202020-1-TR01-KA103-080887).pdf (Seviye: 2)\n"
          ]
        },
        {
          "output_type": "stream",
          "name": "stderr",
          "text": [
            "WARNING:bs4.dammit:Some characters could not be decoded, and were replaced with REPLACEMENT CHARACTER.\n"
          ]
        },
        {
          "output_type": "stream",
          "name": "stdout",
          "text": [
            "Ziyaret ediliyor: https://fs.hacettepe.edu.tr/abofisi/2023%20PERSONEL%20GE%C3%87%C4%B0C%C4%B0%20YERLE%C5%9ET%C4%B0RME%20SONU%C3%87LARI/EUCO-062-MPC02%20H%C3%9CSB%C4%B0K%20PERSONEL%20E%C4%9E%C4%B0T%C4%B0M%20ALMA%20HAREKETL%C4%B0L%C4%B0%C4%9E%C4%B0%20GE%C3%87%C4%B0C%C4%B0%20SE%C3%87%C4%B0M-YERLE%C5%9ET%C4%B0RME%20L%C4%B0STES%C4%B0%20(KAPALI%20VERS%C4%B0YON%20-%202020-1-TR01-KA103-088282).pdf (Seviye: 2)\n"
          ]
        },
        {
          "output_type": "stream",
          "name": "stderr",
          "text": [
            "WARNING:bs4.dammit:Some characters could not be decoded, and were replaced with REPLACEMENT CHARACTER.\n"
          ]
        },
        {
          "output_type": "stream",
          "name": "stdout",
          "text": [
            "Ziyaret ediliyor: https://fs.hacettepe.edu.tr/abofisi/2023%20PERSONEL%20GE%C3%87%C4%B0C%C4%B0%20YERLE%C5%9ET%C4%B0RME%20SONU%C3%87LARI/EUCO-062-MPC01%20H%C3%9CSB%C4%B0K%20PERSONEL%20DERS%20VERME%20HAREKETL%C4%B0L%C4%B0%C4%9E%C4%B0%20GE%C3%87%C4%B0C%C4%B0%20SE%C3%87%C4%B0M-YERLE%C5%9ET%C4%B0RME%20L%C4%B0STES%C4%B0%20(KAPALI%20VERS%C4%B0YON%20-%202020-1-TR01-KA103-088282).pdf (Seviye: 2)\n"
          ]
        },
        {
          "output_type": "stream",
          "name": "stderr",
          "text": [
            "WARNING:bs4.dammit:Some characters could not be decoded, and were replaced with REPLACEMENT CHARACTER.\n"
          ]
        },
        {
          "output_type": "stream",
          "name": "stdout",
          "text": [
            "Ziyaret ediliyor: https://fs.hacettepe.edu.tr/abofisi/2023%20PERSONEL%20GE%C3%87%C4%B0C%C4%B0%20YERLE%C5%9ET%C4%B0RME%20SONU%C3%87LARI/EUCO-062-MPC01%20PERSONEL%20DERS%20VERME%20HAREKETL%C4%B0L%C4%B0%C4%9E%C4%B0%20GE%C3%87%C4%B0C%C4%B0%20SE%C3%87%C4%B0M-YERLE%C5%9ET%C4%B0RME%20L%C4%B0STES%C4%B0%20(KAPALI%20VERS%C4%B0YON%20-%202020-1-TR01-KA103-080887)%20xlsx.pdf (Seviye: 2)\n"
          ]
        },
        {
          "output_type": "stream",
          "name": "stderr",
          "text": [
            "WARNING:bs4.dammit:Some characters could not be decoded, and were replaced with REPLACEMENT CHARACTER.\n"
          ]
        },
        {
          "output_type": "stream",
          "name": "stdout",
          "text": [
            "Ziyaret ediliyor: https://fs.hacettepe.edu.tr/abofisi/2023%20%C4%B0LAN/%C3%96%C4%9EREN%C4%B0M/2023-24%20KES%C4%B0N%20YERLE%C5%9ET%C4%B0RME/EUCO-043-MPC04%202023-2024%20G%C3%BCz%20D%C3%B6nemi%20-%20Tam%20Akademik%20Y%C4%B1l.pdf (Seviye: 2)\n"
          ]
        },
        {
          "output_type": "stream",
          "name": "stderr",
          "text": [
            "WARNING:bs4.dammit:Some characters could not be decoded, and were replaced with REPLACEMENT CHARACTER.\n"
          ]
        },
        {
          "output_type": "stream",
          "name": "stdout",
          "text": [
            "Ziyaret ediliyor: https://fs.hacettepe.edu.tr/abofisi/2023%20%C4%B0LAN/%C3%96%C4%9EREN%C4%B0M/2023-2024%20G%C3%9CZ/EUCO-043-MPC02%20%C3%96%C4%9EREN%C4%B0M%20HAREKETL%C4%B0L%C4%B0%C4%9E%C4%B0%20PROGRAMI%202023-4%20G%C3%9CZ%20D%C3%96NEM%C4%B0%20GE%C3%87%C4%B0C%C4%B0%20YERLE%C5%9ET%C4%B0RME%20SONU%C3%87LARI%20-%202022-1-TR01-KA131-HED-000062527.pdf (Seviye: 2)\n"
          ]
        },
        {
          "output_type": "stream",
          "name": "stderr",
          "text": [
            "WARNING:bs4.dammit:Some characters could not be decoded, and were replaced with REPLACEMENT CHARACTER.\n"
          ]
        },
        {
          "output_type": "stream",
          "name": "stdout",
          "text": [
            "Ziyaret ediliyor: https://fs.hacettepe.edu.tr/abofisi/2023%20%C4%B0LAN/PERSONEL/PROGRAM%20BAZINDA%20BA%C5%9EVURUYA%20A%C3%87IK%20KURUMLARARASI%20ANLA%C5%9EMALAR%20TABLOSU.pdf (Seviye: 2)\n"
          ]
        },
        {
          "output_type": "stream",
          "name": "stderr",
          "text": [
            "WARNING:bs4.dammit:Some characters could not be decoded, and were replaced with REPLACEMENT CHARACTER.\n"
          ]
        },
        {
          "output_type": "stream",
          "name": "stdout",
          "text": [
            "Ziyaret ediliyor: https://fs.hacettepe.edu.tr/abofisi/2023%20%C4%B0LAN/PERSONEL/EUCO-060-MPC01%20MPC%20H%C3%9CSB%C4%B0K%20Konsorsiyumu%20Personel%20Ders%20Verme%20Hareketlili%C4%9Fi%20Se%C3%A7im%20Takvimi%20-%202020-1-TR01-KA103-088282.pdf (Seviye: 2)\n"
          ]
        },
        {
          "output_type": "stream",
          "name": "stderr",
          "text": [
            "WARNING:bs4.dammit:Some characters could not be decoded, and were replaced with REPLACEMENT CHARACTER.\n"
          ]
        },
        {
          "output_type": "stream",
          "name": "stdout",
          "text": [
            "Ziyaret ediliyor: https://fs.hacettepe.edu.tr/abofisi/2023%20%C4%B0LAN/PERSONEL/EUCO-060-MPC01%20MPC%20Personel%20Ders%20Verme%20Hareketlili%C4%9Fi%20Se%C3%A7im%20Takvimi%20-%202020-1-TR01-KA103-080887.pdf (Seviye: 2)\n"
          ]
        },
        {
          "output_type": "stream",
          "name": "stderr",
          "text": [
            "WARNING:bs4.dammit:Some characters could not be decoded, and were replaced with REPLACEMENT CHARACTER.\n"
          ]
        },
        {
          "output_type": "stream",
          "name": "stdout",
          "text": [
            "Ziyaret ediliyor: https://fs.hacettepe.edu.tr/abofisi/2023%20%C4%B0LAN/PERSONEL/EUCO-060-MPC02%20MPC%20H%C3%9CSB%C4%B0K%20Konsorsiyumu%20Personel%20E%C4%9Fitim%20Alma%20Hareketlili%C4%9Fi%20Se%C3%A7im%20Takvimi%20-%20-%202020-1-TR01-KA103-088282.pdf (Seviye: 2)\n"
          ]
        },
        {
          "output_type": "stream",
          "name": "stderr",
          "text": [
            "WARNING:bs4.dammit:Some characters could not be decoded, and were replaced with REPLACEMENT CHARACTER.\n"
          ]
        },
        {
          "output_type": "stream",
          "name": "stdout",
          "text": [
            "Ziyaret ediliyor: https://fs.hacettepe.edu.tr/abofisi/2023%20%C4%B0LAN/PERSONEL/EUCO-060-MPC02%20MPC%20Personel%20E%C4%9Fitim%20Alma%20Hareketlili%C4%9Fi%20Se%C3%A7im%20Takvimi%20-%202020-1-TR01-KA103-080887.pdf (Seviye: 2)\n"
          ]
        },
        {
          "output_type": "stream",
          "name": "stderr",
          "text": [
            "WARNING:bs4.dammit:Some characters could not be decoded, and were replaced with REPLACEMENT CHARACTER.\n"
          ]
        },
        {
          "output_type": "stream",
          "name": "stdout",
          "text": [
            "Ziyaret ediliyor: https://fs.hacettepe.edu.tr/abofisi/G%C3%9CNCEL%20DUYURULAR/EUCO-075-DAT-01%20Genel%20Duyuru%20(Force%20Majeure%20KA107-171)%20V2.pdf (Seviye: 2)\n"
          ]
        },
        {
          "output_type": "stream",
          "name": "stderr",
          "text": [
            "WARNING:bs4.dammit:Some characters could not be decoded, and were replaced with REPLACEMENT CHARACTER.\n"
          ]
        },
        {
          "output_type": "stream",
          "name": "stdout",
          "text": [
            "Ziyaret ediliyor: https://fs.hacettepe.edu.tr/abofisi/G%C3%9CNCEL%20DUYURULAR/EUCO-075-DAT-01%20Genel%20Duyuru%20(Oryantasyon).pdf (Seviye: 2)\n"
          ]
        },
        {
          "output_type": "stream",
          "name": "stderr",
          "text": [
            "WARNING:bs4.dammit:Some characters could not be decoded, and were replaced with REPLACEMENT CHARACTER.\n"
          ]
        },
        {
          "output_type": "stream",
          "name": "stdout",
          "text": [
            "Ziyaret ediliyor: https://fs.hacettepe.edu.tr/abofisi/KILAVUZ/EUCO-074-DAT01%20Ba%C5%9Fvuru%20K%C4%B1lavuzu.pdf (Seviye: 2)\n"
          ]
        },
        {
          "output_type": "stream",
          "name": "stderr",
          "text": [
            "WARNING:bs4.dammit:Some characters could not be decoded, and were replaced with REPLACEMENT CHARACTER.\n"
          ]
        },
        {
          "output_type": "stream",
          "name": "stdout",
          "text": [
            "Ziyaret ediliyor: https://fs.hacettepe.edu.tr/abofisi/SONU%C3%87LAR/2022-2023%20STAJ%20131%20KES%C4%B0N%20KAPALI%20(1).pdf (Seviye: 2)\n"
          ]
        },
        {
          "output_type": "stream",
          "name": "stderr",
          "text": [
            "WARNING:bs4.dammit:Some characters could not be decoded, and were replaced with REPLACEMENT CHARACTER.\n"
          ]
        },
        {
          "output_type": "stream",
          "name": "stdout",
          "text": [
            "Ziyaret ediliyor: https://fs.hacettepe.edu.tr/abofisi/SONU%C3%87LAR/2022-2023%20STAJ%20H%C3%9CSB%C4%B0K%20KES%C4%B0N%20KAPALI..pdf (Seviye: 2)\n"
          ]
        },
        {
          "output_type": "stream",
          "name": "stderr",
          "text": [
            "WARNING:bs4.dammit:Some characters could not be decoded, and were replaced with REPLACEMENT CHARACTER.\n"
          ]
        },
        {
          "output_type": "stream",
          "name": "stdout",
          "text": [
            "Ziyaret ediliyor: https://fs.hacettepe.edu.tr/abofisi/SONU%C3%87LAR/2022-2023%20STAJ%20D%C4%B0J%C4%B0TALLE%C5%9EME%20KES%C4%B0N%20KAPALI.pdf (Seviye: 2)\n"
          ]
        },
        {
          "output_type": "stream",
          "name": "stderr",
          "text": [
            "WARNING:bs4.dammit:Some characters could not be decoded, and were replaced with REPLACEMENT CHARACTER.\n"
          ]
        },
        {
          "output_type": "stream",
          "name": "stdout",
          "text": [
            "Ziyaret ediliyor: https://fs.hacettepe.edu.tr/abofisi/ANLA%C5%9EMALAR/EUCO-042-MPC03%20Ba%C5%9Fvuruya%20A%C3%A7%C4%B1k%20Kurumlararas%C4%B1%20Anla%C5%9Fmalar%20Tablosu%20(2023-2024%20G%C3%BCz).pdf (Seviye: 2)\n"
          ]
        },
        {
          "output_type": "stream",
          "name": "stderr",
          "text": [
            "WARNING:bs4.dammit:Some characters could not be decoded, and were replaced with REPLACEMENT CHARACTER.\n"
          ]
        },
        {
          "output_type": "stream",
          "name": "stdout",
          "text": [
            "Ziyaret ediliyor: https://fs.hacettepe.edu.tr/abofisi/2023%20%C4%B0LAN/%C3%96%C4%9EREN%C4%B0M/EUCO-042-MPC01%20-%20MPC%20%C3%96%C4%9Frenim%20Hareketlili%C4%9Fi%20Se%C3%A7im%20Takvimi%20%C4%B0lan%20Tablosu.pdf (Seviye: 2)\n"
          ]
        },
        {
          "output_type": "stream",
          "name": "stderr",
          "text": [
            "WARNING:bs4.dammit:Some characters could not be decoded, and were replaced with REPLACEMENT CHARACTER.\n"
          ]
        },
        {
          "output_type": "stream",
          "name": "stdout",
          "text": [
            "Ziyaret ediliyor: https://fs.hacettepe.edu.tr/abofisi/2023%20%C4%B0LAN/%C3%96%C4%9EREN%C4%B0M/EUCO-042-MPC02%20-%20MPC%20%C3%96%C4%9Frenim%20Hareketlili%C4%9Fi%20Kontenjan%20Da%C4%9F%C4%B1l%C4%B1m%20Tablosu%20(2023-2024%20G%C3%BCz).pdf (Seviye: 2)\n"
          ]
        },
        {
          "output_type": "stream",
          "name": "stderr",
          "text": [
            "WARNING:bs4.dammit:Some characters could not be decoded, and were replaced with REPLACEMENT CHARACTER.\n"
          ]
        },
        {
          "output_type": "stream",
          "name": "stdout",
          "text": [
            "Ziyaret ediliyor: https://fs.hacettepe.edu.tr/abofisi/2023%20%C4%B0LAN/STAJ/STAJ%20GE%C3%87%C4%B0C%C4%B0%20YERLE%C5%9ET%C4%B0RME/EUCO-031-MPC01%20Staj%20Hareketlili%C4%9Fi%20Ge%C3%A7ici%20Yerle%C5%9Ftirme%20Listesi%20(131).pdf (Seviye: 2)\n"
          ]
        },
        {
          "output_type": "stream",
          "name": "stderr",
          "text": [
            "WARNING:bs4.dammit:Some characters could not be decoded, and were replaced with REPLACEMENT CHARACTER.\n"
          ]
        },
        {
          "output_type": "stream",
          "name": "stdout",
          "text": [
            "Ziyaret ediliyor: https://fs.hacettepe.edu.tr/abofisi/2023%20%C4%B0LAN/STAJ/STAJ%20GE%C3%87%C4%B0C%C4%B0%20YERLE%C5%9ET%C4%B0RME/EUCO-031-MPC01%20Staj%20Hareketlili%C4%9Fi%20Ge%C3%A7ici%20Yerle%C5%9Ftirme%20Listesi%20(HUSBIK).pdf (Seviye: 2)\n"
          ]
        },
        {
          "output_type": "stream",
          "name": "stderr",
          "text": [
            "WARNING:bs4.dammit:Some characters could not be decoded, and were replaced with REPLACEMENT CHARACTER.\n"
          ]
        },
        {
          "output_type": "stream",
          "name": "stdout",
          "text": [
            "Ziyaret ediliyor: https://fs.hacettepe.edu.tr/abofisi/2023%20%C4%B0LAN/STAJ/STAJ%20GE%C3%87%C4%B0C%C4%B0%20YERLE%C5%9ET%C4%B0RME/EUCO-031-MPC01%20Staj%20Hareketlili%C4%9Fi%20Ge%C3%A7ici%20Yerle%C5%9Ftirme%20Listesi%20(Dijitalle%C5%9Fme).pdf (Seviye: 2)\n"
          ]
        },
        {
          "output_type": "stream",
          "name": "stderr",
          "text": [
            "WARNING:bs4.dammit:Some characters could not be decoded, and were replaced with REPLACEMENT CHARACTER.\n"
          ]
        },
        {
          "output_type": "stream",
          "name": "stdout",
          "text": [
            "Ziyaret ediliyor: https://fs.hacettepe.edu.tr/abofisi/G%C3%9CNCEL%20DUYURULAR/EUCO-075-DAT-01%20Genel%20Duyuru%20(Force%20Majeure%20-%20Versiyon%202).pdf (Seviye: 2)\n"
          ]
        },
        {
          "output_type": "stream",
          "name": "stderr",
          "text": [
            "WARNING:bs4.dammit:Some characters could not be decoded, and were replaced with REPLACEMENT CHARACTER.\n"
          ]
        },
        {
          "output_type": "stream",
          "name": "stdout",
          "text": [
            "Ziyaret ediliyor: https://fs.hacettepe.edu.tr/abofisi/G%C3%9CNCEL%20DUYURULAR/EUCO-075-DAT-01%20Genel%20Duyuru%20(Force%20Majeure%20KA107-171).pdf (Seviye: 2)\n"
          ]
        },
        {
          "output_type": "stream",
          "name": "stderr",
          "text": [
            "WARNING:bs4.dammit:Some characters could not be decoded, and were replaced with REPLACEMENT CHARACTER.\n"
          ]
        },
        {
          "output_type": "stream",
          "name": "stdout",
          "text": [
            "Ziyaret ediliyor: https://fs.hacettepe.edu.tr/abofisi/G%C3%9CNCEL%20DUYURULAR/EUCO-075-DAT-01%20Genel%20Duyuru%20(Erteleme).pdf (Seviye: 2)\n"
          ]
        },
        {
          "output_type": "stream",
          "name": "stderr",
          "text": [
            "WARNING:bs4.dammit:Some characters could not be decoded, and were replaced with REPLACEMENT CHARACTER.\n"
          ]
        },
        {
          "output_type": "stream",
          "name": "stdout",
          "text": [
            "Ziyaret ediliyor: https://fs.hacettepe.edu.tr/abofisi/G%C3%9CNCEL%20DUYURULAR/EUCO-075-DAT-01%20Genel%20Duyuru%20(Force%20Majeure).pdf (Seviye: 2)\n"
          ]
        },
        {
          "output_type": "stream",
          "name": "stderr",
          "text": [
            "WARNING:bs4.dammit:Some characters could not be decoded, and were replaced with REPLACEMENT CHARACTER.\n"
          ]
        },
        {
          "output_type": "stream",
          "name": "stdout",
          "text": [
            "Ziyaret ediliyor: https://fs.hacettepe.edu.tr/abofisi/G%C3%9CNCEL%20DUYURULAR/%C3%87evrimi%C3%A7i%20Ba%C5%9Fvuru%20K%C4%B1lavuzu%20(Staj%20Hareketlili%C4%9Fi).pdf (Seviye: 2)\n"
          ]
        },
        {
          "output_type": "stream",
          "name": "stderr",
          "text": [
            "WARNING:bs4.dammit:Some characters could not be decoded, and were replaced with REPLACEMENT CHARACTER.\n"
          ]
        },
        {
          "output_type": "stream",
          "name": "stdout",
          "text": [
            "Ziyaret ediliyor: https://fs.hacettepe.edu.tr/abofisi/2023%20%C4%B0LAN/STAJ/EUCO-030-MPC01%20MPC%20Staj%20Hareketlili%C4%9Fi%20Kota%20ve%20Kontenjan%20Da%C4%9F%C4%B1l%C4%B1m%20Tablosu.pdf (Seviye: 2)\n"
          ]
        },
        {
          "output_type": "stream",
          "name": "stderr",
          "text": [
            "WARNING:bs4.dammit:Some characters could not be decoded, and were replaced with REPLACEMENT CHARACTER.\n"
          ]
        },
        {
          "output_type": "stream",
          "name": "stdout",
          "text": [
            "Ziyaret ediliyor: https://fs.hacettepe.edu.tr/abofisi/2023%20%C4%B0LAN/STAJ/EUCO-031-MPC01%20-%20MPC%20Staj%20Hareketlili%C4%9Fi%20Se%C3%A7im%20Takvimi%20%C4%B0lan%20Tablosu%20-%20%202021-1-TR01-KA131-HED-000005497.pdf (Seviye: 2)\n"
          ]
        },
        {
          "output_type": "stream",
          "name": "stderr",
          "text": [
            "WARNING:bs4.dammit:Some characters could not be decoded, and were replaced with REPLACEMENT CHARACTER.\n"
          ]
        },
        {
          "output_type": "stream",
          "name": "stdout",
          "text": [
            "Ziyaret ediliyor: https://fs.hacettepe.edu.tr/abofisi/2023%20%C4%B0LAN/STAJ/EUCO-031-MPC02%20-%20MPC%20Konsorsiyum%20Staj%20Hareketlili%C4%9Fi%20Se%C3%A7im%20Takvimi%20%C4%B0lan%20Tablosu%20(H%C3%9CSB%C4%B0K)%20-%20%202021-1-TR01-KA131-HED-000019856.pdf (Seviye: 2)\n"
          ]
        },
        {
          "output_type": "stream",
          "name": "stderr",
          "text": [
            "WARNING:bs4.dammit:Some characters could not be decoded, and were replaced with REPLACEMENT CHARACTER.\n"
          ]
        },
        {
          "output_type": "stream",
          "name": "stdout",
          "text": [
            "Ziyaret ediliyor: https://fs.hacettepe.edu.tr/abofisi/2023%20%C4%B0LAN/STAJ/EUCO-031-MPC03%20-%20MPC%20Konsorsiyum%20Staj%20Hareketlili%C4%9Fi%20Se%C3%A7im%20Takvimi%20%C4%B0lan%20Tablosu%20(Dijitalle%C5%9Fme)%20-%20%202022-1-TR01-KA131-HED-000063605.pdf (Seviye: 2)\n"
          ]
        },
        {
          "output_type": "stream",
          "name": "stderr",
          "text": [
            "WARNING:bs4.dammit:Some characters could not be decoded, and were replaced with REPLACEMENT CHARACTER.\n"
          ]
        },
        {
          "output_type": "stream",
          "name": "stdout",
          "text": [
            "Ziyaret ediliyor: https://fs.hacettepe.edu.tr/abofisi/G%C3%9CNCEL%20DUYURULAR/EUCO-075-DAT-01%20Genel%20Duyuru%20(THY).pdf (Seviye: 2)\n"
          ]
        },
        {
          "output_type": "stream",
          "name": "stderr",
          "text": [
            "WARNING:bs4.dammit:Some characters could not be decoded, and were replaced with REPLACEMENT CHARACTER.\n"
          ]
        },
        {
          "output_type": "stream",
          "name": "stdout",
          "text": [
            "Ziyaret ediliyor: https://fs.hacettepe.edu.tr/abofisi/YABANCI%20D%C4%B0L%20SEV%C4%B0YE%20TESP%C4%B0T%20SINAVI/EUCO-075-DAT-01%20Genel%20Duyuru%20(Yabanc%C4%B1%20Dil%20Seviye%20Tespit%20S%C4%B1nav%C4%B1).pdf (Seviye: 2)\n"
          ]
        },
        {
          "output_type": "stream",
          "name": "stderr",
          "text": [
            "WARNING:bs4.dammit:Some characters could not be decoded, and were replaced with REPLACEMENT CHARACTER.\n"
          ]
        },
        {
          "output_type": "stream",
          "name": "stdout",
          "text": [
            "Ziyaret ediliyor: https://fs.hacettepe.edu.tr/abofisi/2022%20%C4%B0LANLAR/2022-2023%20Bahar%20MPC/EUCO-043-MPC04.pdf (Seviye: 2)\n"
          ]
        },
        {
          "output_type": "stream",
          "name": "stderr",
          "text": [
            "WARNING:bs4.dammit:Some characters could not be decoded, and were replaced with REPLACEMENT CHARACTER.\n"
          ]
        },
        {
          "output_type": "stream",
          "name": "stdout",
          "text": [
            "Ziyaret ediliyor: https://fs.hacettepe.edu.tr/abofisi/2022%20%C4%B0LANLAR/2022-2023%20Bahar%20MPC/EUCO-043-MPC02.pdf (Seviye: 2)\n"
          ]
        },
        {
          "output_type": "stream",
          "name": "stderr",
          "text": [
            "WARNING:bs4.dammit:Some characters could not be decoded, and were replaced with REPLACEMENT CHARACTER.\n"
          ]
        },
        {
          "output_type": "stream",
          "name": "stdout",
          "text": [
            "Ziyaret ediliyor: https://fs.hacettepe.edu.tr/abofisi/2022%20%C4%B0LANLAR/2022-2023%20Bahar%20MPC/EUCO-042-MPC01.pdf (Seviye: 2)\n"
          ]
        },
        {
          "output_type": "stream",
          "name": "stderr",
          "text": [
            "WARNING:bs4.dammit:Some characters could not be decoded, and were replaced with REPLACEMENT CHARACTER.\n"
          ]
        },
        {
          "output_type": "stream",
          "name": "stdout",
          "text": [
            "Ziyaret ediliyor: https://fs.hacettepe.edu.tr/abofisi/2022%20%C4%B0LANLAR/2022-2023%20Bahar%20MPC/EUCO-042-MPC02.pdf (Seviye: 2)\n"
          ]
        },
        {
          "output_type": "stream",
          "name": "stderr",
          "text": [
            "WARNING:bs4.dammit:Some characters could not be decoded, and were replaced with REPLACEMENT CHARACTER.\n"
          ]
        },
        {
          "output_type": "stream",
          "name": "stdout",
          "text": [
            "Ziyaret ediliyor: https://fs.hacettepe.edu.tr/abofisi/2022%20%C4%B0LANLAR/2022-2023%20Bahar%20MPC/EUCO-042-MPC03.pdf (Seviye: 2)\n"
          ]
        },
        {
          "output_type": "stream",
          "name": "stderr",
          "text": [
            "WARNING:bs4.dammit:Some characters could not be decoded, and were replaced with REPLACEMENT CHARACTER.\n"
          ]
        },
        {
          "output_type": "stream",
          "name": "stdout",
          "text": [
            "Ziyaret ediliyor: http://fs.hacettepe.edu.tr/abofisi/2022%20%C4%B0LANLAR/107/ICM-DV-KESIN.pdf (Seviye: 2)\n"
          ]
        },
        {
          "output_type": "stream",
          "name": "stderr",
          "text": [
            "WARNING:bs4.dammit:Some characters could not be decoded, and were replaced with REPLACEMENT CHARACTER.\n"
          ]
        },
        {
          "output_type": "stream",
          "name": "stdout",
          "text": [
            "Ziyaret ediliyor: http://fs.hacettepe.edu.tr/abofisi/2022%20%C4%B0LANLAR/107/ICM-EA-KESIN.pdf (Seviye: 2)\n"
          ]
        },
        {
          "output_type": "stream",
          "name": "stderr",
          "text": [
            "WARNING:bs4.dammit:Some characters could not be decoded, and were replaced with REPLACEMENT CHARACTER.\n"
          ]
        },
        {
          "output_type": "stream",
          "name": "stdout",
          "text": [
            "Ziyaret ediliyor: http://fs.hacettepe.edu.tr/abofisi/2022%20%C4%B0LANLAR/107/ICM-KAPALI-DV.pdf (Seviye: 2)\n"
          ]
        },
        {
          "output_type": "stream",
          "name": "stderr",
          "text": [
            "WARNING:bs4.dammit:Some characters could not be decoded, and were replaced with REPLACEMENT CHARACTER.\n"
          ]
        },
        {
          "output_type": "stream",
          "name": "stdout",
          "text": [
            "Ziyaret ediliyor: http://fs.hacettepe.edu.tr/abofisi/2022%20%C4%B0LANLAR/107/ICM-KAPALI-EA.pdf (Seviye: 2)\n"
          ]
        },
        {
          "output_type": "stream",
          "name": "stderr",
          "text": [
            "WARNING:bs4.dammit:Some characters could not be decoded, and were replaced with REPLACEMENT CHARACTER.\n"
          ]
        },
        {
          "output_type": "stream",
          "name": "stdout",
          "text": [
            "Ziyaret ediliyor: http://fs.hacettepe.edu.tr/abofisi/2022%20%C4%B0LANLAR/107/ICM-DV-K.pdf (Seviye: 2)\n"
          ]
        },
        {
          "output_type": "stream",
          "name": "stderr",
          "text": [
            "WARNING:bs4.dammit:Some characters could not be decoded, and were replaced with REPLACEMENT CHARACTER.\n"
          ]
        },
        {
          "output_type": "stream",
          "name": "stdout",
          "text": [
            "Ziyaret ediliyor: http://fs.hacettepe.edu.tr/abofisi/2022%20%C4%B0LANLAR/107/ICM-EA-K.pdf (Seviye: 2)\n"
          ]
        },
        {
          "output_type": "stream",
          "name": "stderr",
          "text": [
            "WARNING:bs4.dammit:Some characters could not be decoded, and were replaced with REPLACEMENT CHARACTER.\n"
          ]
        },
        {
          "output_type": "stream",
          "name": "stdout",
          "text": [
            "Ziyaret ediliyor: http://fs.hacettepe.edu.tr/abofisi/2022%20%C4%B0LANLAR/107/EUCO-054-ICM01.pdf (Seviye: 2)\n"
          ]
        },
        {
          "output_type": "stream",
          "name": "stderr",
          "text": [
            "WARNING:bs4.dammit:Some characters could not be decoded, and were replaced with REPLACEMENT CHARACTER.\n"
          ]
        },
        {
          "output_type": "stream",
          "name": "stdout",
          "text": [
            "Ziyaret ediliyor: http://fs.hacettepe.edu.tr/abofisi/2022%20%C4%B0LANLAR/107/EUCO-054-ICM02.pdf (Seviye: 2)\n"
          ]
        },
        {
          "output_type": "stream",
          "name": "stderr",
          "text": [
            "WARNING:bs4.dammit:Some characters could not be decoded, and were replaced with REPLACEMENT CHARACTER.\n"
          ]
        },
        {
          "output_type": "stream",
          "name": "stdout",
          "text": [
            "Ziyaret ediliyor: http://fs.hacettepe.edu.tr/abofisi/2022%20%C4%B0LANLAR/18.05.2022/171-22.pdf (Seviye: 2)\n"
          ]
        },
        {
          "output_type": "stream",
          "name": "stderr",
          "text": [
            "WARNING:bs4.dammit:Some characters could not be decoded, and were replaced with REPLACEMENT CHARACTER.\n"
          ]
        },
        {
          "output_type": "stream",
          "name": "stdout",
          "text": [
            "Ziyaret ediliyor: http://fs.hacettepe.edu.tr/abofisi/2022%20%C4%B0LANLAR/18.05.2022/H-22.pdf (Seviye: 2)\n"
          ]
        },
        {
          "output_type": "stream",
          "name": "stderr",
          "text": [
            "WARNING:bs4.dammit:Some characters could not be decoded, and were replaced with REPLACEMENT CHARACTER.\n"
          ]
        },
        {
          "output_type": "stream",
          "name": "stdout",
          "text": [
            "Ziyaret ediliyor: http://fs.hacettepe.edu.tr/abofisi/2022%20%C4%B0LANLAR/18.05.2022/S-2022.pdf (Seviye: 2)\n"
          ]
        },
        {
          "output_type": "stream",
          "name": "stderr",
          "text": [
            "WARNING:bs4.dammit:Some characters could not be decoded, and were replaced with REPLACEMENT CHARACTER.\n"
          ]
        },
        {
          "output_type": "stream",
          "name": "stdout",
          "text": [
            "Ziyaret ediliyor: http://fs.hacettepe.edu.tr/abofisi/2022%20%C4%B0LANLAR/STAJ/103-GY.pdf (Seviye: 2)\n"
          ]
        },
        {
          "output_type": "stream",
          "name": "stderr",
          "text": [
            "WARNING:bs4.dammit:Some characters could not be decoded, and were replaced with REPLACEMENT CHARACTER.\n"
          ]
        },
        {
          "output_type": "stream",
          "name": "stdout",
          "text": [
            "Ziyaret ediliyor: http://fs.hacettepe.edu.tr/abofisi/2022%20%C4%B0LANLAR/STAJ/H-GY.pdf (Seviye: 2)\n"
          ]
        },
        {
          "output_type": "stream",
          "name": "stderr",
          "text": [
            "WARNING:bs4.dammit:Some characters could not be decoded, and were replaced with REPLACEMENT CHARACTER.\n"
          ]
        },
        {
          "output_type": "stream",
          "name": "stdout",
          "text": [
            "Ziyaret ediliyor: http://fs.hacettepe.edu.tr/abofisi/2022%20%C4%B0LANLAR/STAJ/171-GY.pdf (Seviye: 2)\n"
          ]
        },
        {
          "output_type": "stream",
          "name": "stderr",
          "text": [
            "WARNING:bs4.dammit:Some characters could not be decoded, and were replaced with REPLACEMENT CHARACTER.\n"
          ]
        },
        {
          "output_type": "stream",
          "name": "stdout",
          "text": [
            "Ziyaret ediliyor: http://fs.hacettepe.edu.tr/abofisi/2022%20%C4%B0LANLAR/G%C3%9CNCELLEME%20DUYURULARI/S.pdf (Seviye: 2)\n"
          ]
        },
        {
          "output_type": "stream",
          "name": "stderr",
          "text": [
            "WARNING:bs4.dammit:Some characters could not be decoded, and were replaced with REPLACEMENT CHARACTER.\n"
          ]
        },
        {
          "output_type": "stream",
          "name": "stdout",
          "text": [
            "Ziyaret ediliyor: http://fs.hacettepe.edu.tr/abofisi/2022%20%C4%B0LANLAR/G%C3%9CNCELLEME%20DUYURULARI/H.pdf (Seviye: 2)\n"
          ]
        },
        {
          "output_type": "stream",
          "name": "stderr",
          "text": [
            "WARNING:bs4.dammit:Some characters could not be decoded, and were replaced with REPLACEMENT CHARACTER.\n"
          ]
        },
        {
          "output_type": "stream",
          "name": "stdout",
          "text": [
            "Ziyaret ediliyor: http://fs.hacettepe.edu.tr/abofisi/2022%20%C4%B0LANLAR/G%C3%9CNCELLEME%20DUYURULARI/ICM.pdf (Seviye: 2)\n"
          ]
        },
        {
          "output_type": "stream",
          "name": "stderr",
          "text": [
            "WARNING:bs4.dammit:Some characters could not be decoded, and were replaced with REPLACEMENT CHARACTER.\n"
          ]
        },
        {
          "output_type": "stream",
          "name": "stdout",
          "text": [
            "Ziyaret ediliyor: http://fs.hacettepe.edu.tr/abofisi/2022%20%C4%B0LANLAR/KA131/Oryantasyon%20-%202022.pdf (Seviye: 2)\n"
          ]
        },
        {
          "output_type": "stream",
          "name": "stderr",
          "text": [
            "WARNING:bs4.dammit:Some characters could not be decoded, and were replaced with REPLACEMENT CHARACTER.\n"
          ]
        },
        {
          "output_type": "stream",
          "name": "stdout",
          "text": [
            "Ziyaret ediliyor: http://fs.hacettepe.edu.tr/abofisi/2022%20%C4%B0LANLAR/KA131/131-HED.pdf (Seviye: 2)\n"
          ]
        },
        {
          "output_type": "stream",
          "name": "stderr",
          "text": [
            "WARNING:bs4.dammit:Some characters could not be decoded, and were replaced with REPLACEMENT CHARACTER.\n"
          ]
        },
        {
          "output_type": "stream",
          "name": "stdout",
          "text": [
            "Ziyaret ediliyor: http://fs.hacettepe.edu.tr/abofisi/2022%20%C4%B0LANLAR/KA131/131-HED-2022-2023-GYL.pdf (Seviye: 2)\n"
          ]
        },
        {
          "output_type": "stream",
          "name": "stderr",
          "text": [
            "WARNING:bs4.dammit:Some characters could not be decoded, and were replaced with REPLACEMENT CHARACTER.\n"
          ]
        },
        {
          "output_type": "stream",
          "name": "stdout",
          "text": [
            "Ziyaret ediliyor: http://fs.hacettepe.edu.tr/abofisi/2022%20%C4%B0LANLAR/KA131/DUYURU.pdf (Seviye: 2)\n"
          ]
        },
        {
          "output_type": "stream",
          "name": "stderr",
          "text": [
            "WARNING:bs4.dammit:Some characters could not be decoded, and were replaced with REPLACEMENT CHARACTER.\n"
          ]
        },
        {
          "output_type": "stream",
          "name": "stdout",
          "text": [
            "Ziyaret ediliyor: http://fs.hacettepe.edu.tr/abofisi/2022%20%C4%B0LANLAR/107/107%20Kontenjan.pdf (Seviye: 2)\n"
          ]
        },
        {
          "output_type": "stream",
          "name": "stderr",
          "text": [
            "WARNING:bs4.dammit:Some characters could not be decoded, and were replaced with REPLACEMENT CHARACTER.\n"
          ]
        },
        {
          "output_type": "stream",
          "name": "stdout",
          "text": [
            "Ziyaret ediliyor: http://fs.hacettepe.edu.tr/abofisi/2022%20%C4%B0LANLAR/107/2022-107.pdf (Seviye: 2)\n"
          ]
        },
        {
          "output_type": "stream",
          "name": "stderr",
          "text": [
            "WARNING:bs4.dammit:Some characters could not be decoded, and were replaced with REPLACEMENT CHARACTER.\n"
          ]
        },
        {
          "output_type": "stream",
          "name": "stdout",
          "text": [
            "Ziyaret ediliyor: http://fs.hacettepe.edu.tr/abofisi/2022%20%C4%B0LANLAR/STAJ%20KOTA%20VE%20KONTENJAN%20.pdf (Seviye: 2)\n"
          ]
        },
        {
          "output_type": "stream",
          "name": "stderr",
          "text": [
            "WARNING:bs4.dammit:Some characters could not be decoded, and were replaced with REPLACEMENT CHARACTER.\n"
          ]
        },
        {
          "output_type": "stream",
          "name": "stdout",
          "text": [
            "Ziyaret ediliyor: http://fs.hacettepe.edu.tr/abofisi/2022%20%C4%B0LANLAR/KILAVUZ.pdf (Seviye: 2)\n"
          ]
        },
        {
          "output_type": "stream",
          "name": "stderr",
          "text": [
            "WARNING:bs4.dammit:Some characters could not be decoded, and were replaced with REPLACEMENT CHARACTER.\n"
          ]
        },
        {
          "output_type": "stream",
          "name": "stdout",
          "text": [
            "Ziyaret ediliyor: http://fs.hacettepe.edu.tr/abofisi/2022%20%C4%B0LANLAR/STAJ/STAJ-2022H.pdf (Seviye: 2)\n"
          ]
        },
        {
          "output_type": "stream",
          "name": "stderr",
          "text": [
            "WARNING:bs4.dammit:Some characters could not be decoded, and were replaced with REPLACEMENT CHARACTER.\n"
          ]
        },
        {
          "output_type": "stream",
          "name": "stdout",
          "text": [
            "Ziyaret ediliyor: http://fs.hacettepe.edu.tr/abofisi/2022%20%C4%B0LANLAR/STAJ/STAJ-2022P.pdf (Seviye: 2)\n"
          ]
        },
        {
          "output_type": "stream",
          "name": "stderr",
          "text": [
            "WARNING:bs4.dammit:Some characters could not be decoded, and were replaced with REPLACEMENT CHARACTER.\n"
          ]
        },
        {
          "output_type": "stream",
          "name": "stdout",
          "text": [
            "Ziyaret ediliyor: http://fs.hacettepe.edu.tr/abofisi/2022%20%C4%B0LANLAR/KA131/131%20-%202022%20Kontenjan.pdf (Seviye: 2)\n"
          ]
        },
        {
          "output_type": "stream",
          "name": "stderr",
          "text": [
            "WARNING:bs4.dammit:Some characters could not be decoded, and were replaced with REPLACEMENT CHARACTER.\n"
          ]
        },
        {
          "output_type": "stream",
          "name": "stdout",
          "text": [
            "Ziyaret ediliyor: http://fs.hacettepe.edu.tr/abofisi/2022%20%C4%B0LANLAR/KA131/2022-131.pdf (Seviye: 2)\n"
          ]
        },
        {
          "output_type": "stream",
          "name": "stderr",
          "text": [
            "WARNING:bs4.dammit:Some characters could not be decoded, and were replaced with REPLACEMENT CHARACTER.\n"
          ]
        },
        {
          "output_type": "stream",
          "name": "stdout",
          "text": [
            "Ziyaret ediliyor: http://fs.hacettepe.edu.tr/abofisi/YABANCI%20D%C4%B0L%20SINAVI%202022/DUYURU.pdf (Seviye: 2)\n"
          ]
        },
        {
          "output_type": "stream",
          "name": "stderr",
          "text": [
            "WARNING:bs4.dammit:Some characters could not be decoded, and were replaced with REPLACEMENT CHARACTER.\n"
          ]
        },
        {
          "output_type": "stream",
          "name": "stdout",
          "text": [
            "Ziyaret ediliyor: http://fs.hacettepe.edu.tr/abofisi/2021%20%C4%B0LAN/2021%20YEN%C4%B0%20%C4%B0LAN%20-%20EK%C4%B0M/NOT.pdf (Seviye: 2)\n"
          ]
        },
        {
          "output_type": "stream",
          "name": "stderr",
          "text": [
            "WARNING:bs4.dammit:Some characters could not be decoded, and were replaced with REPLACEMENT CHARACTER.\n"
          ]
        },
        {
          "output_type": "stream",
          "name": "stdout",
          "text": [
            "Ziyaret ediliyor: http://fs.hacettepe.edu.tr/abofisi/2021%20%C4%B0LAN/2021%20YEN%C4%B0%20%C4%B0LAN%20-%20EK%C4%B0M/HATIRLATMA.pdf (Seviye: 2)\n"
          ]
        },
        {
          "output_type": "stream",
          "name": "stderr",
          "text": [
            "WARNING:bs4.dammit:Some characters could not be decoded, and were replaced with REPLACEMENT CHARACTER.\n"
          ]
        },
        {
          "output_type": "stream",
          "name": "stdout",
          "text": [
            "Ziyaret ediliyor: http://fs.hacettepe.edu.tr/abofisi/2021%20%C4%B0LAN/2021%20YEN%C4%B0%20%C4%B0LAN%20-%20EK%C4%B0M/DUYURU.pdf (Seviye: 2)\n"
          ]
        },
        {
          "output_type": "stream",
          "name": "stderr",
          "text": [
            "WARNING:bs4.dammit:Some characters could not be decoded, and were replaced with REPLACEMENT CHARACTER.\n"
          ]
        },
        {
          "output_type": "stream",
          "name": "stdout",
          "text": [
            "Ziyaret ediliyor: http://fs.hacettepe.edu.tr/abofisi/2021%20%C4%B0LAN/2021%20YEN%C4%B0%20%C4%B0LAN%20-%20EK%C4%B0M/KA131-2021-1%20SON.pdf (Seviye: 2)\n"
          ]
        },
        {
          "output_type": "stream",
          "name": "stderr",
          "text": [
            "WARNING:bs4.dammit:Some characters could not be decoded, and were replaced with REPLACEMENT CHARACTER.\n"
          ]
        },
        {
          "output_type": "stream",
          "name": "stdout",
          "text": [
            "Ziyaret ediliyor: http://fs.hacettepe.edu.tr/abofisi/2021%20%C4%B0LAN/2021%20YEN%C4%B0%20%C4%B0LAN%20-%20EK%C4%B0M/KA131-2021-1.pdf (Seviye: 2)\n"
          ]
        },
        {
          "output_type": "stream",
          "name": "stderr",
          "text": [
            "WARNING:bs4.dammit:Some characters could not be decoded, and were replaced with REPLACEMENT CHARACTER.\n"
          ]
        },
        {
          "output_type": "stream",
          "name": "stdout",
          "text": [
            "Ziyaret ediliyor: http://fs.hacettepe.edu.tr/abofisi/TANITIM/Erasmus%20Days%202021.pdf (Seviye: 2)\n"
          ]
        },
        {
          "output_type": "stream",
          "name": "stderr",
          "text": [
            "WARNING:bs4.dammit:Some characters could not be decoded, and were replaced with REPLACEMENT CHARACTER.\n"
          ]
        },
        {
          "output_type": "stream",
          "name": "stdout",
          "text": [
            "Ziyaret ediliyor: http://fs.hacettepe.edu.tr/abofisi/UA%20PORTAL/SSS-1.pdf (Seviye: 2)\n"
          ]
        },
        {
          "output_type": "stream",
          "name": "stderr",
          "text": [
            "WARNING:bs4.dammit:Some characters could not be decoded, and were replaced with REPLACEMENT CHARACTER.\n"
          ]
        },
        {
          "output_type": "stream",
          "name": "stdout",
          "text": [
            "Ziyaret ediliyor: http://fs.hacettepe.edu.tr/abofisi/UA%20PORTAL/DUYURU-EK.pdf (Seviye: 2)\n"
          ]
        },
        {
          "output_type": "stream",
          "name": "stderr",
          "text": [
            "WARNING:bs4.dammit:Some characters could not be decoded, and were replaced with REPLACEMENT CHARACTER.\n"
          ]
        },
        {
          "output_type": "stream",
          "name": "stdout",
          "text": [
            "Ziyaret ediliyor: http://fs.hacettepe.edu.tr/abofisi/UA%20PORTAL/2021-2022%20BA.pdf (Seviye: 2)\n"
          ]
        },
        {
          "output_type": "stream",
          "name": "stderr",
          "text": [
            "WARNING:bs4.dammit:Some characters could not be decoded, and were replaced with REPLACEMENT CHARACTER.\n"
          ]
        },
        {
          "output_type": "stream",
          "name": "stdout",
          "text": [
            "Ziyaret ediliyor: https://forms.gle/srJeTpHNAJ8Mkx8m6 (Seviye: 2)\n",
            "Ziyaret ediliyor: https://forms.gle/8V5WNPtU8eKL1z158 (Seviye: 2)\n",
            "Ziyaret ediliyor: http://fs.hacettepe.edu.tr/abofisi/2020-2021%20%C4%B0LANLAR/Toplant%C4%B1.pdf (Seviye: 2)\n"
          ]
        },
        {
          "output_type": "stream",
          "name": "stderr",
          "text": [
            "WARNING:bs4.dammit:Some characters could not be decoded, and were replaced with REPLACEMENT CHARACTER.\n"
          ]
        },
        {
          "output_type": "stream",
          "name": "stdout",
          "text": [
            "Ziyaret ediliyor: http://fs.hacettepe.edu.tr/abofisi/UA%20PORTAL/2021-2022%20BAHAR%20KOTA%20VE%20KONTENJANLARI.pdf (Seviye: 2)\n"
          ]
        },
        {
          "output_type": "stream",
          "name": "stderr",
          "text": [
            "WARNING:bs4.dammit:Some characters could not be decoded, and were replaced with REPLACEMENT CHARACTER.\n"
          ]
        },
        {
          "output_type": "stream",
          "name": "stdout",
          "text": [
            "Ziyaret ediliyor: http://fs.hacettepe.edu.tr/abofisi/UA%20PORTAL/DUYURU.pdf (Seviye: 2)\n"
          ]
        },
        {
          "output_type": "stream",
          "name": "stderr",
          "text": [
            "WARNING:bs4.dammit:Some characters could not be decoded, and were replaced with REPLACEMENT CHARACTER.\n"
          ]
        },
        {
          "output_type": "stream",
          "name": "stdout",
          "text": [
            "Ziyaret ediliyor: http://fs.hacettepe.edu.tr/abofisi/2020-2021%20%C4%B0LANLAR/2021-2022.pdf (Seviye: 2)\n"
          ]
        },
        {
          "output_type": "stream",
          "name": "stderr",
          "text": [
            "WARNING:bs4.dammit:Some characters could not be decoded, and were replaced with REPLACEMENT CHARACTER.\n"
          ]
        },
        {
          "output_type": "stream",
          "name": "stdout",
          "text": [
            "Ziyaret ediliyor: http://fs.hacettepe.edu.tr/abofisi/2021%20%C4%B0LAN/STAJ/stajkesin2021.pdf (Seviye: 2)\n"
          ]
        },
        {
          "output_type": "stream",
          "name": "stderr",
          "text": [
            "WARNING:bs4.dammit:Some characters could not be decoded, and were replaced with REPLACEMENT CHARACTER.\n"
          ]
        },
        {
          "output_type": "stream",
          "name": "stdout",
          "text": [
            "Ziyaret ediliyor: http://fs.hacettepe.edu.tr/abofisi/2021%20%C4%B0LAN/STAJ/husbikkesin2021.pdf (Seviye: 2)\n"
          ]
        },
        {
          "output_type": "stream",
          "name": "stderr",
          "text": [
            "WARNING:bs4.dammit:Some characters could not be decoded, and were replaced with REPLACEMENT CHARACTER.\n"
          ]
        },
        {
          "output_type": "stream",
          "name": "stdout",
          "text": [
            "Ziyaret ediliyor: http://fs.hacettepe.edu.tr/abofisi/duyuru/2021%20EK%20STAJ/S103-EK.pdf (Seviye: 2)\n"
          ]
        },
        {
          "output_type": "stream",
          "name": "stderr",
          "text": [
            "WARNING:bs4.dammit:Some characters could not be decoded, and were replaced with REPLACEMENT CHARACTER.\n"
          ]
        },
        {
          "output_type": "stream",
          "name": "stdout",
          "text": [
            "Ziyaret ediliyor: http://fs.hacettepe.edu.tr/abofisi/duyuru/2021%20EK%20STAJ/H2020.pdf (Seviye: 2)\n"
          ]
        },
        {
          "output_type": "stream",
          "name": "stderr",
          "text": [
            "WARNING:bs4.dammit:Some characters could not be decoded, and were replaced with REPLACEMENT CHARACTER.\n"
          ]
        },
        {
          "output_type": "stream",
          "name": "stdout",
          "text": [
            "Ziyaret ediliyor: http://fs.hacettepe.edu.tr/abofisi/duyuru/Duyuru.pdf (Seviye: 2)\n"
          ]
        },
        {
          "output_type": "stream",
          "name": "stderr",
          "text": [
            "WARNING:bs4.dammit:Some characters could not be decoded, and were replaced with REPLACEMENT CHARACTER.\n"
          ]
        },
        {
          "output_type": "stream",
          "name": "stdout",
          "text": [
            "Ziyaret ediliyor: http://fs.hacettepe.edu.tr/abofisi/2020-2021%20%C4%B0LANLAR/ekhibe.pdf (Seviye: 2)\n"
          ]
        },
        {
          "output_type": "stream",
          "name": "stderr",
          "text": [
            "WARNING:bs4.dammit:Some characters could not be decoded, and were replaced with REPLACEMENT CHARACTER.\n"
          ]
        },
        {
          "output_type": "stream",
          "name": "stdout",
          "text": [
            "Ziyaret ediliyor: http://fs.hacettepe.edu.tr/abofisi/2021%20%C4%B0LAN/STAJ/S103.pdf (Seviye: 2)\n"
          ]
        },
        {
          "output_type": "stream",
          "name": "stderr",
          "text": [
            "WARNING:bs4.dammit:Some characters could not be decoded, and were replaced with REPLACEMENT CHARACTER.\n"
          ]
        },
        {
          "output_type": "stream",
          "name": "stdout",
          "text": [
            "Ziyaret ediliyor: http://fs.hacettepe.edu.tr/abofisi/2021%20%C4%B0LAN/STAJ/KOTA%20-%20STAJ.pdf (Seviye: 2)\n"
          ]
        },
        {
          "output_type": "stream",
          "name": "stderr",
          "text": [
            "WARNING:bs4.dammit:Some characters could not be decoded, and were replaced with REPLACEMENT CHARACTER.\n"
          ]
        },
        {
          "output_type": "stream",
          "name": "stdout",
          "text": [
            "Ziyaret ediliyor: http://fs.hacettepe.edu.tr/abofisi/2021%20%C4%B0LAN/STAJ/h%C3%BCsbikkontenjan.pdf (Seviye: 2)\n"
          ]
        },
        {
          "output_type": "stream",
          "name": "stderr",
          "text": [
            "WARNING:bs4.dammit:Some characters could not be decoded, and were replaced with REPLACEMENT CHARACTER.\n"
          ]
        },
        {
          "output_type": "stream",
          "name": "stdout",
          "text": [
            "Ziyaret ediliyor: http://fs.hacettepe.edu.tr/abofisi/2021%20%C4%B0LAN/KA103%202021-2022%201.%20D%C3%B6nem%20Kesin%20Yerle%C5%9Ftirme%20Sonu%C3%A7lar%C4%B1.pdf (Seviye: 2)\n"
          ]
        },
        {
          "output_type": "stream",
          "name": "stderr",
          "text": [
            "WARNING:bs4.dammit:Some characters could not be decoded, and were replaced with REPLACEMENT CHARACTER.\n"
          ]
        },
        {
          "output_type": "stream",
          "name": "stdout",
          "text": [
            "Ziyaret ediliyor: http://fs.hacettepe.edu.tr/abofisi/2021%20%C4%B0LAN/STAJ/Staj%20Kesin%20Yerle%C5%9Ftirme%20Listesi%20-%20Kapal%C4%B1%20%C4%B0sim%20Liste%20(%C4%B0lan%20Versiyonu).pdf (Seviye: 2)\n"
          ]
        },
        {
          "output_type": "stream",
          "name": "stderr",
          "text": [
            "WARNING:bs4.dammit:Some characters could not be decoded, and were replaced with REPLACEMENT CHARACTER.\n"
          ]
        },
        {
          "output_type": "stream",
          "name": "stdout",
          "text": [
            "Ziyaret ediliyor: http://fs.hacettepe.edu.tr/abofisi/2021%20%C4%B0LAN/STAJ/S2021.pdf (Seviye: 2)\n"
          ]
        },
        {
          "output_type": "stream",
          "name": "stderr",
          "text": [
            "WARNING:bs4.dammit:Some characters could not be decoded, and were replaced with REPLACEMENT CHARACTER.\n"
          ]
        },
        {
          "output_type": "stream",
          "name": "stdout",
          "text": [
            "Ziyaret ediliyor: http://fs.hacettepe.edu.tr/abofisi/2021%20%C4%B0LAN/103-Ogrenim/KA103%20%C3%96%C4%9Frenim%20Hareketlili%C4%9Fi%202020-2021%20Ge%C3%A7i%C3%A7i%20Yerle%C5%9Ftirme%20Listesi.pdf (Seviye: 2)\n"
          ]
        },
        {
          "output_type": "stream",
          "name": "stderr",
          "text": [
            "WARNING:bs4.dammit:Some characters could not be decoded, and were replaced with REPLACEMENT CHARACTER.\n"
          ]
        },
        {
          "output_type": "stream",
          "name": "stdout",
          "text": [
            "Ziyaret ediliyor: http://fs.hacettepe.edu.tr/abofisi/2021%20%C4%B0LAN/STAJ/Staj%20Duyuru.pdf (Seviye: 2)\n"
          ]
        },
        {
          "output_type": "stream",
          "name": "stderr",
          "text": [
            "WARNING:bs4.dammit:Some characters could not be decoded, and were replaced with REPLACEMENT CHARACTER.\n"
          ]
        },
        {
          "output_type": "stream",
          "name": "stdout",
          "text": [
            "Ziyaret ediliyor: http://fs.hacettepe.edu.tr/abofisi/2021%20%C4%B0LAN/Bilgilendirme%20Oturumlar%C4%B1.pdf (Seviye: 2)\n"
          ]
        },
        {
          "output_type": "stream",
          "name": "stderr",
          "text": [
            "WARNING:bs4.dammit:Some characters could not be decoded, and were replaced with REPLACEMENT CHARACTER.\n"
          ]
        },
        {
          "output_type": "stream",
          "name": "stdout",
          "text": [
            "Ziyaret ediliyor: http://fs.hacettepe.edu.tr/abofisi/2021%20%C4%B0LAN/103-Ogrenim/kontenjan.pdf (Seviye: 2)\n"
          ]
        },
        {
          "output_type": "stream",
          "name": "stderr",
          "text": [
            "WARNING:bs4.dammit:Some characters could not be decoded, and were replaced with REPLACEMENT CHARACTER.\n"
          ]
        },
        {
          "output_type": "stream",
          "name": "stdout",
          "text": [
            "Ziyaret ediliyor: http://fs.hacettepe.edu.tr/abofisi/2021%20%C4%B0LAN/STAJ/2021%20kontenjan.pdf (Seviye: 2)\n"
          ]
        },
        {
          "output_type": "stream",
          "name": "stderr",
          "text": [
            "WARNING:bs4.dammit:Some characters could not be decoded, and were replaced with REPLACEMENT CHARACTER.\n"
          ]
        },
        {
          "output_type": "stream",
          "name": "stdout",
          "text": [
            "Ziyaret ediliyor: http://fs.hacettepe.edu.tr/abofisi/2021%20%C4%B0LAN/S%C4%B1nav%20Takvimi.pdf (Seviye: 2)\n"
          ]
        },
        {
          "output_type": "stream",
          "name": "stderr",
          "text": [
            "WARNING:bs4.dammit:Some characters could not be decoded, and were replaced with REPLACEMENT CHARACTER.\n"
          ]
        },
        {
          "output_type": "stream",
          "name": "stdout",
          "text": [
            "Ziyaret ediliyor: http://fs.hacettepe.edu.tr/abofisi/2021%20%C4%B0LAN/Dil%20Yeni.pdf (Seviye: 2)\n"
          ]
        },
        {
          "output_type": "error",
          "ename": "KeyboardInterrupt",
          "evalue": "",
          "traceback": [
            "\u001b[0;31m---------------------------------------------------------------------------\u001b[0m",
            "\u001b[0;31mKeyboardInterrupt\u001b[0m                         Traceback (most recent call last)",
            "\u001b[0;32m<ipython-input-6-01564f548768>\u001b[0m in \u001b[0;36m<cell line: 1>\u001b[0;34m()\u001b[0m\n\u001b[0;32m----> 1\u001b[0;31m \u001b[0mvisited_urls\u001b[0m \u001b[0;34m=\u001b[0m \u001b[0mcrawl\u001b[0m\u001b[0;34m(\u001b[0m\u001b[0mstart_url\u001b[0m\u001b[0;34m,\u001b[0m \u001b[0mdepth\u001b[0m\u001b[0;34m)\u001b[0m\u001b[0;34m\u001b[0m\u001b[0;34m\u001b[0m\u001b[0m\n\u001b[0m\u001b[1;32m      2\u001b[0m \u001b[0msave_results\u001b[0m\u001b[0;34m(\u001b[0m\u001b[0mvisited_urls\u001b[0m\u001b[0;34m)\u001b[0m\u001b[0;34m\u001b[0m\u001b[0;34m\u001b[0m\u001b[0m\n",
            "\u001b[0;32m<ipython-input-4-342553f58fce>\u001b[0m in \u001b[0;36mcrawl\u001b[0;34m(start_url, depth)\u001b[0m\n\u001b[1;32m     12\u001b[0m \u001b[0;34m\u001b[0m\u001b[0m\n\u001b[1;32m     13\u001b[0m         \u001b[0;32mif\u001b[0m \u001b[0mcurrent_depth\u001b[0m \u001b[0;34m<\u001b[0m \u001b[0mdepth\u001b[0m\u001b[0;34m:\u001b[0m\u001b[0;34m\u001b[0m\u001b[0;34m\u001b[0m\u001b[0m\n\u001b[0;32m---> 14\u001b[0;31m             \u001b[0;32mfor\u001b[0m \u001b[0mlink\u001b[0m \u001b[0;32min\u001b[0m \u001b[0mget_links\u001b[0m\u001b[0;34m(\u001b[0m\u001b[0murl\u001b[0m\u001b[0;34m)\u001b[0m\u001b[0;34m:\u001b[0m\u001b[0;34m\u001b[0m\u001b[0;34m\u001b[0m\u001b[0m\n\u001b[0m\u001b[1;32m     15\u001b[0m                 \u001b[0mto_visit\u001b[0m\u001b[0;34m.\u001b[0m\u001b[0mappend\u001b[0m\u001b[0;34m(\u001b[0m\u001b[0;34m(\u001b[0m\u001b[0mlink\u001b[0m\u001b[0;34m,\u001b[0m \u001b[0mcurrent_depth\u001b[0m \u001b[0;34m+\u001b[0m \u001b[0;36m1\u001b[0m\u001b[0;34m)\u001b[0m\u001b[0;34m)\u001b[0m\u001b[0;34m\u001b[0m\u001b[0;34m\u001b[0m\u001b[0m\n\u001b[1;32m     16\u001b[0m \u001b[0;34m\u001b[0m\u001b[0m\n",
            "\u001b[0;32m<ipython-input-3-a1364bffea46>\u001b[0m in \u001b[0;36mget_links\u001b[0;34m(url)\u001b[0m\n\u001b[1;32m      3\u001b[0m         \u001b[0mresponse\u001b[0m \u001b[0;34m=\u001b[0m \u001b[0mrequests\u001b[0m\u001b[0;34m.\u001b[0m\u001b[0mget\u001b[0m\u001b[0;34m(\u001b[0m\u001b[0murl\u001b[0m\u001b[0;34m)\u001b[0m\u001b[0;34m\u001b[0m\u001b[0;34m\u001b[0m\u001b[0m\n\u001b[1;32m      4\u001b[0m         \u001b[0mresponse\u001b[0m\u001b[0;34m.\u001b[0m\u001b[0mraise_for_status\u001b[0m\u001b[0;34m(\u001b[0m\u001b[0;34m)\u001b[0m\u001b[0;34m\u001b[0m\u001b[0;34m\u001b[0m\u001b[0m\n\u001b[0;32m----> 5\u001b[0;31m         \u001b[0msoup\u001b[0m \u001b[0;34m=\u001b[0m \u001b[0mBeautifulSoup\u001b[0m\u001b[0;34m(\u001b[0m\u001b[0mresponse\u001b[0m\u001b[0;34m.\u001b[0m\u001b[0mcontent\u001b[0m\u001b[0;34m,\u001b[0m \u001b[0;34m'html.parser'\u001b[0m\u001b[0;34m)\u001b[0m\u001b[0;34m\u001b[0m\u001b[0;34m\u001b[0m\u001b[0m\n\u001b[0m\u001b[1;32m      6\u001b[0m         \u001b[0mlinks\u001b[0m \u001b[0;34m=\u001b[0m \u001b[0;34m[\u001b[0m\u001b[0;34m]\u001b[0m\u001b[0;34m\u001b[0m\u001b[0;34m\u001b[0m\u001b[0m\n\u001b[1;32m      7\u001b[0m \u001b[0;34m\u001b[0m\u001b[0m\n",
            "\u001b[0;32m/usr/local/lib/python3.10/dist-packages/bs4/__init__.py\u001b[0m in \u001b[0;36m__init__\u001b[0;34m(self, markup, features, builder, parse_only, from_encoding, exclude_encodings, element_classes, **kwargs)\u001b[0m\n\u001b[1;32m    326\u001b[0m         \u001b[0mrejections\u001b[0m \u001b[0;34m=\u001b[0m \u001b[0;34m[\u001b[0m\u001b[0;34m]\u001b[0m\u001b[0;34m\u001b[0m\u001b[0;34m\u001b[0m\u001b[0m\n\u001b[1;32m    327\u001b[0m         \u001b[0msuccess\u001b[0m \u001b[0;34m=\u001b[0m \u001b[0;32mFalse\u001b[0m\u001b[0;34m\u001b[0m\u001b[0;34m\u001b[0m\u001b[0m\n\u001b[0;32m--> 328\u001b[0;31m         for (self.markup, self.original_encoding, self.declared_html_encoding,\n\u001b[0m\u001b[1;32m    329\u001b[0m          \u001b[0mself\u001b[0m\u001b[0;34m.\u001b[0m\u001b[0mcontains_replacement_characters\u001b[0m\u001b[0;34m)\u001b[0m \u001b[0;32min\u001b[0m \u001b[0;34m(\u001b[0m\u001b[0;34m\u001b[0m\u001b[0;34m\u001b[0m\u001b[0m\n\u001b[1;32m    330\u001b[0m              self.builder.prepare_markup(\n",
            "\u001b[0;32m/usr/local/lib/python3.10/dist-packages/bs4/builder/_htmlparser.py\u001b[0m in \u001b[0;36mprepare_markup\u001b[0;34m(self, markup, user_specified_encoding, document_declared_encoding, exclude_encodings)\u001b[0m\n\u001b[1;32m    359\u001b[0m \u001b[0;34m\u001b[0m\u001b[0m\n\u001b[1;32m    360\u001b[0m         \u001b[0mtry_encodings\u001b[0m \u001b[0;34m=\u001b[0m \u001b[0;34m[\u001b[0m\u001b[0muser_specified_encoding\u001b[0m\u001b[0;34m,\u001b[0m \u001b[0mdocument_declared_encoding\u001b[0m\u001b[0;34m]\u001b[0m\u001b[0;34m\u001b[0m\u001b[0;34m\u001b[0m\u001b[0m\n\u001b[0;32m--> 361\u001b[0;31m         dammit = UnicodeDammit(\n\u001b[0m\u001b[1;32m    362\u001b[0m             \u001b[0mmarkup\u001b[0m\u001b[0;34m,\u001b[0m\u001b[0;34m\u001b[0m\u001b[0;34m\u001b[0m\u001b[0m\n\u001b[1;32m    363\u001b[0m             \u001b[0mknown_definite_encodings\u001b[0m\u001b[0;34m=\u001b[0m\u001b[0mknown_definite_encodings\u001b[0m\u001b[0;34m,\u001b[0m\u001b[0;34m\u001b[0m\u001b[0;34m\u001b[0m\u001b[0m\n",
            "\u001b[0;32m/usr/local/lib/python3.10/dist-packages/bs4/dammit.py\u001b[0m in \u001b[0;36m__init__\u001b[0;34m(self, markup, known_definite_encodings, smart_quotes_to, is_html, exclude_encodings, user_encodings, override_encodings)\u001b[0m\n\u001b[1;32m    609\u001b[0m             \u001b[0;31m# try them again with character replacement.\u001b[0m\u001b[0;34m\u001b[0m\u001b[0;34m\u001b[0m\u001b[0m\n\u001b[1;32m    610\u001b[0m \u001b[0;34m\u001b[0m\u001b[0m\n\u001b[0;32m--> 611\u001b[0;31m             \u001b[0;32mfor\u001b[0m \u001b[0mencoding\u001b[0m \u001b[0;32min\u001b[0m \u001b[0mself\u001b[0m\u001b[0;34m.\u001b[0m\u001b[0mdetector\u001b[0m\u001b[0;34m.\u001b[0m\u001b[0mencodings\u001b[0m\u001b[0;34m:\u001b[0m\u001b[0;34m\u001b[0m\u001b[0;34m\u001b[0m\u001b[0m\n\u001b[0m\u001b[1;32m    612\u001b[0m                 \u001b[0;32mif\u001b[0m \u001b[0mencoding\u001b[0m \u001b[0;34m!=\u001b[0m \u001b[0;34m\"ascii\"\u001b[0m\u001b[0;34m:\u001b[0m\u001b[0;34m\u001b[0m\u001b[0;34m\u001b[0m\u001b[0m\n\u001b[1;32m    613\u001b[0m                     \u001b[0mu\u001b[0m \u001b[0;34m=\u001b[0m \u001b[0mself\u001b[0m\u001b[0;34m.\u001b[0m\u001b[0m_convert_from\u001b[0m\u001b[0;34m(\u001b[0m\u001b[0mencoding\u001b[0m\u001b[0;34m,\u001b[0m \u001b[0;34m\"replace\"\u001b[0m\u001b[0;34m)\u001b[0m\u001b[0;34m\u001b[0m\u001b[0;34m\u001b[0m\u001b[0m\n",
            "\u001b[0;32m/usr/local/lib/python3.10/dist-packages/bs4/dammit.py\u001b[0m in \u001b[0;36mencodings\u001b[0;34m(self)\u001b[0m\n\u001b[1;32m    440\u001b[0m         \u001b[0;31m# encoding.\u001b[0m\u001b[0;34m\u001b[0m\u001b[0;34m\u001b[0m\u001b[0m\n\u001b[1;32m    441\u001b[0m         \u001b[0;32mif\u001b[0m \u001b[0mself\u001b[0m\u001b[0;34m.\u001b[0m\u001b[0mchardet_encoding\u001b[0m \u001b[0;32mis\u001b[0m \u001b[0;32mNone\u001b[0m\u001b[0;34m:\u001b[0m\u001b[0;34m\u001b[0m\u001b[0;34m\u001b[0m\u001b[0m\n\u001b[0;32m--> 442\u001b[0;31m             \u001b[0mself\u001b[0m\u001b[0;34m.\u001b[0m\u001b[0mchardet_encoding\u001b[0m \u001b[0;34m=\u001b[0m \u001b[0mchardet_dammit\u001b[0m\u001b[0;34m(\u001b[0m\u001b[0mself\u001b[0m\u001b[0;34m.\u001b[0m\u001b[0mmarkup\u001b[0m\u001b[0;34m)\u001b[0m\u001b[0;34m\u001b[0m\u001b[0;34m\u001b[0m\u001b[0m\n\u001b[0m\u001b[1;32m    443\u001b[0m         \u001b[0;32mif\u001b[0m \u001b[0mself\u001b[0m\u001b[0;34m.\u001b[0m\u001b[0m_usable\u001b[0m\u001b[0;34m(\u001b[0m\u001b[0mself\u001b[0m\u001b[0;34m.\u001b[0m\u001b[0mchardet_encoding\u001b[0m\u001b[0;34m,\u001b[0m \u001b[0mtried\u001b[0m\u001b[0;34m)\u001b[0m\u001b[0;34m:\u001b[0m\u001b[0;34m\u001b[0m\u001b[0;34m\u001b[0m\u001b[0m\n\u001b[1;32m    444\u001b[0m             \u001b[0;32myield\u001b[0m \u001b[0mself\u001b[0m\u001b[0;34m.\u001b[0m\u001b[0mchardet_encoding\u001b[0m\u001b[0;34m\u001b[0m\u001b[0;34m\u001b[0m\u001b[0m\n",
            "\u001b[0;32m/usr/local/lib/python3.10/dist-packages/bs4/dammit.py\u001b[0m in \u001b[0;36mchardet_dammit\u001b[0;34m(s)\u001b[0m\n\u001b[1;32m     44\u001b[0m         \u001b[0;32mif\u001b[0m \u001b[0misinstance\u001b[0m\u001b[0;34m(\u001b[0m\u001b[0ms\u001b[0m\u001b[0;34m,\u001b[0m \u001b[0mstr\u001b[0m\u001b[0;34m)\u001b[0m\u001b[0;34m:\u001b[0m\u001b[0;34m\u001b[0m\u001b[0;34m\u001b[0m\u001b[0m\n\u001b[1;32m     45\u001b[0m             \u001b[0;32mreturn\u001b[0m \u001b[0;32mNone\u001b[0m\u001b[0;34m\u001b[0m\u001b[0;34m\u001b[0m\u001b[0m\n\u001b[0;32m---> 46\u001b[0;31m         \u001b[0;32mreturn\u001b[0m \u001b[0mchardet_module\u001b[0m\u001b[0;34m.\u001b[0m\u001b[0mdetect\u001b[0m\u001b[0;34m(\u001b[0m\u001b[0ms\u001b[0m\u001b[0;34m)\u001b[0m\u001b[0;34m[\u001b[0m\u001b[0;34m'encoding'\u001b[0m\u001b[0;34m]\u001b[0m\u001b[0;34m\u001b[0m\u001b[0;34m\u001b[0m\u001b[0m\n\u001b[0m\u001b[1;32m     47\u001b[0m \u001b[0;32melse\u001b[0m\u001b[0;34m:\u001b[0m\u001b[0;34m\u001b[0m\u001b[0;34m\u001b[0m\u001b[0m\n\u001b[1;32m     48\u001b[0m     \u001b[0;32mdef\u001b[0m \u001b[0mchardet_dammit\u001b[0m\u001b[0;34m(\u001b[0m\u001b[0ms\u001b[0m\u001b[0;34m)\u001b[0m\u001b[0;34m:\u001b[0m\u001b[0;34m\u001b[0m\u001b[0;34m\u001b[0m\u001b[0m\n",
            "\u001b[0;32m/usr/local/lib/python3.10/dist-packages/chardet/__init__.py\u001b[0m in \u001b[0;36mdetect\u001b[0;34m(byte_str, should_rename_legacy)\u001b[0m\n\u001b[1;32m     47\u001b[0m         \u001b[0mbyte_str\u001b[0m \u001b[0;34m=\u001b[0m \u001b[0mbytearray\u001b[0m\u001b[0;34m(\u001b[0m\u001b[0mbyte_str\u001b[0m\u001b[0;34m)\u001b[0m\u001b[0;34m\u001b[0m\u001b[0;34m\u001b[0m\u001b[0m\n\u001b[1;32m     48\u001b[0m     \u001b[0mdetector\u001b[0m \u001b[0;34m=\u001b[0m \u001b[0mUniversalDetector\u001b[0m\u001b[0;34m(\u001b[0m\u001b[0mshould_rename_legacy\u001b[0m\u001b[0;34m=\u001b[0m\u001b[0mshould_rename_legacy\u001b[0m\u001b[0;34m)\u001b[0m\u001b[0;34m\u001b[0m\u001b[0;34m\u001b[0m\u001b[0m\n\u001b[0;32m---> 49\u001b[0;31m     \u001b[0mdetector\u001b[0m\u001b[0;34m.\u001b[0m\u001b[0mfeed\u001b[0m\u001b[0;34m(\u001b[0m\u001b[0mbyte_str\u001b[0m\u001b[0;34m)\u001b[0m\u001b[0;34m\u001b[0m\u001b[0;34m\u001b[0m\u001b[0m\n\u001b[0m\u001b[1;32m     50\u001b[0m     \u001b[0;32mreturn\u001b[0m \u001b[0mdetector\u001b[0m\u001b[0;34m.\u001b[0m\u001b[0mclose\u001b[0m\u001b[0;34m(\u001b[0m\u001b[0;34m)\u001b[0m\u001b[0;34m\u001b[0m\u001b[0;34m\u001b[0m\u001b[0m\n\u001b[1;32m     51\u001b[0m \u001b[0;34m\u001b[0m\u001b[0m\n",
            "\u001b[0;32m/usr/local/lib/python3.10/dist-packages/chardet/universaldetector.py\u001b[0m in \u001b[0;36mfeed\u001b[0;34m(self, byte_str)\u001b[0m\n\u001b[1;32m    272\u001b[0m                 \u001b[0mself\u001b[0m\u001b[0;34m.\u001b[0m\u001b[0m_charset_probers\u001b[0m\u001b[0;34m.\u001b[0m\u001b[0mappend\u001b[0m\u001b[0;34m(\u001b[0m\u001b[0mMacRomanProber\u001b[0m\u001b[0;34m(\u001b[0m\u001b[0;34m)\u001b[0m\u001b[0;34m)\u001b[0m\u001b[0;34m\u001b[0m\u001b[0;34m\u001b[0m\u001b[0m\n\u001b[1;32m    273\u001b[0m             \u001b[0;32mfor\u001b[0m \u001b[0mprober\u001b[0m \u001b[0;32min\u001b[0m \u001b[0mself\u001b[0m\u001b[0;34m.\u001b[0m\u001b[0m_charset_probers\u001b[0m\u001b[0;34m:\u001b[0m\u001b[0;34m\u001b[0m\u001b[0;34m\u001b[0m\u001b[0m\n\u001b[0;32m--> 274\u001b[0;31m                 \u001b[0;32mif\u001b[0m \u001b[0mprober\u001b[0m\u001b[0;34m.\u001b[0m\u001b[0mfeed\u001b[0m\u001b[0;34m(\u001b[0m\u001b[0mbyte_str\u001b[0m\u001b[0;34m)\u001b[0m \u001b[0;34m==\u001b[0m \u001b[0mProbingState\u001b[0m\u001b[0;34m.\u001b[0m\u001b[0mFOUND_IT\u001b[0m\u001b[0;34m:\u001b[0m\u001b[0;34m\u001b[0m\u001b[0;34m\u001b[0m\u001b[0m\n\u001b[0m\u001b[1;32m    275\u001b[0m                     self.result = {\n\u001b[1;32m    276\u001b[0m                         \u001b[0;34m\"encoding\"\u001b[0m\u001b[0;34m:\u001b[0m \u001b[0mprober\u001b[0m\u001b[0;34m.\u001b[0m\u001b[0mcharset_name\u001b[0m\u001b[0;34m,\u001b[0m\u001b[0;34m\u001b[0m\u001b[0;34m\u001b[0m\u001b[0m\n",
            "\u001b[0;32m/usr/local/lib/python3.10/dist-packages/chardet/charsetgroupprober.py\u001b[0m in \u001b[0;36mfeed\u001b[0;34m(self, byte_str)\u001b[0m\n\u001b[1;32m     68\u001b[0m             \u001b[0;32mif\u001b[0m \u001b[0;32mnot\u001b[0m \u001b[0mprober\u001b[0m\u001b[0;34m.\u001b[0m\u001b[0mactive\u001b[0m\u001b[0;34m:\u001b[0m\u001b[0;34m\u001b[0m\u001b[0;34m\u001b[0m\u001b[0m\n\u001b[1;32m     69\u001b[0m                 \u001b[0;32mcontinue\u001b[0m\u001b[0;34m\u001b[0m\u001b[0;34m\u001b[0m\u001b[0m\n\u001b[0;32m---> 70\u001b[0;31m             \u001b[0mstate\u001b[0m \u001b[0;34m=\u001b[0m \u001b[0mprober\u001b[0m\u001b[0;34m.\u001b[0m\u001b[0mfeed\u001b[0m\u001b[0;34m(\u001b[0m\u001b[0mbyte_str\u001b[0m\u001b[0;34m)\u001b[0m\u001b[0;34m\u001b[0m\u001b[0;34m\u001b[0m\u001b[0m\n\u001b[0m\u001b[1;32m     71\u001b[0m             \u001b[0;32mif\u001b[0m \u001b[0;32mnot\u001b[0m \u001b[0mstate\u001b[0m\u001b[0;34m:\u001b[0m\u001b[0;34m\u001b[0m\u001b[0;34m\u001b[0m\u001b[0m\n\u001b[1;32m     72\u001b[0m                 \u001b[0;32mcontinue\u001b[0m\u001b[0;34m\u001b[0m\u001b[0;34m\u001b[0m\u001b[0m\n",
            "\u001b[0;32m/usr/local/lib/python3.10/dist-packages/chardet/sbcharsetprober.py\u001b[0m in \u001b[0;36mfeed\u001b[0;34m(self, byte_str)\u001b[0m\n\u001b[1;32m    111\u001b[0m             \u001b[0;32mif\u001b[0m \u001b[0morder\u001b[0m \u001b[0;34m<\u001b[0m \u001b[0mCharacterCategory\u001b[0m\u001b[0;34m.\u001b[0m\u001b[0mCONTROL\u001b[0m\u001b[0;34m:\u001b[0m\u001b[0;34m\u001b[0m\u001b[0;34m\u001b[0m\u001b[0m\n\u001b[1;32m    112\u001b[0m                 \u001b[0mself\u001b[0m\u001b[0;34m.\u001b[0m\u001b[0m_total_char\u001b[0m \u001b[0;34m+=\u001b[0m \u001b[0;36m1\u001b[0m\u001b[0;34m\u001b[0m\u001b[0;34m\u001b[0m\u001b[0m\n\u001b[0;32m--> 113\u001b[0;31m             \u001b[0;32mif\u001b[0m \u001b[0morder\u001b[0m \u001b[0;34m<\u001b[0m \u001b[0mself\u001b[0m\u001b[0;34m.\u001b[0m\u001b[0mSAMPLE_SIZE\u001b[0m\u001b[0;34m:\u001b[0m\u001b[0;34m\u001b[0m\u001b[0;34m\u001b[0m\u001b[0m\n\u001b[0m\u001b[1;32m    114\u001b[0m                 \u001b[0mself\u001b[0m\u001b[0;34m.\u001b[0m\u001b[0m_freq_char\u001b[0m \u001b[0;34m+=\u001b[0m \u001b[0;36m1\u001b[0m\u001b[0;34m\u001b[0m\u001b[0;34m\u001b[0m\u001b[0m\n\u001b[1;32m    115\u001b[0m                 \u001b[0;32mif\u001b[0m \u001b[0mself\u001b[0m\u001b[0;34m.\u001b[0m\u001b[0m_last_order\u001b[0m \u001b[0;34m<\u001b[0m \u001b[0mself\u001b[0m\u001b[0;34m.\u001b[0m\u001b[0mSAMPLE_SIZE\u001b[0m\u001b[0;34m:\u001b[0m\u001b[0;34m\u001b[0m\u001b[0;34m\u001b[0m\u001b[0m\n",
            "\u001b[0;31mKeyboardInterrupt\u001b[0m: "
          ]
        }
      ]
    }
  ]
}